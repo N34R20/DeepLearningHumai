{
  "cells": [
    {
      "cell_type": "markdown",
      "metadata": {
        "id": "kaxr86i2hnX-"
      },
      "source": [
        "<a href=\"https://colab.research.google.com/github/institutohumai/cursos-python/blob/master/DeepLearning/2_RedesDeUnaCapa/ejercicios/ejercicios.ipynb\" target=\"_parent\"><img src=\"https://colab.research.google.com/assets/colab-badge.svg\" alt=\"Open in Colab\"/></a>"
      ]
    },
    {
      "cell_type": "markdown",
      "metadata": {
        "id": "lgsT9jksm5LF"
      },
      "source": [
        "# Ejercicios para la clase 2\n",
        "\n"
      ]
    },
    {
      "cell_type": "markdown",
      "metadata": {
        "id": "KEwhMG1-wDZw"
      },
      "source": [
        "En este notebook vamos a retomar el ejemplo de la red neuronal entrenada para clasificar FashionMNIST. Si bien ese ejemplo tiene todos los pasos necesarios para entrenar la red, varios de esos pasos sirven para entrenar cualquier otro modelo. Así que vamos a tratar de modularizarlo de manera que el código sea reutilizable.\n",
        "\n",
        "Arranquemos importando los módulos necesarios."
      ]
    },
    {
      "cell_type": "code",
      "execution_count": 1,
      "metadata": {
        "id": "_IKoVRbjSfc6",
        "origin_pos": 2,
        "tab": [
          "pytorch"
        ]
      },
      "outputs": [],
      "source": [
        "import torch\n",
        "import torchvision\n",
        "from IPython import display\n",
        "from torchvision import transforms\n",
        "from torch.utils import data"
      ]
    },
    {
      "cell_type": "markdown",
      "metadata": {
        "id": "_ZRZy4UfRQhB"
      },
      "source": [
        "Volvemos a definir la función que crea los Datasets y devuelve los DataLoaders para poder iterar sobre ellos."
      ]
    },
    {
      "cell_type": "code",
      "execution_count": 2,
      "metadata": {
        "id": "5wo108R04-B3"
      },
      "outputs": [],
      "source": [
        "def load_data_fashion_mnist(batch_size, resize=None):\n",
        "    trans = [transforms.ToTensor()]\n",
        "    if resize:\n",
        "        trans.insert(0, transforms.Resize(resize))\n",
        "    trans = transforms.Compose(trans)\n",
        "    mnist_train = torchvision.datasets.FashionMNIST(\n",
        "        root=\"../data\", train=True, transform=trans, download=True)\n",
        "    mnist_test = torchvision.datasets.FashionMNIST(\n",
        "        root=\"../data\", train=False, transform=trans, download=True)\n",
        "    return (data.DataLoader(mnist_train, batch_size, shuffle=True,\n",
        "                            num_workers=1),\n",
        "            data.DataLoader(mnist_test, batch_size, shuffle=False,\n",
        "                            num_workers=1))\n"
      ]
    },
    {
      "cell_type": "markdown",
      "metadata": {
        "id": "8xbesO6LRS_G"
      },
      "source": [
        "También definimos una función que devuelve la cantidad de aciertos del modelo a partir de un tensor de predicciones y otro de etiquetas."
      ]
    },
    {
      "cell_type": "code",
      "execution_count": 3,
      "metadata": {
        "id": "UrSYLgd4SfdP",
        "origin_pos": 27,
        "tab": [
          "pytorch"
        ]
      },
      "outputs": [],
      "source": [
        "def accuracy(y_hat, y):\n",
        "    \"\"\"Compute the number of correct predictions.\"\"\"\n",
        "    if len(y_hat.shape) > 1 and y_hat.shape[1] > 1:\n",
        "        y_hat = y_hat.argmax(axis=1)\n",
        "    cmp = y_hat.type(y.dtype) == y\n",
        "    return float(cmp.type(y.dtype).sum())"
      ]
    },
    {
      "cell_type": "markdown",
      "metadata": {
        "id": "aZkInvacReE4"
      },
      "source": [
        "Volvemos a definir el modelo con una capa de 10 neuronas para hacer la clasificación e inicializamos sus pesos aleatoriamente con una distribución gaussiana."
      ]
    },
    {
      "cell_type": "code",
      "execution_count": 4,
      "metadata": {
        "id": "DBFL4_UxSYQc",
        "origin_pos": 7,
        "tab": [
          "pytorch"
        ]
      },
      "outputs": [],
      "source": [
        "net = torch.nn.Sequential(torch.nn.Flatten(), torch.nn.Linear(784, 10))\n",
        "\n",
        "def init_weights(m):\n",
        "    if type(m) == torch.nn.Linear:\n",
        "        torch.nn.init.normal_(m.weight, std=0.01)\n",
        "\n",
        "net.apply(init_weights);"
      ]
    },
    {
      "cell_type": "markdown",
      "metadata": {
        "id": "OKCx8gJfRiTc"
      },
      "source": [
        "Definimos la entropía cruzada como función de perdida y el descenso de gradiente estocástico como algoritmo de optimización."
      ]
    },
    {
      "cell_type": "code",
      "execution_count": 5,
      "metadata": {
        "id": "VlPHONcmSYQf",
        "origin_pos": 11,
        "tab": [
          "pytorch"
        ]
      },
      "outputs": [],
      "source": [
        "loss = torch.nn.CrossEntropyLoss(reduction='none')\n",
        "lr = 0.1\n",
        "trainer = torch.optim.SGD(net.parameters(), lr)"
      ]
    },
    {
      "cell_type": "markdown",
      "metadata": {
        "id": "uFeFfZzK0KIO"
      },
      "source": [
        "Y por último, definimos una función que lleva adelante el entrenamiento completo."
      ]
    },
    {
      "cell_type": "code",
      "execution_count": 6,
      "metadata": {
        "id": "JkWvYfcnyIw9"
      },
      "outputs": [],
      "source": [
        "def train(net, train_iter, test_iter, loss, num_epochs, updater):\n",
        "  '''\n",
        "  Lleva adelante el entrenamiento completo llamando a funciones internas\n",
        "  que modularizan el ciclo de entrenamiento.\n",
        "\n",
        "    Parámetros:\n",
        "            net: la red neuronal que se va a entrenar\n",
        "            train_iter: iterador de datos de entrenamiento\n",
        "            test_iter: iterador de datos de prueba\n",
        "            loss: función de perdida a minimizar\n",
        "            num_epoch: cantidad de épocas a entrenar\n",
        "            updater: algoritmo de optimización\n",
        "\n",
        "    Salida:\n",
        "            metrics: una lista de tuplas (una para cada epoch)\n",
        "              con las siguientes componentes\n",
        "              - epoch: número de época\n",
        "              - L: pérdida calculada\n",
        "              - Acc: accuracy de entrenamiento calculada\n",
        "              - TestAcc: accuracy de prueba calculada\n",
        "  '''\n",
        "  metrics =[]\n",
        "  for epoch in range(num_epochs):\n",
        "      L, Acc = train_epoch(net, train_iter, loss, updater)\n",
        "      TestAcc = test_accuracy(net, test_iter)\n",
        "      metric = (epoch + 1, L, Acc, TestAcc)\n",
        "      print(metric)\n",
        "      metrics.append(metric)\n",
        "  return metrics\n"
      ]
    },
    {
      "cell_type": "markdown",
      "metadata": {
        "id": "J1rb67LYPG0o"
      },
      "source": [
        "## Ejercicio 1\n",
        "\n",
        "Implementar la función `train_epoch()` que lleva adelante el entrenamiento de una época."
      ]
    },
    {
      "cell_type": "code",
      "execution_count": 7,
      "metadata": {
        "id": "n-j-GPHgzHhx"
      },
      "outputs": [],
      "source": [
        "def train_epoch(net, train_iter, loss, updater):\n",
        "  '''\n",
        "  Lleva adelante el entrenamiento de una sola época.\n",
        "\n",
        "    Parámetros:\n",
        "            net: la red neuronal que se va a entrenar\n",
        "            train_iter: iterador de datos de entrenamiento\n",
        "            loss: función de perdida a minimizar\n",
        "            updater: algoritmo de optimización\n",
        "\n",
        "    Salida:\n",
        "            L: pérdida calculada\n",
        "            Acc: accuracy de entrenamiento calculada\n",
        "  '''\n",
        "  # inserte su código aquí\n",
        "  Acc = 0.0\n",
        "  L = 0.0\n",
        "  N = 0.0\n",
        "  for X, y in train_iter:\n",
        "    l = loss(net(X), y)\n",
        "    updater.zero_grad()\n",
        "    l.sum().backward()\n",
        "    updater.step()\n",
        "    with torch.no_grad():\n",
        "\n",
        "      L += l.sum()\n",
        "      N += l.numel()\n",
        "      Acc += accuracy(net(X), y)\n",
        "\n",
        "\n",
        "  return L/N, Acc/N\n"
      ]
    },
    {
      "cell_type": "markdown",
      "metadata": {
        "id": "tUDesTD05Ern"
      },
      "source": [
        "## Ejercicio 2\n",
        "\n",
        "Implementar la función `test_accuracy()` que lleva adelante la evaluación de la performance de la red con los datos de prueba."
      ]
    },
    {
      "cell_type": "code",
      "execution_count": 8,
      "metadata": {
        "id": "M6FI7Ym-wFpS"
      },
      "outputs": [],
      "source": [
        "def test_accuracy(net, test_iter):\n",
        "  '''\n",
        "  Evalúa los resultados del entrenamiento de una sola época.\n",
        "\n",
        "    Parámetros:\n",
        "            net: la red neuronal que se va a evaluar\n",
        "            test_iter: iterador de datos de prueba\n",
        "\n",
        "    Salida:\n",
        "            - TestAcc: accuracy de prueba calculada\n",
        "  '''\n",
        "  # inserte su código aquí\n",
        "  TestN = 0.0\n",
        "  TestAcc = 0.0\n",
        "  for X, y in test_iter:\n",
        "    TestN += y.numel()\n",
        "    TestAcc += accuracy(net(X), y)\n",
        "  return TestAcc/TestN\n"
      ]
    },
    {
      "cell_type": "markdown",
      "metadata": {
        "id": "MeLMq-kc6_EH"
      },
      "source": [
        "## Ejercicio 3\n",
        "\n",
        "Utilizar las funciones anteriores para entrenar efectivamente a la red. Entrenarla por 10 epochs y con lotes de tamaño 256."
      ]
    },
    {
      "cell_type": "code",
      "execution_count": 9,
      "metadata": {
        "id": "5tD0w1U0R6xO",
        "outputId": "0c26450d-06df-4af6-9157-b9e2d7018612",
        "colab": {
          "base_uri": "https://localhost:8080/"
        }
      },
      "outputs": [
        {
          "output_type": "stream",
          "name": "stdout",
          "text": [
            "(1, tensor(91.1076), 0.69965, 0.7723)\n",
            "(2, tensor(49.6890), 0.7717166666666667, 0.8049)\n",
            "(3, tensor(45.9686), 0.78455, 0.8268)\n",
            "(4, tensor(43.9428), 0.7922666666666667, 0.8091)\n",
            "(5, tensor(39.3886), 0.7958, 0.8291)\n",
            "(6, tensor(39.9618), 0.8014166666666667, 0.8189)\n",
            "(7, tensor(40.1097), 0.80235, 0.8206)\n",
            "(8, tensor(39.1889), 0.80185, 0.8048)\n",
            "(9, tensor(37.1944), 0.80465, 0.834)\n",
            "(10, tensor(37.4468), 0.8056833333333333, 0.7262)\n"
          ]
        }
      ],
      "source": [
        "#inserte su código aquí\n",
        "num_epochs = 10\n",
        "batch_size = 256\n",
        "train_iter, test_iter = load_data_fashion_mnist(batch_size, resize=None)\n",
        "\n",
        "#inicializamos parametros aleatorios\n",
        "W = torch.normal(0, 0.01, size=(2,1), requires_grad=True)\n",
        "b = torch.zeros(1, requires_grad=True)\n",
        "\n",
        "metrics = train(net, train_iter, test_iter, loss, num_epochs, trainer)"
      ]
    },
    {
      "cell_type": "markdown",
      "metadata": {
        "id": "DtyCl3ZyEyjL"
      },
      "source": [
        "## Ejercicio 4\n",
        "Graficar la evolución de los valores de el accuracy de entrenamiento, el accuracy de prueba y la pérdida en función de las épocas."
      ]
    },
    {
      "cell_type": "code",
      "execution_count": 10,
      "metadata": {
        "id": "7MctBmcjbGwZ",
        "outputId": "3696a381-92d2-4f59-dab5-5f16af1f2b3b",
        "colab": {
          "base_uri": "https://localhost:8080/",
          "height": 576
        }
      },
      "outputs": [
        {
          "output_type": "stream",
          "name": "stdout",
          "text": [
            "[(1, tensor(91.1076), 0.69965, 0.7723), (2, tensor(49.6890), 0.7717166666666667, 0.8049), (3, tensor(45.9686), 0.78455, 0.8268), (4, tensor(43.9428), 0.7922666666666667, 0.8091), (5, tensor(39.3886), 0.7958, 0.8291), (6, tensor(39.9618), 0.8014166666666667, 0.8189), (7, tensor(40.1097), 0.80235, 0.8206), (8, tensor(39.1889), 0.80185, 0.8048), (9, tensor(37.1944), 0.80465, 0.834), (10, tensor(37.4468), 0.8056833333333333, 0.7262)]\n",
            "[1, 2, 3, 4, 5, 6, 7, 8, 9, 10]\n",
            "[tensor(91.1076), tensor(49.6890), tensor(45.9686), tensor(43.9428), tensor(39.3886), tensor(39.9618), tensor(40.1097), tensor(39.1889), tensor(37.1944), tensor(37.4468)]\n",
            "[0.69965, 0.7717166666666667, 0.78455, 0.7922666666666667, 0.7958, 0.8014166666666667, 0.80235, 0.80185, 0.80465, 0.8056833333333333]\n",
            "[0.7723, 0.8049, 0.8268, 0.8091, 0.8291, 0.8189, 0.8206, 0.8048, 0.834, 0.7262]\n"
          ]
        },
        {
          "output_type": "execute_result",
          "data": {
            "text/plain": [
              "[<matplotlib.lines.Line2D at 0x7841f69947f0>]"
            ]
          },
          "metadata": {},
          "execution_count": 10
        },
        {
          "output_type": "display_data",
          "data": {
            "text/plain": [
              "<Figure size 640x480 with 1 Axes>"
            ],
            "image/png": "[encoded data removed]"
          },
          "metadata": {}
        }
      ],
      "source": [
        "#inserte su código aquí\n",
        "import matplotlib.pyplot as plt\n",
        "\n",
        "print(metrics)\n",
        "\n",
        "indices = [i[0] for i in metrics]\n",
        "print(indices)\n",
        "\n",
        "acc_loss = [i[1].detach() for i in metrics]\n",
        "print(acc_loss)\n",
        "\n",
        "acc_train = [i[2] for i in metrics]\n",
        "print(acc_train)\n",
        "\n",
        "acc_test = [i[3] for i in metrics]\n",
        "print(acc_test)\n",
        "\n",
        "plt.title('accuracy in epochs')\n",
        "plt.plot(indices, acc_train)\n",
        "plt.plot(indices, acc_test)"
      ]
    },
    {
      "cell_type": "code",
      "source": [
        "plt.title('Loss function')\n",
        "plt.plot(indices, acc_loss)"
      ],
      "metadata": {
        "id": "ryxxlkWebUEn",
        "outputId": "b7624fb1-2253-4d6c-cea1-b683df15bf25",
        "colab": {
          "base_uri": "https://localhost:8080/",
          "height": 469
        }
      },
      "execution_count": 12,
      "outputs": [
        {
          "output_type": "execute_result",
          "data": {
            "text/plain": [
              "[<matplotlib.lines.Line2D at 0x7841f67fa6b0>]"
            ]
          },
          "metadata": {},
          "execution_count": 12
        },
        {
          "output_type": "display_data",
          "data": {
            "text/plain": [
              "<Figure size 640x480 with 1 Axes>"
            ],
            "image/png": "[encoded data removed]"
          },
          "metadata": {}
        }
      ]
    }
  ],
  "metadata": {
    "colab": {
      "name": "Ejercicios.ipynb",
      "provenance": []
    },
    "kernelspec": {
      "display_name": "Python 3",
      "name": "python3"
    },
    "language_info": {
      "name": "python"
    }
  },
  "nbformat": 4,
  "nbformat_minor": 0
}