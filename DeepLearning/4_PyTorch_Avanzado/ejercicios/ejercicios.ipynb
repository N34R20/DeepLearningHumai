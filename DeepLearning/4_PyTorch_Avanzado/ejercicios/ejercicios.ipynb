{
  "cells": [
    {
      "cell_type": "markdown",
      "source": [
        "<a href=\"https://colab.research.google.com/github/institutohumai/cursos-python/blob/master/DeepLearning/4_PyTorch_Avanzado/ejercicios/ejercicios.ipynb\" target=\"_parent\"><img src=\"https://colab.research.google.com/assets/colab-badge.svg\" alt=\"Open in Colab\"/></a>\n",
        "\n",
        "#Ejercicios de la clase 4"
      ],
      "metadata": {
        "id": "28SKmp_EoGYC"
      }
    },
    {
      "cell_type": "markdown",
      "metadata": {
        "id": "dFXIv9qNpKzt",
        "tags": []
      },
      "source": [
        "## Setup"
      ]
    },
    {
      "cell_type": "code",
      "execution_count": 1,
      "metadata": {
        "id": "TFSU3FCOpKzu"
      },
      "outputs": [],
      "source": [
        "import sys"
      ]
    },
    {
      "cell_type": "code",
      "execution_count": 2,
      "metadata": {
        "id": "YqCwW7cMpKzw"
      },
      "outputs": [],
      "source": [
        "import sklearn"
      ]
    },
    {
      "cell_type": "code",
      "execution_count": 3,
      "metadata": {
        "id": "0Piq5se2pKzx"
      },
      "outputs": [],
      "source": [
        "import torch\n",
        "from torchvision import transforms\n",
        "from torch.utils import data\n",
        "import torchvision\n",
        "from torch import nn"
      ]
    },
    {
      "cell_type": "markdown",
      "metadata": {
        "id": "DDaDoLQTpKzx"
      },
      "source": [
        "Definiciones adicionales pra que nuestras figuras se vean \"bonitas\""
      ]
    },
    {
      "cell_type": "code",
      "execution_count": 4,
      "metadata": {
        "id": "8d4TH3NbpKzx"
      },
      "outputs": [],
      "source": [
        "import matplotlib.pyplot as plt\n",
        "\n",
        "plt.rc('font', size=14)\n",
        "plt.rc('axes', labelsize=14, titlesize=14)\n",
        "plt.rc('legend', fontsize=14)\n",
        "plt.rc('xtick', labelsize=10)\n",
        "plt.rc('ytick', labelsize=10)"
      ]
    },
    {
      "cell_type": "markdown",
      "metadata": {
        "id": "JafadovRyLhH"
      },
      "source": [
        "## Aprendiendo a quitar el ruido de imágenes\n",
        "\n",
        "En este notebook vamos a seguir trabajando sobre el dataset FashionMNIST, pero esta vez, en vez de clasificar las imágenes según la prenda que contienen, vamos a modificar las imágenes agregando un ruido aleatorio que una de nuestras redes neuronales aprenderá a quitar.\n",
        "\n"
      ]
    },
    {
      "cell_type": "markdown",
      "metadata": {
        "id": "NdMv5zGbyLhH"
      },
      "source": [
        "Arranquemos cargando el dataset."
      ]
    },
    {
      "cell_type": "code",
      "source": [
        "torch.manual_seed(42)  # fijamos la semilla para generar reproducibilidad\n",
        "batch_size = 256\n",
        "\n",
        "# Dataloader para FashionMNIST\n",
        "mnist_train = torchvision.datasets.FashionMNIST(transform=transforms.ToTensor(),\n",
        "        root=\"../data\", train=True, download=True)\n",
        "mnist_test = torchvision.datasets.FashionMNIST(transform=transforms.ToTensor(),\n",
        "        root=\"../data\", train=False, download=True)\n",
        "iter_train, iter_valid =  (data.DataLoader(mnist_train, batch_size, shuffle=True,\n",
        "                            num_workers=2),\n",
        "            data.DataLoader(mnist_test, batch_size, shuffle=True,\n",
        "                            num_workers=2))"
      ],
      "metadata": {
        "id": "p6orCqUz9uS4",
        "colab": {
          "base_uri": "https://localhost:8080/"
        },
        "outputId": "a2cad17d-ac00-4249-b409-1234079020a5"
      },
      "execution_count": 5,
      "outputs": [
        {
          "output_type": "stream",
          "name": "stdout",
          "text": [
            "Downloading http://fashion-mnist.s3-website.eu-central-1.amazonaws.com/train-images-idx3-ubyte.gz\n",
            "Downloading http://fashion-mnist.s3-website.eu-central-1.amazonaws.com/train-images-idx3-ubyte.gz to ../data/FashionMNIST/raw/train-images-idx3-ubyte.gz\n"
          ]
        },
        {
          "output_type": "stream",
          "name": "stderr",
          "text": [
            "100%|██████████| 26421880/26421880 [00:02<00:00, 10463259.85it/s]\n"
          ]
        },
        {
          "output_type": "stream",
          "name": "stdout",
          "text": [
            "Extracting ../data/FashionMNIST/raw/train-images-idx3-ubyte.gz to ../data/FashionMNIST/raw\n",
            "\n",
            "Downloading http://fashion-mnist.s3-website.eu-central-1.amazonaws.com/train-labels-idx1-ubyte.gz\n",
            "Downloading http://fashion-mnist.s3-website.eu-central-1.amazonaws.com/train-labels-idx1-ubyte.gz to ../data/FashionMNIST/raw/train-labels-idx1-ubyte.gz\n"
          ]
        },
        {
          "output_type": "stream",
          "name": "stderr",
          "text": [
            "100%|██████████| 29515/29515 [00:00<00:00, 177268.69it/s]\n"
          ]
        },
        {
          "output_type": "stream",
          "name": "stdout",
          "text": [
            "Extracting ../data/FashionMNIST/raw/train-labels-idx1-ubyte.gz to ../data/FashionMNIST/raw\n",
            "\n",
            "Downloading http://fashion-mnist.s3-website.eu-central-1.amazonaws.com/t10k-images-idx3-ubyte.gz\n",
            "Downloading http://fashion-mnist.s3-website.eu-central-1.amazonaws.com/t10k-images-idx3-ubyte.gz to ../data/FashionMNIST/raw/t10k-images-idx3-ubyte.gz\n"
          ]
        },
        {
          "output_type": "stream",
          "name": "stderr",
          "text": [
            "100%|██████████| 4422102/4422102 [00:01<00:00, 3235007.99it/s]\n"
          ]
        },
        {
          "output_type": "stream",
          "name": "stdout",
          "text": [
            "Extracting ../data/FashionMNIST/raw/t10k-images-idx3-ubyte.gz to ../data/FashionMNIST/raw\n",
            "\n",
            "Downloading http://fashion-mnist.s3-website.eu-central-1.amazonaws.com/t10k-labels-idx1-ubyte.gz\n",
            "Downloading http://fashion-mnist.s3-website.eu-central-1.amazonaws.com/t10k-labels-idx1-ubyte.gz to ../data/FashionMNIST/raw/t10k-labels-idx1-ubyte.gz\n"
          ]
        },
        {
          "output_type": "stream",
          "name": "stderr",
          "text": [
            "100%|██████████| 5148/5148 [00:00<00:00, 23911713.17it/s]\n"
          ]
        },
        {
          "output_type": "stream",
          "name": "stdout",
          "text": [
            "Extracting ../data/FashionMNIST/raw/t10k-labels-idx1-ubyte.gz to ../data/FashionMNIST/raw\n",
            "\n"
          ]
        }
      ]
    },
    {
      "cell_type": "markdown",
      "source": [
        "Luego vamos a crear un bloque que genere ruido mediante la capa Dropout. Esta capa multiplica por cero pixeles aleatorios de las imágenes con una probabilidad igual a un escalar que pasamos como parámetro."
      ],
      "metadata": {
        "id": "57zQLgOW-Pfw"
      }
    },
    {
      "cell_type": "code",
      "source": [
        "p=0.5 #probabilidad de que un pixel sea eliminado\n",
        "noise = torch.nn.Sequential(torch.nn.Dropout(p))\n",
        "\n",
        "images,_ = next(iter(iter_train))\n",
        "noise_images = noise(images)\n",
        "\n",
        "n_images = 10\n",
        "fig = plt.figure(figsize=(n_images * 2, 4))\n",
        "for image_index in range(n_images):\n",
        "        plt.subplot(2, n_images, 1 + image_index)\n",
        "        plt.imshow(images[image_index].squeeze(),\n",
        "                   cmap=\"binary\")\n",
        "        plt.axis(\"off\")\n",
        "        plt.subplot(2, n_images, 1 + n_images + image_index)\n",
        "        plt.imshow(noise_images[image_index].squeeze(),\n",
        "                   cmap=\"binary\")\n",
        "        plt.axis(\"off\")\n",
        "\n",
        ""
      ],
      "metadata": {
        "colab": {
          "base_uri": "https://localhost:8080/",
          "height": 224
        },
        "id": "L-Rrt-VB-uI5",
        "outputId": "17510b0a-37dd-4e06-ca69-1849cb59cb8c"
      },
      "execution_count": 6,
      "outputs": [
        {
          "output_type": "display_data",
          "data": {
            "text/plain": [
              "<Figure size 2000x400 with 20 Axes>"
            ],
            "image/png": "[encoded data removed]"
          },
          "metadata": {}
        }
      ]
    },
    {
      "cell_type": "markdown",
      "source": [
        "## Denoising Autoencoders\n",
        "\n",
        "A muy alto nivel, un `autoencoder` (codificador automático) contiene un `encoder` (codificador) y un `decoder` (decodificador). Estas dos partes funcionan automáticamente y dan lugar al nombre de `autoencoder`. El encoder transforma la entrada de alta dimensión en una dimensión más baja (espacio latente, donde la entrada está más comprimida), mientras que un decoder hace el trabajo inverso del encoder en el resultado codificado y reconstruye la imagen original.\n",
        "\n",
        "![Imgur](https://i.imgur.com/iOp5Vdu.png)"
      ],
      "metadata": {
        "id": "s05Y0ci8DzLM"
      }
    },
    {
      "cell_type": "markdown",
      "source": [
        "En la tarea de eliminación de ruido, los datos se corrompen de alguna manera para que el modelo pueda aprender a predecir la imagen original. En este caso, la idea es almacenar la salida generada por el encoder como un vector de características de la entrada (llamado vector latente) que está tan comprimido que de alguna manera guarda información solamente de la imagen subyacente y no del ruido. De esta forma, al reconstruir la imagen con el decoder teniendo en cuenta solamente el vector latente como entrada, la salida sería la imagen original sin ruido."
      ],
      "metadata": {
        "id": "v9UwU6EwFIKI"
      }
    },
    {
      "cell_type": "markdown",
      "source": [
        "## Ejercicio 1: Construcción del Encoder"
      ],
      "metadata": {
        "id": "Wgk8pc0WG2_g"
      }
    },
    {
      "cell_type": "markdown",
      "source": [
        "En este ejercicio usted deberá crear con pytorch un MLP de 2 capas (con 100 y 30 neuronas respectivamente) que reciba como entrada imágenes de 28*28 y produzca como salida vectores latentes de 30 elementos. No olvide que los MLP necesitan funciones de activación para poder apilar sus capas!!"
      ],
      "metadata": {
        "id": "NvfXeeOmG-cn"
      }
    },
    {
      "cell_type": "code",
      "source": [
        "#ingrese su código aquí\n",
        "\n",
        "Input = 28 * 28\n",
        "Hidden1 = 100\n",
        "Hidden2 = 30\n",
        "encoder = torch.nn.Sequential(\n",
        "    torch.nn.Flatten(),\n",
        "    torch.nn.Linear(Input, Hidden1),\n",
        "    torch.nn.ReLU(),\n",
        "    torch.nn.Linear(Hidden1, Hidden2),\n",
        "    torch.nn.ReLU()\n",
        ")\n",
        "#mantenga este nombre de variable durante todo el notebook para que funcionen los tests"
      ],
      "metadata": {
        "id": "v5J5Tuf9G9YW"
      },
      "execution_count": 9,
      "outputs": []
    },
    {
      "cell_type": "code",
      "source": [
        "#@title Test N° 1\n",
        "#@markdown Ejecutar para confirmar que su código es correcto\n",
        "images,_ = next(iter(iter_train))\n",
        "\n",
        "try:\n",
        "  latentes = encoder(images)\n",
        "  assert latentes.shape[1] == 30, \"La salida de su red no es un vector de 30 elementos\"\n",
        "  print(\"Al parecer está todo bien. Puedes avanzar al siguiente test\")\n",
        "except:\n",
        "  print(\"Su encoder no generó una salida válida.\\nLa entrada no pudo recorrer todo el camino hasta el final de su red.\\nRevise que la dimensionalidad de sus capas sean compatibles\")\n",
        "\n"
      ],
      "metadata": {
        "cellView": "form",
        "id": "Ai5pjZ-6I7TD",
        "colab": {
          "base_uri": "https://localhost:8080/"
        },
        "outputId": "9741fdcb-7e0b-47ee-d433-dfa754199190"
      },
      "execution_count": 10,
      "outputs": [
        {
          "output_type": "stream",
          "name": "stdout",
          "text": [
            "Al parecer está todo bien. Puedes avanzar al siguiente test\n"
          ]
        }
      ]
    },
    {
      "cell_type": "code",
      "source": [
        "#@title Test N° 2\n",
        "#@markdown Ejecutar para confirmar que su código es correcto\n",
        "assert encoder[1].weight.shape == torch.Size([100, 784]), \"Las dimensiones de su primera capa densa están mal\"\n",
        "assert encoder[3].weight.shape == torch.Size([30, 100]), \"Las dimensiones de su segunda capa densa están mal\"\n",
        "print(\"Al parecer está todo bien. Puedes avanzar al siguiente ejercicio\")"
      ],
      "metadata": {
        "cellView": "form",
        "id": "yINiAMBCOLa2",
        "colab": {
          "base_uri": "https://localhost:8080/"
        },
        "outputId": "1a830476-3d98-4bcb-a938-d4f5a0a54b86"
      },
      "execution_count": 11,
      "outputs": [
        {
          "output_type": "stream",
          "name": "stdout",
          "text": [
            "Al parecer está todo bien. Puedes avanzar al siguiente ejercicio\n"
          ]
        }
      ]
    },
    {
      "cell_type": "markdown",
      "source": [
        "## Ejercicio 2: Construcción del Decoder"
      ],
      "metadata": {
        "id": "mqSa5_sIPBkG"
      }
    },
    {
      "cell_type": "markdown",
      "source": [
        "En este ejercicio usted deberá crear con pytorch un MLP de 2 capas que sea inverso al decoder que construyo en el ejercicio anterior (con 30 y 100 neuronas respectivamente) que reciba como entrada vectores latentes de 30 elementos y produzca como salida imágenes de 28*28 . No olvide que los MLP necesitan funciones de activación para poder apilar sus capas!!\n",
        "Tip: para revertir un Flatten() debe usar Unflatten()"
      ],
      "metadata": {
        "id": "5qDFGXGIPoFA"
      }
    },
    {
      "cell_type": "code",
      "source": [
        "#ingrese su codigo aqui\n",
        "\n",
        "decoder = torch.nn.Sequential(\n",
        "\n",
        "    torch.nn.Linear(30, 100),\n",
        "    torch.nn.ReLU(),\n",
        "    torch.nn.Linear(100, 28*28),\n",
        "    torch.nn.Unflatten(-1, torch.Size([28, 28]))\n",
        ")\n",
        "\n",
        "#mantenga este nombre de variable durante todo el notebook para que funcionen los tests"
      ],
      "metadata": {
        "id": "dRo8QI2XP_mS"
      },
      "execution_count": 19,
      "outputs": []
    },
    {
      "cell_type": "code",
      "source": [
        "#@title Test N° 1\n",
        "#@markdown Ejecutar para confirmar que su código es correcto\n",
        "try:\n",
        "  salidas = decoder(latentes)\n",
        "  assert salidas.shape[1] == 28 and salidas.shape[2] == 28, \"La salida de su red no es una imagen de 28*28\"\n",
        "  print(\"Al parecer está todo bien. Puedes avanzar al siguiente test\")\n",
        "except:\n",
        "  print(\"Su encoder no generó una salida válida.\\nLa entrada no pudo recorrer todo el camino hasta el final de su red.\\nRevise que la dimensionalidad de sus capas sean compatibles\")\n",
        "\n",
        "\n"
      ],
      "metadata": {
        "cellView": "form",
        "id": "MJHQfxauRx9b",
        "colab": {
          "base_uri": "https://localhost:8080/"
        },
        "outputId": "21021af4-6dfa-4ea0-caac-51fcce1c32d5"
      },
      "execution_count": 20,
      "outputs": [
        {
          "output_type": "stream",
          "name": "stdout",
          "text": [
            "Al parecer está todo bien. Puedes avanzar al siguiente test\n"
          ]
        }
      ]
    },
    {
      "cell_type": "code",
      "source": [
        "#@title Test N° 2\n",
        "#@markdown Ejecutar para confirmar que su código es correcto\n",
        "assert decoder[0].weight.shape == torch.Size([100, 30]), \"Las dimensiones de su primera capa densa están mal\"\n",
        "assert decoder[2].weight.shape == torch.Size([784, 100]), \"Las dimensiones de su segunda capa densa están mal\"\n",
        "print(\"Al parecer está todo bien. Puedes avanzar al siguiente ejercicio\")"
      ],
      "metadata": {
        "cellView": "form",
        "id": "9n4z-NUQRzxz",
        "colab": {
          "base_uri": "https://localhost:8080/"
        },
        "outputId": "48bfa0fb-80be-4388-856c-26bb08d736c9"
      },
      "execution_count": 21,
      "outputs": [
        {
          "output_type": "stream",
          "name": "stdout",
          "text": [
            "Al parecer está todo bien. Puedes avanzar al siguiente ejercicio\n"
          ]
        }
      ]
    },
    {
      "cell_type": "markdown",
      "source": [
        "## Ejercicio 3: Crear un autoencoder\n",
        "En este ejercicio deberás crear un bloque que consista en los bloques noise, encoder y decoder creados anteriormente encadenados. Tanto la slaida como la entrada de este bloque deben ser imágenes de 28*28"
      ],
      "metadata": {
        "id": "TbZPKYHBUYN_"
      }
    },
    {
      "cell_type": "code",
      "source": [
        "#ingrese su código aquí\n",
        "net = torch.nn.Sequential(noise, encoder, decoder)\n",
        "#mantenga este nombre de variable durante todo el notebook para que funcionen los tests"
      ],
      "metadata": {
        "id": "jXen3ZG1U4NG"
      },
      "execution_count": 24,
      "outputs": []
    },
    {
      "cell_type": "code",
      "source": [
        "#@title Test N° 1\n",
        "#@markdown Ejecutar para confirmar que su código es correcto\n",
        "try:\n",
        "  salidas = net(images)\n",
        "  assert salidas.size == salidas.size, \"La salida de su red no tiene el mismo tamaño que la entrada\"\n",
        "  print(\"Al parecer está todo bien. Puedes avanzar al siguiente test\")\n",
        "except:\n",
        "  print(\"Su encoder no generó una salida válida.\\nLa entrada no pudo recorrer todo el camino hasta el final de su red.\\nRevise que la dimensionalidad de sus capas sean compatibles\")\n",
        "\n",
        "\n"
      ],
      "metadata": {
        "cellView": "form",
        "id": "UiwXkyb1Nx0i",
        "colab": {
          "base_uri": "https://localhost:8080/"
        },
        "outputId": "326537d1-9201-4a7e-f4d6-6ab41abe59e1"
      },
      "execution_count": 25,
      "outputs": [
        {
          "output_type": "stream",
          "name": "stdout",
          "text": [
            "Al parecer está todo bien. Puedes avanzar al siguiente test\n"
          ]
        }
      ]
    },
    {
      "cell_type": "code",
      "source": [
        "#@title Test N° 2\n",
        "#@markdown Ejecutar para confirmar que su código es correcto\n",
        "assert net[0] == noise, \"Tu primer bloque no es el correcto\"\n",
        "assert net[1] == encoder, \"Tu segundo bloque no es el correcto\"\n",
        "assert net[2] == decoder, \"Tu tercer bloque no es el correcto\"\n",
        "print(\"Al parecer está todo bien. Puedes avanzar al siguiente test\")\n"
      ],
      "metadata": {
        "cellView": "form",
        "id": "efxchl-tN2x-",
        "colab": {
          "base_uri": "https://localhost:8080/"
        },
        "outputId": "e0b88d75-b143-4286-ccd0-5586263477c8"
      },
      "execution_count": 26,
      "outputs": [
        {
          "output_type": "stream",
          "name": "stdout",
          "text": [
            "Al parecer está todo bien. Puedes avanzar al siguiente test\n"
          ]
        }
      ]
    },
    {
      "cell_type": "markdown",
      "source": [
        "## Ejercicio 4: Entrenar el Autoencoder"
      ],
      "metadata": {
        "id": "CZvcWShTQ6NS"
      }
    },
    {
      "cell_type": "markdown",
      "source": [
        "Antes de entrenar debemos definir la pérdida. Nuestro objetivo es que la salida de la red sea exactamente igual que la entrada. Por lo tanto, debemos establecer como etiquetas a las imágenes de entrada y compararlas mediante el error cuadrático medio."
      ],
      "metadata": {
        "id": "MW34JiYnRDjy"
      }
    },
    {
      "cell_type": "code",
      "source": [
        "loss = torch.nn.MSELoss()"
      ],
      "metadata": {
        "id": "ybQ88L32SWEG"
      },
      "execution_count": 27,
      "outputs": []
    },
    {
      "cell_type": "markdown",
      "source": [
        "Para obtener un mejor rendimiento usaremos Adam como algoritmo de optimización en lugar de SGD. En la última clase explicaremos algunas diferencias entre ambos."
      ],
      "metadata": {
        "id": "IfppMXrOSnB2"
      }
    },
    {
      "cell_type": "code",
      "source": [
        "trainer = torch.optim.Adam(net.parameters())\n"
      ],
      "metadata": {
        "id": "fN61NypCSprU"
      },
      "execution_count": 28,
      "outputs": []
    },
    {
      "cell_type": "markdown",
      "source": [
        "Un último detalle es que la capa Dropout se comporta diferente si la red está entrenando o prediciendo. Así que debemos indicarle a PyTorch que la red está en modo entrenamiento con la función `train()`"
      ],
      "metadata": {
        "id": "gpCPCiKrSwRy"
      }
    },
    {
      "cell_type": "code",
      "source": [
        "net.train()"
      ],
      "metadata": {
        "id": "6ptrFs_mTdRE",
        "colab": {
          "base_uri": "https://localhost:8080/"
        },
        "outputId": "22f6953b-9795-4730-d3f1-71c43b04772a"
      },
      "execution_count": 29,
      "outputs": [
        {
          "output_type": "execute_result",
          "data": {
            "text/plain": [
              "Sequential(\n",
              "  (0): Sequential(\n",
              "    (0): Dropout(p=0.5, inplace=False)\n",
              "  )\n",
              "  (1): Sequential(\n",
              "    (0): Flatten(start_dim=1, end_dim=-1)\n",
              "    (1): Linear(in_features=784, out_features=100, bias=True)\n",
              "    (2): ReLU()\n",
              "    (3): Linear(in_features=100, out_features=30, bias=True)\n",
              "    (4): ReLU()\n",
              "  )\n",
              "  (2): Sequential(\n",
              "    (0): Linear(in_features=30, out_features=100, bias=True)\n",
              "    (1): ReLU()\n",
              "    (2): Linear(in_features=100, out_features=784, bias=True)\n",
              "    (3): Unflatten(dim=-1, unflattened_size=torch.Size([28, 28]))\n",
              "  )\n",
              ")"
            ]
          },
          "metadata": {},
          "execution_count": 29
        }
      ]
    },
    {
      "cell_type": "markdown",
      "source": [
        "En la siguiente celda deberá entrenar la red por 10 épocas"
      ],
      "metadata": {
        "id": "82Q5EjxVThNV"
      }
    },
    {
      "cell_type": "code",
      "execution_count": 30,
      "metadata": {
        "id": "wTKWjK3EyLhH",
        "colab": {
          "base_uri": "https://localhost:8080/"
        },
        "outputId": "8d0bedd1-ba6f-4d2f-b952-5b8fb2c3f266"
      },
      "outputs": [
        {
          "output_type": "stream",
          "name": "stdout",
          "text": [
            "epoch 1, loss 0.073232\n",
            "epoch 2, loss 0.046442\n",
            "epoch 3, loss 0.034618\n",
            "epoch 4, loss 0.028889\n",
            "epoch 5, loss 0.026972\n",
            "epoch 6, loss 0.025973\n",
            "epoch 7, loss 0.025183\n",
            "epoch 8, loss 0.024617\n",
            "epoch 9, loss 0.023953\n",
            "epoch 10, loss 0.023340\n"
          ]
        }
      ],
      "source": [
        "#ingrese su código aquí\n",
        "num_epochs = 10\n",
        "\n",
        "# Ciclo de entrenamiento\n",
        "def init_weights(m):\n",
        "    if type(m) == torch.nn.Linear:\n",
        "        torch.nn.init.normal_(m.weight, std=0.01)\n",
        "\n",
        "net.apply(init_weights);\n",
        "for epoch in range(num_epochs):\n",
        "    L = 0.0\n",
        "    N = 0\n",
        "    for X, _ in iter_train:\n",
        "        Y = X.squeeze().detach().clone()\n",
        "        #Y += 0.1 * torch.randn_like(X)\n",
        "        l = loss(net(X), Y)\n",
        "        trainer.zero_grad()\n",
        "        l.mean().backward()\n",
        "        trainer.step()\n",
        "        L += l.sum()\n",
        "        N += l.numel()\n",
        "    print(f'epoch {epoch + 1}, loss {(L/N):f}')\n"
      ]
    },
    {
      "cell_type": "code",
      "execution_count": 31,
      "metadata": {
        "id": "Pucj7MI3yLhI",
        "cellView": "form",
        "colab": {
          "base_uri": "https://localhost:8080/",
          "height": 235
        },
        "outputId": "eb88d56f-1ce7-4ef1-eff3-0cd9272db222"
      },
      "outputs": [
        {
          "output_type": "display_data",
          "data": {
            "text/plain": [
              "<Figure size 2000x400 with 30 Axes>"
            ],
            "image/png": "[encoded data removed]"
          },
          "metadata": {}
        }
      ],
      "source": [
        "#@title Grafique Predicciones de Validación\n",
        "# Codigo adicional para generar imágenes.\n",
        "import numpy as np\n",
        "\n",
        "\n",
        "def plot_reconstructions(model, images=iter_valid, n_images=10):\n",
        "    noise = torch.nn.Sequential(torch.nn.Dropout(0.5))\n",
        "    noise.train()\n",
        "    input = noise(images)\n",
        "    noise.eval()\n",
        "    model.eval()\n",
        "    reconstructions = np.clip(input[:n_images].squeeze().detach(), 0, 1)\n",
        "    reconstructions = model(reconstructions).squeeze().detach()\n",
        "    fig = plt.figure(figsize=(n_images * 2, 4))\n",
        "    for image_index in range(n_images):\n",
        "        plt.subplot(3, n_images, 1 + image_index)\n",
        "        plt.imshow(images[image_index].squeeze(),\n",
        "                   cmap=\"binary\")\n",
        "        plt.axis(\"off\")\n",
        "        plt.subplot(3, n_images, 1 + n_images + image_index)\n",
        "        plt.imshow(input[image_index].squeeze(),\n",
        "                   cmap=\"binary\")\n",
        "        plt.axis(\"off\")\n",
        "        plt.subplot(3, n_images, 1 + 2 * n_images + image_index)\n",
        "        plt.imshow(reconstructions[image_index], cmap=\"binary\")\n",
        "        plt.axis(\"off\")\n",
        "\n",
        "net.eval()\n",
        "plot_reconstructions(net, next(iter(iter_valid))[0])\n",
        "plt.show()"
      ]
    },
    {
      "cell_type": "markdown",
      "source": [
        "## Ejercicio 5: Modificar la fuente del Ruido\n",
        "\n",
        "Intentemos usar un modelo similar, pero esta vez generemos un error gaussiano sobre las imágenes en vez de simplemente eliminar píxeles al azar. La siguiente función altera las imágenes agregando un error gaussiano."
      ],
      "metadata": {
        "id": "Fq6FDhxmXI1Q"
      }
    },
    {
      "cell_type": "code",
      "source": [
        "def addGaussianNoise(tensor, mean, std):\n",
        "  return tensor + torch.randn_like(tensor) * std + mean\n",
        "\n",
        "images,_ = next(iter(iter_train))\n",
        "noise_images = addGaussianNoise(images,0,0.15)\n",
        "\n",
        "n_images = 10\n",
        "fig = plt.figure(figsize=(n_images * 2, 4))\n",
        "for image_index in range(n_images):\n",
        "        plt.subplot(2, n_images, 1 + image_index)\n",
        "        plt.imshow(images[image_index].squeeze(),\n",
        "                   cmap=\"binary\")\n",
        "        plt.axis(\"off\")\n",
        "        plt.subplot(2, n_images, 1 + n_images + image_index)\n",
        "        plt.imshow(noise_images[image_index].squeeze(),\n",
        "                   cmap=\"binary\")\n",
        "        plt.axis(\"off\")"
      ],
      "metadata": {
        "colab": {
          "base_uri": "https://localhost:8080/",
          "height": 224
        },
        "id": "GX8o3daxX-Of",
        "outputId": "8a16e806-76a1-4c38-fc54-bb257d30bbf3"
      },
      "execution_count": 32,
      "outputs": [
        {
          "output_type": "display_data",
          "data": {
            "text/plain": [
              "<Figure size 2000x400 with 20 Axes>"
            ],
            "image/png": "[encoded data removed]"
          },
          "metadata": {}
        }
      ]
    },
    {
      "cell_type": "markdown",
      "source": [
        "Ahora generemos una nueva red que en vez de eliminar un ruido producido por dropout, elimine un ruido gaussiano producido por la función `addGaussianNoise()`. Para hacerlo tenga en cuenta los siguientes detalles:\n",
        "\n",
        "\n",
        "1.   El paquete nn.Module nos permite crear tanto capas como modelos completos personalizados. Utilice alguna de estas opciones para implementar este modelo.\n",
        "2.   Tenga en cuenta que el ruido gaussiano solo debe agregarse a la imagen si el modelo está siendo entrenado. El atributo `training` de cualquier bloque que herede de nn.Module funciona como bandera que se pone en `True` si el modelo está entrenando y en `False` si ya está entrenada y se la usa para generar predicciones. El método `train()` pone esta bandera en `True` y el método `eval()` la pone en `False`\n",
        "\n"
      ],
      "metadata": {
        "id": "e9AjjEvoY-7G"
      }
    },
    {
      "cell_type": "code",
      "source": [
        "## ingrese su código aquí\n"
      ],
      "metadata": {
        "id": "0vNPUVmRY-DP"
      },
      "execution_count": null,
      "outputs": []
    },
    {
      "cell_type": "markdown",
      "source": [
        "## Ejercicio 6: Entrenar el modelo con ruido gaussiano"
      ],
      "metadata": {
        "id": "FnWlJTSpk3-C"
      }
    },
    {
      "cell_type": "markdown",
      "source": [
        "Entrene el modelo creado en el ejercicio anterior"
      ],
      "metadata": {
        "id": "E74fE9s0lCcp"
      }
    },
    {
      "cell_type": "code",
      "source": [
        "#ingrese su código aquí"
      ],
      "metadata": {
        "id": "1MZPbTo4gYFF"
      },
      "execution_count": null,
      "outputs": []
    },
    {
      "cell_type": "code",
      "execution_count": null,
      "metadata": {
        "id": "8SZwohlLipJU",
        "cellView": "form"
      },
      "outputs": [],
      "source": [
        "#@title Grafique Predicciones de Validación\n",
        "# Codigo adicional para generar imágenes.\n",
        "import numpy as np\n",
        "\n",
        "\n",
        "def plot_reconstructions(model, images=iter_valid, n_images=10):\n",
        "    input = addGaussianNoise(images,0,0.15)\n",
        "    model.eval()\n",
        "    reconstructions = np.clip(input[:n_images].squeeze().detach(), 0, 1)\n",
        "    reconstructions = model(reconstructions).squeeze().detach()\n",
        "    fig = plt.figure(figsize=(n_images * 2, 4))\n",
        "    for image_index in range(n_images):\n",
        "        plt.subplot(3, n_images, 1 + image_index)\n",
        "        plt.imshow(images[image_index].squeeze(),\n",
        "                   cmap=\"binary\")\n",
        "        plt.axis(\"off\")\n",
        "        plt.subplot(3, n_images, 1 + n_images + image_index)\n",
        "        plt.imshow(input[image_index].squeeze(),\n",
        "                   cmap=\"binary\")\n",
        "        plt.axis(\"off\")\n",
        "        plt.subplot(3, n_images, 1 + 2 * n_images + image_index)\n",
        "        plt.imshow(reconstructions[image_index], cmap=\"binary\")\n",
        "        plt.axis(\"off\")\n",
        "\n",
        "net.eval()\n",
        "plot_reconstructions(netGaussian1, next(iter(iter_valid))[0])\n",
        "plt.show()"
      ]
    }
  ],
  "metadata": {
    "accelerator": "GPU",
    "colab": {
      "name": "ejercicios",
      "provenance": [],
      "toc_visible": true
    },
    "kernelspec": {
      "display_name": "Python 3",
      "language": "python",
      "name": "python3"
    },
    "language_info": {
      "codemirror_mode": {
        "name": "ipython",
        "version": 3
      },
      "file_extension": ".py",
      "mimetype": "text/x-python",
      "name": "python",
      "nbconvert_exporter": "python",
      "pygments_lexer": "ipython3",
      "version": "3.9.10"
    },
    "nav_menu": {
      "height": "381px",
      "width": "453px"
    },
    "toc": {
      "navigate_menu": true,
      "number_sections": true,
      "sideBar": true,
      "threshold": 6,
      "toc_cell": false,
      "toc_section_display": "block",
      "toc_window_display": false
    }
  },
  "nbformat": 4,
  "nbformat_minor": 0
}