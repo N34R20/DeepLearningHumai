{
  "cells": [
    {
      "cell_type": "markdown",
      "source": [
        "<a href=\"https://colab.research.google.com/github/institutohumai/cursos-python/blob/master/DeepLearning/3_Redes_Multicapa/1_perceptron_multicapa.ipynb\" target=\"_parent\"><img src=\"https://colab.research.google.com/assets/colab-badge.svg\" alt=\"Open in Colab\"/></a>"
      ],
      "metadata": {
        "id": "Ult1zzIq6PBb"
      }
    },
    {
      "cell_type": "markdown",
      "metadata": {
        "origin_pos": 0,
        "id": "qNIGn9u0Nme5"
      },
      "source": [
        "# Perceptron Multicapa\n",
        "\n",
        "Hasta aquí hemos trabajado con modelos lineales o modelos de una sola capa. Es fácil entender porque estos modelos simples pueden fallar. Por ejemplo, hay fenómenos que pueden tener ciclos o frecuencias asociadas. O pueden existir situaciones donde una de nuestras categorías caiga en un rango acotado de valores (por ejemplo cantidad saludable de azucar en sangre)\n",
        "\n",
        "Esto nos da a entender que debemos considerar más que solo modelos lineales\n",
        "\n",
        "### Agregando capas ocultas\n",
        "\n",
        "![](http://d2l.ai/_images/mlp.svg)\n",
        "\n",
        "Sin embargo este modelo sigue siendo lineal:\n",
        "\n",
        "$$\n",
        "\\begin{aligned}\n",
        "    \\mathbf{H} & = \\mathbf{X} \\mathbf{W}^{(1)} + \\mathbf{b}^{(1)}, \\\\\n",
        "    \\mathbf{O} & = \\mathbf{H}\\mathbf{W}^{(2)} + \\mathbf{b}^{(2)}. \\\\\n",
        "    \\mathbf{O} & = [\\mathbf{X} \\mathbf{W}^{(1)} + \\mathbf{b}^{(1)}]\\mathbf{W}^{(2)} + \\mathbf{b}^{(2)} \\\\\n",
        "    \\mathbf{O} & = \\mathbf{X} \\mathbf{W}^{(1)}\\mathbf{W}^{(2)} + \\mathbf{b}^{(1)}\\mathbf{W}^{(2)} + \\mathbf{b}^{(2)} \\\\\n",
        "    \\mathbf{O} & = \\mathbf{X} \\mathbf{W'} + \\mathbf{b'} + \\mathbf{b}^{(2)}\\\\\n",
        "    \\mathbf{O} & = \\mathbf{X} \\mathbf{W'} + \\mathbf{b''}\n",
        "\\end{aligned}\n",
        "$$\n",
        "\n",
        "Si queremos un modelo más general, debemos usar algo más que solo capas lineales.\n",
        "\n",
        "Para esto introducimos **funciones de activación**\n",
        "\n",
        "$$\n",
        "\\begin{aligned}\n",
        "    \\mathbf{H} & = \\sigma(\\mathbf{X} \\mathbf{W}^{(1)} + \\mathbf{b}^{(1)}), \\\\\n",
        "    \\mathbf{O} & = \\mathbf{H}\\mathbf{W}^{(2)} + \\mathbf{b}^{(2)}.\\\\\n",
        "\\end{aligned}\n",
        "$$\n",
        "\n",
        "\n",
        "## Funciones de activacion\n"
      ]
    },
    {
      "cell_type": "code",
      "execution_count": null,
      "metadata": {
        "origin_pos": 2,
        "tab": [
          "pytorch"
        ],
        "id": "TbKB-6PJNme-"
      },
      "outputs": [],
      "source": [
        "%matplotlib inline\n",
        "import torch\n",
        "import matplotlib.pyplot as plt\n",
        "import numpy as np"
      ]
    },
    {
      "cell_type": "markdown",
      "source": [
        "A continuación graficaremos algunas funciones de activación y sus respectivas derivadas"
      ],
      "metadata": {
        "id": "nWSjEafP4GEd"
      }
    },
    {
      "cell_type": "markdown",
      "metadata": {
        "origin_pos": 4,
        "id": "XS93V6UaNme_"
      },
      "source": [
        "### ReLU\n",
        "\n",
        "$$\\operatorname{ReLU}(x) = \\max(0, x)$$\n"
      ]
    },
    {
      "cell_type": "code",
      "execution_count": null,
      "metadata": {
        "origin_pos": 6,
        "tab": [
          "pytorch"
        ],
        "id": "3Iz54y1uNmfB",
        "outputId": "91796c8d-315a-419c-a99f-d349c182c3af",
        "colab": {
          "base_uri": "https://localhost:8080/",
          "height": 283
        }
      },
      "outputs": [
        {
          "output_type": "execute_result",
          "data": {
            "text/plain": [
              "[<matplotlib.lines.Line2D at 0x7f4a8253c990>]"
            ]
          },
          "metadata": {},
          "execution_count": 2
        },
        {
          "output_type": "display_data",
          "data": {
            "text/plain": [
              "<Figure size 432x288 with 1 Axes>"
            ],
            "image/png": "[encoded data removed]"
          },
          "metadata": {
            "needs_background": "light"
          }
        }
      ],
      "source": [
        "x = torch.arange(-8.0, 8.0, 0.1, requires_grad=True)\n",
        "y = torch.relu(x)\n",
        "plt.plot(x.detach(), y.detach())"
      ]
    },
    {
      "cell_type": "code",
      "execution_count": null,
      "metadata": {
        "origin_pos": 10,
        "tab": [
          "pytorch"
        ],
        "id": "PP_2ZMRSNmfE",
        "outputId": "dc048a3d-7390-494c-9664-297b3e507e21",
        "colab": {
          "base_uri": "https://localhost:8080/",
          "height": 283
        }
      },
      "outputs": [
        {
          "output_type": "execute_result",
          "data": {
            "text/plain": [
              "[<matplotlib.lines.Line2D at 0x7f4a82039690>]"
            ]
          },
          "metadata": {},
          "execution_count": 3
        },
        {
          "output_type": "display_data",
          "data": {
            "text/plain": [
              "<Figure size 432x288 with 1 Axes>"
            ],
            "image/png": "[encoded data removed]"
          },
          "metadata": {
            "needs_background": "light"
          }
        }
      ],
      "source": [
        "y.backward(torch.ones_like(x), retain_graph=True)\n",
        "plt.plot(x.detach(), x.grad)"
      ]
    },
    {
      "cell_type": "markdown",
      "metadata": {
        "origin_pos": 12,
        "id": "d1pi3y0dNmfF"
      },
      "source": [
        "Existen varias alternativas similares a ReLU, sin embargo, queremos destactar a pReLU. A diferencia de ReLU, pReLU no descarta el gradiente a la izquierda. Además, el peso que se le otorgoa al gradiente a la izquierda es parte de los parámetros del modelo.\n",
        "\n",
        "$$\\operatorname{pReLU}(x) = \\max(0, x) + \\alpha \\min(0, x).$$\n",
        "\n",
        "### Sigmoidea\n",
        "\n",
        "$$\\operatorname{sigmoid}(x) = \\frac{1}{1 + \\exp(-x)}.$$"
      ]
    },
    {
      "cell_type": "code",
      "execution_count": null,
      "metadata": {
        "origin_pos": 14,
        "tab": [
          "pytorch"
        ],
        "id": "45sKSfZHNmfG",
        "outputId": "2dfc7a98-4637-411c-ab4a-8a6349bb8738",
        "colab": {
          "base_uri": "https://localhost:8080/",
          "height": 283
        }
      },
      "outputs": [
        {
          "output_type": "execute_result",
          "data": {
            "text/plain": [
              "[<matplotlib.lines.Line2D at 0x7f4a81fc7a10>]"
            ]
          },
          "metadata": {},
          "execution_count": 4
        },
        {
          "output_type": "display_data",
          "data": {
            "text/plain": [
              "<Figure size 432x288 with 1 Axes>"
            ],
            "image/png": "[encoded data removed]"
          },
          "metadata": {
            "needs_background": "light"
          }
        }
      ],
      "source": [
        "y = torch.sigmoid(x)\n",
        "plt.plot(x.detach(), y.detach())"
      ]
    },
    {
      "cell_type": "code",
      "execution_count": null,
      "metadata": {
        "origin_pos": 18,
        "tab": [
          "pytorch"
        ],
        "id": "OvVOeZAvNmfI",
        "outputId": "88aaa760-a092-4939-8e10-f34bed2d58ee",
        "colab": {
          "base_uri": "https://localhost:8080/",
          "height": 283
        }
      },
      "outputs": [
        {
          "output_type": "execute_result",
          "data": {
            "text/plain": [
              "[<matplotlib.lines.Line2D at 0x7f4a81f389d0>]"
            ]
          },
          "metadata": {},
          "execution_count": 5
        },
        {
          "output_type": "display_data",
          "data": {
            "text/plain": [
              "<Figure size 432x288 with 1 Axes>"
            ],
            "image/png": "[encoded data removed]"
          },
          "metadata": {
            "needs_background": "light"
          }
        }
      ],
      "source": [
        "# Clear out previous gradients\n",
        "x.grad.data.zero_()\n",
        "y.backward(torch.ones_like(x),retain_graph=True)\n",
        "plt.plot(x.detach(), x.grad)"
      ]
    },
    {
      "cell_type": "markdown",
      "metadata": {
        "origin_pos": 20,
        "id": "au5Fztb8NmfJ"
      },
      "source": [
        "### Tangente hiperbólica\n",
        "\n",
        "$$\\operatorname{tanh}(x) = \\frac{1 - \\exp(-2x)}{1 + \\exp(-2x)}.$$\n",
        "\n",
        "$$\\operatorname{tanh}(x) = \\frac{\\exp(x) - \\exp(-x)}{\\exp(x) + \\exp(-x)}.$$"
      ]
    },
    {
      "cell_type": "code",
      "execution_count": null,
      "metadata": {
        "origin_pos": 22,
        "tab": [
          "pytorch"
        ],
        "id": "r8PbAf0yNmfK",
        "outputId": "33157fa5-9676-4f07-9150-ffbf2912533f",
        "colab": {
          "base_uri": "https://localhost:8080/",
          "height": 283
        }
      },
      "outputs": [
        {
          "output_type": "execute_result",
          "data": {
            "text/plain": [
              "[<matplotlib.lines.Line2D at 0x7f4a81eb04d0>]"
            ]
          },
          "metadata": {},
          "execution_count": 6
        },
        {
          "output_type": "display_data",
          "data": {
            "text/plain": [
              "<Figure size 432x288 with 1 Axes>"
            ],
            "image/png": "[encoded data removed]"
          },
          "metadata": {
            "needs_background": "light"
          }
        }
      ],
      "source": [
        "y = torch.tanh(x)\n",
        "plt.plot(x.detach(), y.detach())"
      ]
    },
    {
      "cell_type": "code",
      "execution_count": null,
      "metadata": {
        "origin_pos": 26,
        "tab": [
          "pytorch"
        ],
        "id": "OKTlQoSANmfL",
        "outputId": "6cd31291-7264-4dfa-d877-d64c40939bc6",
        "colab": {
          "base_uri": "https://localhost:8080/",
          "height": 283
        }
      },
      "outputs": [
        {
          "output_type": "execute_result",
          "data": {
            "text/plain": [
              "[<matplotlib.lines.Line2D at 0x7f4a81eaa8d0>]"
            ]
          },
          "metadata": {},
          "execution_count": 7
        },
        {
          "output_type": "display_data",
          "data": {
            "text/plain": [
              "<Figure size 432x288 with 1 Axes>"
            ],
            "image/png": "[encoded data removed]"
          },
          "metadata": {
            "needs_background": "light"
          }
        }
      ],
      "source": [
        "# Clear out previous gradients.\n",
        "x.grad.data.zero_()\n",
        "y.backward(torch.ones_like(x),retain_graph=True)\n",
        "plt.plot(x.detach(), x.grad)"
      ]
    },
    {
      "cell_type": "markdown",
      "metadata": {
        "origin_pos": 0,
        "id": "L4fz0X5ZNmlA"
      },
      "source": [
        "# Implementación de un perceptrón multicapa desde 0\n",
        "\n"
      ]
    },
    {
      "cell_type": "code",
      "execution_count": null,
      "metadata": {
        "origin_pos": 2,
        "tab": [
          "pytorch"
        ],
        "id": "sJ2EVwZ4NmlB"
      },
      "outputs": [],
      "source": [
        "import torch\n",
        "from torch import nn\n",
        "import torchvision\n",
        "from IPython import display\n",
        "from torchvision import transforms\n",
        "from torch.utils import data"
      ]
    },
    {
      "cell_type": "code",
      "source": [
        "#Ejemplo de dataloader para FAshin MNIST\n",
        "\n",
        "def load_data_fashion_mnist(batch_size, resize=None):\n",
        "    trans = [transforms.ToTensor()]\n",
        "    if resize:\n",
        "        trans.insert(0, transforms.Resize(resize))\n",
        "    trans = transforms.Compose(trans)\n",
        "    mnist_train = torchvision.datasets.FashionMNIST(\n",
        "        root=\"../data\", train=True, transform=trans, download=True)\n",
        "    mnist_test = torchvision.datasets.FashionMNIST(\n",
        "        root=\"../data\", train=False, transform=trans, download=True)\n",
        "    return (data.DataLoader(mnist_train, batch_size, shuffle=True,\n",
        "                            num_workers=1),\n",
        "            data.DataLoader(mnist_test, batch_size, shuffle=False,\n",
        "                            num_workers=1))\n"
      ],
      "metadata": {
        "id": "5wo108R04-B3"
      },
      "execution_count": null,
      "outputs": []
    },
    {
      "cell_type": "code",
      "execution_count": null,
      "metadata": {
        "origin_pos": 4,
        "tab": [
          "pytorch"
        ],
        "id": "fkSDFqu4NmlD"
      },
      "outputs": [],
      "source": [
        "batch_size = 256\n",
        "train_iter, test_iter = load_data_fashion_mnist(batch_size)"
      ]
    },
    {
      "cell_type": "markdown",
      "source": [
        "Como ven, vamos a volver a usar Fashion MNIST"
      ],
      "metadata": {
        "id": "txLm5DYwe1ye"
      }
    },
    {
      "cell_type": "markdown",
      "metadata": {
        "origin_pos": 5,
        "id": "s-FqjuDSNmlE"
      },
      "source": [
        "## Inicialización de parametros.\n"
      ]
    },
    {
      "cell_type": "code",
      "execution_count": null,
      "metadata": {
        "origin_pos": 7,
        "tab": [
          "pytorch"
        ],
        "id": "Kmi7j0xQNmlF"
      },
      "outputs": [],
      "source": [
        "num_inputs, num_outputs, num_hiddens = 784, 10, 256\n",
        "\n",
        "W1 = nn.Parameter(torch.randn(\n",
        "    num_inputs, num_hiddens, requires_grad=True) * 0.01)\n",
        "b1 = nn.Parameter(torch.zeros(num_hiddens, requires_grad=True))\n",
        "W2 = nn.Parameter(torch.randn(\n",
        "    num_hiddens, num_outputs, requires_grad=True) * 0.01)\n",
        "b2 = nn.Parameter(torch.zeros(num_outputs, requires_grad=True))\n",
        "\n",
        "params = [W1, b1, W2, b2]"
      ]
    },
    {
      "cell_type": "markdown",
      "metadata": {
        "origin_pos": 9,
        "id": "iB82zP9sNmlG"
      },
      "source": [
        "## Función de activación\n"
      ]
    },
    {
      "cell_type": "code",
      "execution_count": null,
      "metadata": {
        "origin_pos": 11,
        "tab": [
          "pytorch"
        ],
        "id": "bW41osBcNmlH"
      },
      "outputs": [],
      "source": [
        "def relu(X):\n",
        "    a = torch.zeros_like(X)\n",
        "    return torch.max(X, a)"
      ]
    },
    {
      "cell_type": "markdown",
      "metadata": {
        "origin_pos": 13,
        "id": "y-aTLh9QNmlI"
      },
      "source": [
        "## Modelo\n"
      ]
    },
    {
      "cell_type": "code",
      "execution_count": null,
      "metadata": {
        "origin_pos": 15,
        "tab": [
          "pytorch"
        ],
        "id": "Eco5s-sONmlJ"
      },
      "outputs": [],
      "source": [
        "def net(X):\n",
        "    X = X.reshape((-1, num_inputs))\n",
        "    H = relu(X@W1 + b1)  # '@' multiplicacion de matrices\n",
        "    return (H@W2 + b2)"
      ]
    },
    {
      "cell_type": "markdown",
      "metadata": {
        "origin_pos": 17,
        "id": "lUmiml-sNmlK"
      },
      "source": [
        "## Función de pérdida\n"
      ]
    },
    {
      "cell_type": "code",
      "execution_count": null,
      "metadata": {
        "origin_pos": 19,
        "tab": [
          "pytorch"
        ],
        "id": "9ZakhskiNmlK"
      },
      "outputs": [],
      "source": [
        "loss = nn.CrossEntropyLoss(reduction='none')"
      ]
    },
    {
      "cell_type": "markdown",
      "source": [
        "Recordemos que vamos a usar de nuevo la exactitud"
      ],
      "metadata": {
        "id": "2VXyORRturGw"
      }
    },
    {
      "cell_type": "code",
      "execution_count": null,
      "metadata": {
        "origin_pos": 27,
        "tab": [
          "pytorch"
        ],
        "id": "UrSYLgd4SfdP"
      },
      "outputs": [],
      "source": [
        "def accuracy(y_hat, y):\n",
        "    \"\"\"Compute the number of correct predictions.\"\"\"\n",
        "    if len(y_hat.shape) > 1 and y_hat.shape[1] > 1:\n",
        "        y_hat = y_hat.argmax(axis=1)\n",
        "    cmp = y_hat.type(y.dtype) == y\n",
        "    return float(cmp.type(y.dtype).sum())"
      ]
    },
    {
      "cell_type": "markdown",
      "metadata": {
        "origin_pos": 21,
        "id": "DM8vFUmGNmlL"
      },
      "source": [
        "## Entrenamiento\n"
      ]
    },
    {
      "cell_type": "code",
      "execution_count": null,
      "metadata": {
        "origin_pos": 23,
        "tab": [
          "pytorch"
        ],
        "id": "Y_gSGpV3NmlM"
      },
      "outputs": [],
      "source": [
        "num_epochs, lr = 10, 0.1\n",
        "updater = torch.optim.SGD(params, lr=lr)"
      ]
    },
    {
      "cell_type": "code",
      "source": [
        "num_epochs = 10\n",
        "lr = 0.1\n",
        "#features, labels = test_iter\n",
        "for epoch in range(num_epochs):\n",
        "    L = 0.0\n",
        "    N = 0\n",
        "    Acc = 0.0\n",
        "    TestAcc = 0.0\n",
        "    TestN = 0\n",
        "    for X, y in train_iter:\n",
        "        l = loss(net(X) ,y)\n",
        "        updater.zero_grad()\n",
        "        l.mean().backward()\n",
        "        updater.step()\n",
        "        L += l.sum()\n",
        "        # Aca el número de ejemplos\n",
        "        N += l.numel()\n",
        "        # Aca calcuamos exatitud\n",
        "        Acc += accuracy(net(X), y)\n",
        "    for X, y in test_iter:\n",
        "        TestN += y.numel()\n",
        "        TestAcc += accuracy(net(X), y)\n",
        "    print(f'epoch {epoch + 1}, loss {(L/N):f}\\\n",
        "          , train accuracy  {(Acc/N):f}, test accuracy {(TestAcc/TestN):f}')"
      ],
      "metadata": {
        "colab": {
          "base_uri": "https://localhost:8080/"
        },
        "id": "nQVTYr_Dlc_X",
        "outputId": "a9122dd3-6023-45cd-881f-dc0f596c74c3"
      },
      "execution_count": null,
      "outputs": [
        {
          "output_type": "stream",
          "name": "stdout",
          "text": [
            "epoch 1, loss 1.039288          , train accuracy  0.656717, test accuracy 0.734400\n",
            "epoch 2, loss 0.600367          , train accuracy  0.802367, test accuracy 0.777400\n",
            "epoch 3, loss 0.518991          , train accuracy  0.831417, test accuracy 0.800200\n",
            "epoch 4, loss 0.479947          , train accuracy  0.842800, test accuracy 0.823500\n",
            "epoch 5, loss 0.455249          , train accuracy  0.850733, test accuracy 0.836200\n",
            "epoch 6, loss 0.434863          , train accuracy  0.859933, test accuracy 0.811700\n",
            "epoch 7, loss 0.419172          , train accuracy  0.863450, test accuracy 0.835300\n",
            "epoch 8, loss 0.404052          , train accuracy  0.868300, test accuracy 0.832400\n",
            "epoch 9, loss 0.393968          , train accuracy  0.873833, test accuracy 0.844500\n",
            "epoch 10, loss 0.381902          , train accuracy  0.876950, test accuracy 0.829900\n"
          ]
        }
      ]
    },
    {
      "cell_type": "markdown",
      "metadata": {
        "origin_pos": 0,
        "id": "dVD2IiLUNpa3"
      },
      "source": [
        "# Implementacion concisa\n"
      ]
    },
    {
      "cell_type": "code",
      "execution_count": null,
      "metadata": {
        "origin_pos": 2,
        "tab": [
          "pytorch"
        ],
        "id": "P5LEV6c7Npa5"
      },
      "outputs": [],
      "source": [
        "import torch\n",
        "from torch import nn\n",
        "import torchvision\n",
        "from IPython import display\n",
        "from torchvision import transforms\n",
        "from torch.utils import data"
      ]
    },
    {
      "cell_type": "markdown",
      "metadata": {
        "origin_pos": 4,
        "id": "svnaJ7V8Npa6"
      },
      "source": [
        "## Modelo\n"
      ]
    },
    {
      "cell_type": "code",
      "execution_count": null,
      "metadata": {
        "origin_pos": 6,
        "tab": [
          "pytorch"
        ],
        "id": "3P6zugMRNpa7"
      },
      "outputs": [],
      "source": [
        "net = nn.Sequential(nn.Flatten(),\n",
        "                    nn.Linear(784, 256),\n",
        "                    nn.ReLU(),\n",
        "                    nn.Linear(256, 10))\n",
        "\n",
        "def init_weights(m):\n",
        "    if type(m) == nn.Linear:\n",
        "        nn.init.normal_(m.weight, std=0.01)\n",
        "\n",
        "net.apply(init_weights);"
      ]
    },
    {
      "cell_type": "code",
      "execution_count": null,
      "metadata": {
        "origin_pos": 10,
        "tab": [
          "pytorch"
        ],
        "id": "n9BstjHlNpa9"
      },
      "outputs": [],
      "source": [
        "batch_size, lr, num_epochs = 256, 0.1, 10\n",
        "loss = nn.CrossEntropyLoss(reduction='none')\n",
        "trainer = torch.optim.SGD(net.parameters(), lr=lr)"
      ]
    },
    {
      "cell_type": "code",
      "source": [
        "#Ejemplo de dataloader para FAshin MNIST\n",
        "\n",
        "def load_data_fashion_mnist(batch_size, resize=None):\n",
        "    trans = [transforms.ToTensor()]\n",
        "    if resize:\n",
        "        trans.insert(0, transforms.Resize(resize))\n",
        "    trans = transforms.Compose(trans)\n",
        "    mnist_train = torchvision.datasets.FashionMNIST(\n",
        "        root=\"../data\", train=True, transform=trans, download=True)\n",
        "    mnist_test = torchvision.datasets.FashionMNIST(\n",
        "        root=\"../data\", train=False, transform=trans, download=True)\n",
        "    return (data.DataLoader(mnist_train, batch_size, shuffle=True,\n",
        "                            num_workers=1),\n",
        "            data.DataLoader(mnist_test, batch_size, shuffle=False,\n",
        "                            num_workers=1))\n"
      ],
      "metadata": {
        "id": "cSmeZysvf7DX"
      },
      "execution_count": null,
      "outputs": []
    },
    {
      "cell_type": "code",
      "execution_count": null,
      "metadata": {
        "origin_pos": 27,
        "tab": [
          "pytorch"
        ],
        "id": "5DQY126Cf7DY"
      },
      "outputs": [],
      "source": [
        "def accuracy(y_hat, y):\n",
        "    \"\"\"Compute the number of correct predictions.\"\"\"\n",
        "    if len(y_hat.shape) > 1 and y_hat.shape[1] > 1:\n",
        "        y_hat = y_hat.argmax(axis=1)\n",
        "    cmp = y_hat.type(y.dtype) == y\n",
        "    return float(cmp.type(y.dtype).sum())"
      ]
    },
    {
      "cell_type": "code",
      "execution_count": null,
      "metadata": {
        "origin_pos": 12,
        "tab": [
          "pytorch"
        ],
        "id": "1-i0sVSqNpa-"
      },
      "outputs": [],
      "source": [
        "train_iter, test_iter = load_data_fashion_mnist(batch_size)"
      ]
    },
    {
      "cell_type": "code",
      "source": [
        "for epoch in range(num_epochs):\n",
        "    L = 0.0\n",
        "    N = 0\n",
        "    Acc = 0.0\n",
        "    TestAcc = 0.0\n",
        "    TestN = 0\n",
        "    for X, y in train_iter:\n",
        "        l = loss(net(X) ,y)\n",
        "        trainer.zero_grad()\n",
        "        l.mean().backward()\n",
        "        trainer.step()\n",
        "        L += l.sum()\n",
        "        N += l.numel()\n",
        "        Acc += accuracy(net(X), y)\n",
        "    for X, y in test_iter:\n",
        "        TestN += y.numel()\n",
        "        TestAcc += accuracy(net(X), y)\n",
        "    print(f'epoch {epoch + 1}, loss {(L/N):f}\\\n",
        "          , train accuracy  {(Acc/N):f}, test accuracy {(TestAcc/TestN):f}')"
      ],
      "metadata": {
        "colab": {
          "base_uri": "https://localhost:8080/"
        },
        "outputId": "2b74ff72-4a81-412c-f72f-2bce0066917b",
        "id": "vQT80IVPf7Db"
      },
      "execution_count": null,
      "outputs": [
        {
          "output_type": "stream",
          "name": "stdout",
          "text": [
            "epoch 1, loss 1.053460          , train accuracy  0.655217, test accuracy 0.760500\n",
            "epoch 2, loss 0.597861          , train accuracy  0.801000, test accuracy 0.812400\n",
            "epoch 3, loss 0.520889          , train accuracy  0.828950, test accuracy 0.819833\n",
            "epoch 4, loss 0.478859          , train accuracy  0.842350, test accuracy 0.825400\n",
            "epoch 5, loss 0.452455          , train accuracy  0.851650, test accuracy 0.848150\n",
            "epoch 6, loss 0.432241          , train accuracy  0.858517, test accuracy 0.843850\n",
            "epoch 7, loss 0.418598          , train accuracy  0.863700, test accuracy 0.847217\n",
            "epoch 8, loss 0.406195          , train accuracy  0.868267, test accuracy 0.844933\n",
            "epoch 9, loss 0.392574          , train accuracy  0.874050, test accuracy 0.857417\n",
            "epoch 10, loss 0.382872          , train accuracy  0.876167, test accuracy 0.864250\n"
          ]
        }
      ]
    }
  ],
  "metadata": {
    "kernelspec": {
      "display_name": "Python 3",
      "name": "python3"
    },
    "language_info": {
      "name": "python"
    },
    "colab": {
      "name": "MLP2.ipynb",
      "provenance": []
    }
  },
  "nbformat": 4,
  "nbformat_minor": 0
}