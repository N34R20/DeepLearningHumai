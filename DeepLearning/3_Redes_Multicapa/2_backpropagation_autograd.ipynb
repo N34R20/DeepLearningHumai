{
  "cells": [
    {
      "cell_type": "markdown",
      "metadata": {
        "id": "3ldDruvP73r6"
      },
      "source": [
        "<a href=\"https://colab.research.google.com/github/institutohumai/cursos-python/blob/master/DeepLearning/3_Redes_Multicapa/2_backpropagation_autograd.ipynb\" target=\"_parent\"><img src=\"https://colab.research.google.com/assets/colab-badge.svg\" alt=\"Open in Colab\"/></a>"
      ]
    },
    {
      "cell_type": "markdown",
      "metadata": {
        "id": "AXlE9A8e7HeF"
      },
      "source": [
        "# Backpropagation y Autograd"
      ]
    },
    {
      "cell_type": "code",
      "execution_count": null,
      "metadata": {
        "id": "BUFa4jBEBj4A"
      },
      "outputs": [],
      "source": [
        "import torch"
      ]
    },
    {
      "cell_type": "markdown",
      "metadata": {
        "id": "QZaxSTSOXO85"
      },
      "source": [
        "Autograd durante el entrenamiento\n",
        "--------------------\n",
        "\n",
        "Hemos echado un breve vistazo a cómo funciona Autograd, pero ¿cómo se ve cuando se usa para el propósito previsto? Definamos un modelo pequeño y examinemos cómo cambia después de un solo lote de entrenamiento. Primero, definimos algunas constantes, nuestro modelo y algunos sustitutos para entradas y salidas:"
      ]
    },
    {
      "cell_type": "code",
      "execution_count": null,
      "metadata": {
        "id": "Dp8VeM0uEDXx"
      },
      "outputs": [],
      "source": [
        "BATCH_SIZE = 16\n",
        "DIM_IN = 784\n",
        "HIDDEN_SIZE = 256\n",
        "DIM_OUT = 10\n",
        "\n",
        "net = torch.nn.Sequential(torch.nn.Linear(DIM_IN, HIDDEN_SIZE),\n",
        "                    torch.nn.ReLU(),\n",
        "                    torch.nn.Linear(HIDDEN_SIZE, DIM_OUT))\n",
        "\n",
        "# features aleatorias\n",
        "some_input = torch.randn(BATCH_SIZE, DIM_IN, requires_grad=False)\n",
        "# etiquetas aleatorias\n",
        "ideal_output = torch.randn(BATCH_SIZE, DIM_OUT, requires_grad=False)\n",
        "\n",
        "model = net"
      ]
    },
    {
      "cell_type": "markdown",
      "metadata": {
        "id": "3Iq_1R_DQTQn"
      },
      "source": [
        "Fijemos nos que no hizo falta agregar\n",
        "``requires_grad=True`` a las capas de modelo esto es por que la clase ``torch.nn.Module`` supone que siempre usaremos el gradiente para entrenar el modelo\n",
        "\n",
        "Sin embargo, al momento de inicial los valores del modelo, el gradiente no se calcula, hasta que lo pidamos.\n",
        "\n"
      ]
    },
    {
      "cell_type": "code",
      "execution_count": null,
      "metadata": {
        "colab": {
          "base_uri": "https://localhost:8080/"
        },
        "id": "Ck18sjWnQTQo",
        "outputId": "0b99b2ae-c4fb-4974-a08d-481305bb0f1e"
      },
      "outputs": [
        {
          "name": "stdout",
          "output_type": "stream",
          "text": [
            "tensor([ 0.0389, -0.0137,  0.0299, -0.0603, -0.0114, -0.0389, -0.0509,  0.0555,\n",
            "        -0.0331, -0.0127], grad_fn=<SliceBackward0>)\n",
            "None\n"
          ]
        }
      ],
      "source": [
        "print(model[2].weight[0][0:10]) # solo algunos son mostrados\n",
        "print(model[2].weight.grad)"
      ]
    },
    {
      "cell_type": "markdown",
      "metadata": {
        "id": "FczXgOYkQTQo"
      },
      "source": [
        "Veamos que ocurre ahora si entrenamos.\n",
        "\n",
        "Consideremos como función de perdida la distancia cuadrática media entre nuestra ``prediction`` y las etiquetas, ``ideal_output``\n",
        "\n",
        "En este caso usaremos SGD como algoritmos de optimización.\n",
        "\n",
        "\n"
      ]
    },
    {
      "cell_type": "code",
      "execution_count": null,
      "metadata": {
        "colab": {
          "base_uri": "https://localhost:8080/"
        },
        "id": "ISiSS0cnQTQr",
        "outputId": "8d1c468b-58cd-4b2c-e418-91dbe161233f"
      },
      "outputs": [
        {
          "name": "stdout",
          "output_type": "stream",
          "text": [
            "tensor(186.4553, grad_fn=<SumBackward0>)\n"
          ]
        }
      ],
      "source": [
        "optimizer = torch.optim.SGD(model.parameters(), lr=0.001)\n",
        "\n",
        "prediction = model(some_input)\n",
        "\n",
        "loss = (ideal_output - prediction).pow(2).sum()\n",
        "print(loss)"
      ]
    },
    {
      "cell_type": "markdown",
      "metadata": {
        "id": "W0-dRCmmQTQs"
      },
      "source": [
        "Hasta que no llamemos  ``loss.backward()`` los gradientes no se calculan.\n",
        "\n",
        "\n"
      ]
    },
    {
      "cell_type": "code",
      "execution_count": null,
      "metadata": {
        "colab": {
          "base_uri": "https://localhost:8080/"
        },
        "id": "VIswtgKuHXgs",
        "outputId": "5a095930-03a5-43c6-a8a9-276dc011c891"
      },
      "outputs": [
        {
          "name": "stdout",
          "output_type": "stream",
          "text": [
            "tensor([ 0.0389, -0.0137,  0.0299, -0.0603, -0.0114, -0.0389, -0.0509,  0.0555,\n",
            "        -0.0331, -0.0127], grad_fn=<SliceBackward0>)\n",
            "None\n"
          ]
        }
      ],
      "source": [
        "print(model[2].weight[0][0:10]) # solo algunos son mostrados\n",
        "print(model[2].weight.grad)"
      ]
    },
    {
      "cell_type": "code",
      "execution_count": null,
      "metadata": {
        "colab": {
          "base_uri": "https://localhost:8080/"
        },
        "id": "1RIppPw_QTQs",
        "outputId": "1352e2bd-0476-4a3c-b878-3fc0597ef504"
      },
      "outputs": [
        {
          "name": "stdout",
          "output_type": "stream",
          "text": [
            "tensor([ 0.0389, -0.0137,  0.0299, -0.0603, -0.0114, -0.0389, -0.0509,  0.0555,\n",
            "        -0.0331, -0.0127], grad_fn=<SliceBackward0>)\n",
            "tensor([-1.2933,  2.1021,  1.0937, -3.7679, -2.0949, -1.8788, -5.4912,  0.5143,\n",
            "        -2.8695,  1.9576])\n"
          ]
        }
      ],
      "source": [
        "loss.backward()\n",
        "print(model[2].weight[0][0:10])\n",
        "print(model[2].weight.grad[0][0:10])"
      ]
    },
    {
      "cell_type": "markdown",
      "metadata": {
        "id": "4vR5GYY1QTQs"
      },
      "source": [
        "Por ahora solo hemos calculados los gradientes, pero no los hemos usada para actualizar los pesos. Esto es porque debemos ejecutar ``optimizer.step()``\n",
        "\n",
        "\n"
      ]
    },
    {
      "cell_type": "code",
      "execution_count": null,
      "metadata": {
        "colab": {
          "base_uri": "https://localhost:8080/"
        },
        "id": "okTVR8gyHzzz",
        "outputId": "fbb6a570-8802-447f-a2db-3e04bf99b5a9"
      },
      "outputs": [
        {
          "name": "stdout",
          "output_type": "stream",
          "text": [
            "tensor([ 0.0389, -0.0137,  0.0299, -0.0603, -0.0114, -0.0389, -0.0509,  0.0555,\n",
            "        -0.0331, -0.0127], grad_fn=<SliceBackward0>)\n",
            "tensor([-1.2933,  2.1021,  1.0937, -3.7679, -2.0949, -1.8788, -5.4912,  0.5143,\n",
            "        -2.8695,  1.9576])\n"
          ]
        }
      ],
      "source": [
        "print(model[2].weight[0][0:10]) # solo algunos son mostrados\n",
        "print(model[2].weight.grad[0][0:10])"
      ]
    },
    {
      "cell_type": "code",
      "execution_count": null,
      "metadata": {
        "colab": {
          "base_uri": "https://localhost:8080/"
        },
        "id": "_fdjOapqQTQt",
        "outputId": "cc67a62a-37b2-4013-df96-3eedf70cf769"
      },
      "outputs": [
        {
          "name": "stdout",
          "output_type": "stream",
          "text": [
            "tensor([ 0.0402, -0.0158,  0.0288, -0.0566, -0.0093, -0.0370, -0.0454,  0.0550,\n",
            "        -0.0303, -0.0147], grad_fn=<SliceBackward0>)\n",
            "tensor([-1.2933,  2.1021,  1.0937, -3.7679, -2.0949, -1.8788, -5.4912,  0.5143,\n",
            "        -2.8695,  1.9576])\n"
          ]
        }
      ],
      "source": [
        "optimizer.step()\n",
        "print(model[2].weight[0][0:10])\n",
        "print(model[2].weight.grad[0][0:10])"
      ]
    },
    {
      "cell_type": "markdown",
      "metadata": {
        "id": "Squyv_l8QTQt"
      },
      "source": [
        "Vemos ahora que los valores de ``model[2]`` han cambiado\n",
        "\n",
        "Un detalle que no dedemos ignorar es que debemos llamar a la función ``optimizer.zero_grad()`` despues de llamar\n",
        "``optimizer.step()``. De no hacer esto cada vez que llamemos  ``loss.backward()`` la suma de los gradientes se acumulará.\n",
        "\n",
        "\n"
      ]
    },
    {
      "cell_type": "code",
      "execution_count": null,
      "metadata": {
        "colab": {
          "base_uri": "https://localhost:8080/"
        },
        "id": "Z7Wcgm9OQTQv",
        "outputId": "c6fdcd9f-9a55-44fc-eee5-7790f0212705"
      },
      "outputs": [
        {
          "name": "stdout",
          "output_type": "stream",
          "text": [
            "tensor([-1.2933,  2.1021,  1.0937, -3.7679, -2.0949, -1.8788, -5.4912,  0.5143,\n",
            "        -2.8695,  1.9576])\n",
            "tensor([-12.3276,  19.2645,   7.7500, -11.1583,  -7.6493,  -1.7553, -12.9434,\n",
            "          2.4429, -10.6501,  11.7848])\n",
            "tensor([0., 0., 0., 0., 0., 0., 0., 0., 0., 0.])\n"
          ]
        }
      ],
      "source": [
        "print(model[2].weight.grad[0][0:10])\n",
        "\n",
        "for i in range(0, 5):\n",
        "    prediction = model(some_input)\n",
        "    loss = (ideal_output - prediction).pow(2).sum()\n",
        "    loss.backward()\n",
        "\n",
        "print(model[2].weight.grad[0][0:10])\n",
        "\n",
        "optimizer.zero_grad()\n",
        "\n",
        "print(model[2].weight.grad[0][0:10])"
      ]
    },
    {
      "cell_type": "markdown",
      "metadata": {
        "id": "Hwps1UrKQTQ-"
      },
      "source": [
        "Contenido adicional: Más información sobre Autograd\n",
        "-----------------------------------------------------------\n",
        "\n",
        "En principio, ya conocíamos la noción de gradiente. Sabíamos que para una toma vectores m-dimensionales y devuelve un único valor (un escalar), $l=g\\left(\\vec{y}\\right)$ existe el gradiente. Esto es un vector que nos dice como varía una función conforme cambian los valores del vector de entrada $\\vec{y}$\n",
        "\n",
        "\n",
        "$$v=\\left(\\begin{array}{ccc}\\frac{\\partial l}{\\partial y_{1}} & \\cdots & \\frac{\\partial l}{\\partial y_{m}}\\end{array}\\right)^{T}$$\n",
        "\n",
        "En general, si tenemos una función que toma vectores n-dimensionales como entrada y tiene como salida vectores m-dimensionales, $\\vec{y}=f(\\vec{x})$, la idea de gradiente no permite abarcar todas las posibles variaciones. En este sentido se necesita una generalización de la idea de gradiente. Esta generalización es una matriz conocida como el\n",
        "*Jacobiano:*\n",
        "\n",
        "\\begin{align}J\n",
        "     =\n",
        "     \\left(\\begin{array}{ccc}\n",
        "     \\frac{\\partial y_{1}}{\\partial x_{1}} & \\cdots & \\frac{\\partial y_{1}}{\\partial x_{n}}\\\\\n",
        "     \\vdots & \\ddots & \\vdots\\\\\n",
        "     \\frac{\\partial y_{m}}{\\partial x_{1}} & \\cdots & \\frac{\\partial y_{m}}{\\partial x_{n}}\n",
        "     \\end{array}\\right)\\end{align}\n",
        "\n",
        "Sin embargo, la función de pérdida nuestros modelos más sencillos son en realidad una combinación de las dos cosas.\n",
        "\n",
        "$$l=g\\left(\\vec{y}\\right)$$\n",
        "$$\\vec{y}=f(\\vec{x})$$\n",
        "$$l=g\\left(f(\\vec{x})\\right)$$\n",
        "\n",
        "Puede demostrarse, sin embargo, que para obtener el gradiente de $l$, respecto de $\\vec{x}$ solo debemos hacer una multiplicación matricial\n",
        "\n",
        "$$\\vec{\\nabla_x} l=J^{T}\\cdot v$$\n",
        "\n",
        "\\begin{align}J^{T}\\cdot v=\\left(\\begin{array}{ccc}\n",
        "   \\frac{\\partial y_{1}}{\\partial x_{1}} & \\cdots & \\frac{\\partial y_{m}}{\\partial x_{1}}\\\\\n",
        "   \\vdots & \\ddots & \\vdots\\\\\n",
        "   \\frac{\\partial y_{1}}{\\partial x_{n}} & \\cdots & \\frac{\\partial y_{m}}{\\partial x_{n}}\n",
        "   \\end{array}\\right)\\left(\\begin{array}{c}\n",
        "   \\frac{\\partial l}{\\partial y_{1}}\\\\\n",
        "   \\vdots\\\\\n",
        "   \\frac{\\partial l}{\\partial y_{m}}\n",
        "   \\end{array}\\right)=\\left(\\begin{array}{c}\n",
        "   \\frac{\\partial l}{\\partial x_{1}}\\\\\n",
        "   \\vdots\\\\\n",
        "   \\frac{\\partial l}{\\partial x_{n}}\n",
        "   \\end{array}\\right)\\end{align}\n",
        "\n",
        "Del mismo modo, a la salida de cada capa, tenemos un Jacobiano distinto. De tal manera que nuestro gradiente en realdiad tendra la forma:\n",
        "\n",
        "$$\\vec{\\nabla_x} l=J_{1}^{T} J_{2}^{T} J_{3}^{T} J_{4}^{T}\\cdot v$$\n",
        "\n",
        "\n",
        "**``torch.autograd`` es la herramienta que computa todas estas dependencias por medio de productos matriciales** Además de guardar la relación entre cada salida y cada entrada de cada capa\n",
        "\n",
        "\n"
      ]
    },
    {
      "cell_type": "markdown",
      "metadata": {
        "id": "R_PjgZpSsewp"
      },
      "source": [
        "Para más información consultar\n",
        "\n",
        "<https://pytorch.org/docs/stable/autograd.html#functional-higher-level-api>"
      ]
    }
  ],
  "metadata": {
    "colab": {
      "name": "MLP4.ipynb",
      "provenance": [],
      "toc_visible": true
    },
    "kernelspec": {
      "display_name": "Python 3",
      "name": "python3"
    },
    "language_info": {
      "name": "python"
    }
  },
  "nbformat": 4,
  "nbformat_minor": 0
}