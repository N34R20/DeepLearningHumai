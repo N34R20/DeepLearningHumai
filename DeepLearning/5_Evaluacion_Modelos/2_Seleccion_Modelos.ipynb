{
  "nbformat": 4,
  "nbformat_minor": 0,
  "metadata": {
    "colab": {
      "name": "Selección de Modelos.ipynb",
      "provenance": []
    },
    "kernelspec": {
      "name": "python3",
      "display_name": "Python 3"
    },
    "language_info": {
      "name": "python"
    },
    "accelerator": "GPU",
    "widgets": {
      "application/vnd.jupyter.widget-state+json": {
        "072497b131ae424db95fdcc9e9d898f2": {
          "model_module": "@jupyter-widgets/controls",
          "model_name": "HBoxModel",
          "model_module_version": "1.5.0",
          "state": {
            "_dom_classes": [],
            "_model_module": "@jupyter-widgets/controls",
            "_model_module_version": "1.5.0",
            "_model_name": "HBoxModel",
            "_view_count": null,
            "_view_module": "@jupyter-widgets/controls",
            "_view_module_version": "1.5.0",
            "_view_name": "HBoxView",
            "box_style": "",
            "children": [
              "IPY_MODEL_ba1539aa51d34627a0113616b450b54c",
              "IPY_MODEL_6382f3693a02482ea016ece36900e47c",
              "IPY_MODEL_06ae867e73884f8ca79a26066ad3e41a"
            ],
            "layout": "IPY_MODEL_b55da2bc6c9d444b83e4357b27325336"
          }
        },
        "ba1539aa51d34627a0113616b450b54c": {
          "model_module": "@jupyter-widgets/controls",
          "model_name": "HTMLModel",
          "model_module_version": "1.5.0",
          "state": {
            "_dom_classes": [],
            "_model_module": "@jupyter-widgets/controls",
            "_model_module_version": "1.5.0",
            "_model_name": "HTMLModel",
            "_view_count": null,
            "_view_module": "@jupyter-widgets/controls",
            "_view_module_version": "1.5.0",
            "_view_name": "HTMLView",
            "description": "",
            "description_tooltip": null,
            "layout": "IPY_MODEL_f310a65c583a4b13894d660c1a40119f",
            "placeholder": "​",
            "style": "IPY_MODEL_99c1e82f54a642fbb0b4d6ea7af1cf50",
            "value": "100%"
          }
        },
        "6382f3693a02482ea016ece36900e47c": {
          "model_module": "@jupyter-widgets/controls",
          "model_name": "FloatProgressModel",
          "model_module_version": "1.5.0",
          "state": {
            "_dom_classes": [],
            "_model_module": "@jupyter-widgets/controls",
            "_model_module_version": "1.5.0",
            "_model_name": "FloatProgressModel",
            "_view_count": null,
            "_view_module": "@jupyter-widgets/controls",
            "_view_module_version": "1.5.0",
            "_view_name": "ProgressView",
            "bar_style": "success",
            "description": "",
            "description_tooltip": null,
            "layout": "IPY_MODEL_9d83b730b1d3489dbf044ed36cb8baf0",
            "max": 9912422,
            "min": 0,
            "orientation": "horizontal",
            "style": "IPY_MODEL_36ac454ce1c94b36b4ebe802ac793860",
            "value": 9912422
          }
        },
        "06ae867e73884f8ca79a26066ad3e41a": {
          "model_module": "@jupyter-widgets/controls",
          "model_name": "HTMLModel",
          "model_module_version": "1.5.0",
          "state": {
            "_dom_classes": [],
            "_model_module": "@jupyter-widgets/controls",
            "_model_module_version": "1.5.0",
            "_model_name": "HTMLModel",
            "_view_count": null,
            "_view_module": "@jupyter-widgets/controls",
            "_view_module_version": "1.5.0",
            "_view_name": "HTMLView",
            "description": "",
            "description_tooltip": null,
            "layout": "IPY_MODEL_f7d71ec3576043679d7f7e6056d0fbc8",
            "placeholder": "​",
            "style": "IPY_MODEL_dd8735af4c114dd485be19a3f76f6ddd",
            "value": " 9912422/9912422 [00:00&lt;00:00, 22857892.01it/s]"
          }
        },
        "b55da2bc6c9d444b83e4357b27325336": {
          "model_module": "@jupyter-widgets/base",
          "model_name": "LayoutModel",
          "model_module_version": "1.2.0",
          "state": {
            "_model_module": "@jupyter-widgets/base",
            "_model_module_version": "1.2.0",
            "_model_name": "LayoutModel",
            "_view_count": null,
            "_view_module": "@jupyter-widgets/base",
            "_view_module_version": "1.2.0",
            "_view_name": "LayoutView",
            "align_content": null,
            "align_items": null,
            "align_self": null,
            "border": null,
            "bottom": null,
            "display": null,
            "flex": null,
            "flex_flow": null,
            "grid_area": null,
            "grid_auto_columns": null,
            "grid_auto_flow": null,
            "grid_auto_rows": null,
            "grid_column": null,
            "grid_gap": null,
            "grid_row": null,
            "grid_template_areas": null,
            "grid_template_columns": null,
            "grid_template_rows": null,
            "height": null,
            "justify_content": null,
            "justify_items": null,
            "left": null,
            "margin": null,
            "max_height": null,
            "max_width": null,
            "min_height": null,
            "min_width": null,
            "object_fit": null,
            "object_position": null,
            "order": null,
            "overflow": null,
            "overflow_x": null,
            "overflow_y": null,
            "padding": null,
            "right": null,
            "top": null,
            "visibility": null,
            "width": null
          }
        },
        "f310a65c583a4b13894d660c1a40119f": {
          "model_module": "@jupyter-widgets/base",
          "model_name": "LayoutModel",
          "model_module_version": "1.2.0",
          "state": {
            "_model_module": "@jupyter-widgets/base",
            "_model_module_version": "1.2.0",
            "_model_name": "LayoutModel",
            "_view_count": null,
            "_view_module": "@jupyter-widgets/base",
            "_view_module_version": "1.2.0",
            "_view_name": "LayoutView",
            "align_content": null,
            "align_items": null,
            "align_self": null,
            "border": null,
            "bottom": null,
            "display": null,
            "flex": null,
            "flex_flow": null,
            "grid_area": null,
            "grid_auto_columns": null,
            "grid_auto_flow": null,
            "grid_auto_rows": null,
            "grid_column": null,
            "grid_gap": null,
            "grid_row": null,
            "grid_template_areas": null,
            "grid_template_columns": null,
            "grid_template_rows": null,
            "height": null,
            "justify_content": null,
            "justify_items": null,
            "left": null,
            "margin": null,
            "max_height": null,
            "max_width": null,
            "min_height": null,
            "min_width": null,
            "object_fit": null,
            "object_position": null,
            "order": null,
            "overflow": null,
            "overflow_x": null,
            "overflow_y": null,
            "padding": null,
            "right": null,
            "top": null,
            "visibility": null,
            "width": null
          }
        },
        "99c1e82f54a642fbb0b4d6ea7af1cf50": {
          "model_module": "@jupyter-widgets/controls",
          "model_name": "DescriptionStyleModel",
          "model_module_version": "1.5.0",
          "state": {
            "_model_module": "@jupyter-widgets/controls",
            "_model_module_version": "1.5.0",
            "_model_name": "DescriptionStyleModel",
            "_view_count": null,
            "_view_module": "@jupyter-widgets/base",
            "_view_module_version": "1.2.0",
            "_view_name": "StyleView",
            "description_width": ""
          }
        },
        "9d83b730b1d3489dbf044ed36cb8baf0": {
          "model_module": "@jupyter-widgets/base",
          "model_name": "LayoutModel",
          "model_module_version": "1.2.0",
          "state": {
            "_model_module": "@jupyter-widgets/base",
            "_model_module_version": "1.2.0",
            "_model_name": "LayoutModel",
            "_view_count": null,
            "_view_module": "@jupyter-widgets/base",
            "_view_module_version": "1.2.0",
            "_view_name": "LayoutView",
            "align_content": null,
            "align_items": null,
            "align_self": null,
            "border": null,
            "bottom": null,
            "display": null,
            "flex": null,
            "flex_flow": null,
            "grid_area": null,
            "grid_auto_columns": null,
            "grid_auto_flow": null,
            "grid_auto_rows": null,
            "grid_column": null,
            "grid_gap": null,
            "grid_row": null,
            "grid_template_areas": null,
            "grid_template_columns": null,
            "grid_template_rows": null,
            "height": null,
            "justify_content": null,
            "justify_items": null,
            "left": null,
            "margin": null,
            "max_height": null,
            "max_width": null,
            "min_height": null,
            "min_width": null,
            "object_fit": null,
            "object_position": null,
            "order": null,
            "overflow": null,
            "overflow_x": null,
            "overflow_y": null,
            "padding": null,
            "right": null,
            "top": null,
            "visibility": null,
            "width": null
          }
        },
        "36ac454ce1c94b36b4ebe802ac793860": {
          "model_module": "@jupyter-widgets/controls",
          "model_name": "ProgressStyleModel",
          "model_module_version": "1.5.0",
          "state": {
            "_model_module": "@jupyter-widgets/controls",
            "_model_module_version": "1.5.0",
            "_model_name": "ProgressStyleModel",
            "_view_count": null,
            "_view_module": "@jupyter-widgets/base",
            "_view_module_version": "1.2.0",
            "_view_name": "StyleView",
            "bar_color": null,
            "description_width": ""
          }
        },
        "f7d71ec3576043679d7f7e6056d0fbc8": {
          "model_module": "@jupyter-widgets/base",
          "model_name": "LayoutModel",
          "model_module_version": "1.2.0",
          "state": {
            "_model_module": "@jupyter-widgets/base",
            "_model_module_version": "1.2.0",
            "_model_name": "LayoutModel",
            "_view_count": null,
            "_view_module": "@jupyter-widgets/base",
            "_view_module_version": "1.2.0",
            "_view_name": "LayoutView",
            "align_content": null,
            "align_items": null,
            "align_self": null,
            "border": null,
            "bottom": null,
            "display": null,
            "flex": null,
            "flex_flow": null,
            "grid_area": null,
            "grid_auto_columns": null,
            "grid_auto_flow": null,
            "grid_auto_rows": null,
            "grid_column": null,
            "grid_gap": null,
            "grid_row": null,
            "grid_template_areas": null,
            "grid_template_columns": null,
            "grid_template_rows": null,
            "height": null,
            "justify_content": null,
            "justify_items": null,
            "left": null,
            "margin": null,
            "max_height": null,
            "max_width": null,
            "min_height": null,
            "min_width": null,
            "object_fit": null,
            "object_position": null,
            "order": null,
            "overflow": null,
            "overflow_x": null,
            "overflow_y": null,
            "padding": null,
            "right": null,
            "top": null,
            "visibility": null,
            "width": null
          }
        },
        "dd8735af4c114dd485be19a3f76f6ddd": {
          "model_module": "@jupyter-widgets/controls",
          "model_name": "DescriptionStyleModel",
          "model_module_version": "1.5.0",
          "state": {
            "_model_module": "@jupyter-widgets/controls",
            "_model_module_version": "1.5.0",
            "_model_name": "DescriptionStyleModel",
            "_view_count": null,
            "_view_module": "@jupyter-widgets/base",
            "_view_module_version": "1.2.0",
            "_view_name": "StyleView",
            "description_width": ""
          }
        },
        "d5d7f6ea987a42ae841cccc44c8d97f9": {
          "model_module": "@jupyter-widgets/controls",
          "model_name": "HBoxModel",
          "model_module_version": "1.5.0",
          "state": {
            "_dom_classes": [],
            "_model_module": "@jupyter-widgets/controls",
            "_model_module_version": "1.5.0",
            "_model_name": "HBoxModel",
            "_view_count": null,
            "_view_module": "@jupyter-widgets/controls",
            "_view_module_version": "1.5.0",
            "_view_name": "HBoxView",
            "box_style": "",
            "children": [
              "IPY_MODEL_3a550e7fd9f34f578c6fa8adc46dbf6a",
              "IPY_MODEL_1c44db089a56428186da2d82e9a6e78d",
              "IPY_MODEL_7bd560469a2946fdbf136d76b9f26958"
            ],
            "layout": "IPY_MODEL_a4cbd22d50b3435aa4eeaa7f62de0809"
          }
        },
        "3a550e7fd9f34f578c6fa8adc46dbf6a": {
          "model_module": "@jupyter-widgets/controls",
          "model_name": "HTMLModel",
          "model_module_version": "1.5.0",
          "state": {
            "_dom_classes": [],
            "_model_module": "@jupyter-widgets/controls",
            "_model_module_version": "1.5.0",
            "_model_name": "HTMLModel",
            "_view_count": null,
            "_view_module": "@jupyter-widgets/controls",
            "_view_module_version": "1.5.0",
            "_view_name": "HTMLView",
            "description": "",
            "description_tooltip": null,
            "layout": "IPY_MODEL_13f49e4732a642eba90afe5c935935fd",
            "placeholder": "​",
            "style": "IPY_MODEL_807dfc23c7d64299bb276c1e45d9d76f",
            "value": "100%"
          }
        },
        "1c44db089a56428186da2d82e9a6e78d": {
          "model_module": "@jupyter-widgets/controls",
          "model_name": "FloatProgressModel",
          "model_module_version": "1.5.0",
          "state": {
            "_dom_classes": [],
            "_model_module": "@jupyter-widgets/controls",
            "_model_module_version": "1.5.0",
            "_model_name": "FloatProgressModel",
            "_view_count": null,
            "_view_module": "@jupyter-widgets/controls",
            "_view_module_version": "1.5.0",
            "_view_name": "ProgressView",
            "bar_style": "success",
            "description": "",
            "description_tooltip": null,
            "layout": "IPY_MODEL_c1bb1a1850ce490c9f95af6c6a6ed4da",
            "max": 28881,
            "min": 0,
            "orientation": "horizontal",
            "style": "IPY_MODEL_2a77faa04c9c4fdc96f90098354e5219",
            "value": 28881
          }
        },
        "7bd560469a2946fdbf136d76b9f26958": {
          "model_module": "@jupyter-widgets/controls",
          "model_name": "HTMLModel",
          "model_module_version": "1.5.0",
          "state": {
            "_dom_classes": [],
            "_model_module": "@jupyter-widgets/controls",
            "_model_module_version": "1.5.0",
            "_model_name": "HTMLModel",
            "_view_count": null,
            "_view_module": "@jupyter-widgets/controls",
            "_view_module_version": "1.5.0",
            "_view_name": "HTMLView",
            "description": "",
            "description_tooltip": null,
            "layout": "IPY_MODEL_220c40dcf45545649f7aaa1b694e4efd",
            "placeholder": "​",
            "style": "IPY_MODEL_fed88f3717234dc38350949c3997e333",
            "value": " 28881/28881 [00:00&lt;00:00, 864285.72it/s]"
          }
        },
        "a4cbd22d50b3435aa4eeaa7f62de0809": {
          "model_module": "@jupyter-widgets/base",
          "model_name": "LayoutModel",
          "model_module_version": "1.2.0",
          "state": {
            "_model_module": "@jupyter-widgets/base",
            "_model_module_version": "1.2.0",
            "_model_name": "LayoutModel",
            "_view_count": null,
            "_view_module": "@jupyter-widgets/base",
            "_view_module_version": "1.2.0",
            "_view_name": "LayoutView",
            "align_content": null,
            "align_items": null,
            "align_self": null,
            "border": null,
            "bottom": null,
            "display": null,
            "flex": null,
            "flex_flow": null,
            "grid_area": null,
            "grid_auto_columns": null,
            "grid_auto_flow": null,
            "grid_auto_rows": null,
            "grid_column": null,
            "grid_gap": null,
            "grid_row": null,
            "grid_template_areas": null,
            "grid_template_columns": null,
            "grid_template_rows": null,
            "height": null,
            "justify_content": null,
            "justify_items": null,
            "left": null,
            "margin": null,
            "max_height": null,
            "max_width": null,
            "min_height": null,
            "min_width": null,
            "object_fit": null,
            "object_position": null,
            "order": null,
            "overflow": null,
            "overflow_x": null,
            "overflow_y": null,
            "padding": null,
            "right": null,
            "top": null,
            "visibility": null,
            "width": null
          }
        },
        "13f49e4732a642eba90afe5c935935fd": {
          "model_module": "@jupyter-widgets/base",
          "model_name": "LayoutModel",
          "model_module_version": "1.2.0",
          "state": {
            "_model_module": "@jupyter-widgets/base",
            "_model_module_version": "1.2.0",
            "_model_name": "LayoutModel",
            "_view_count": null,
            "_view_module": "@jupyter-widgets/base",
            "_view_module_version": "1.2.0",
            "_view_name": "LayoutView",
            "align_content": null,
            "align_items": null,
            "align_self": null,
            "border": null,
            "bottom": null,
            "display": null,
            "flex": null,
            "flex_flow": null,
            "grid_area": null,
            "grid_auto_columns": null,
            "grid_auto_flow": null,
            "grid_auto_rows": null,
            "grid_column": null,
            "grid_gap": null,
            "grid_row": null,
            "grid_template_areas": null,
            "grid_template_columns": null,
            "grid_template_rows": null,
            "height": null,
            "justify_content": null,
            "justify_items": null,
            "left": null,
            "margin": null,
            "max_height": null,
            "max_width": null,
            "min_height": null,
            "min_width": null,
            "object_fit": null,
            "object_position": null,
            "order": null,
            "overflow": null,
            "overflow_x": null,
            "overflow_y": null,
            "padding": null,
            "right": null,
            "top": null,
            "visibility": null,
            "width": null
          }
        },
        "807dfc23c7d64299bb276c1e45d9d76f": {
          "model_module": "@jupyter-widgets/controls",
          "model_name": "DescriptionStyleModel",
          "model_module_version": "1.5.0",
          "state": {
            "_model_module": "@jupyter-widgets/controls",
            "_model_module_version": "1.5.0",
            "_model_name": "DescriptionStyleModel",
            "_view_count": null,
            "_view_module": "@jupyter-widgets/base",
            "_view_module_version": "1.2.0",
            "_view_name": "StyleView",
            "description_width": ""
          }
        },
        "c1bb1a1850ce490c9f95af6c6a6ed4da": {
          "model_module": "@jupyter-widgets/base",
          "model_name": "LayoutModel",
          "model_module_version": "1.2.0",
          "state": {
            "_model_module": "@jupyter-widgets/base",
            "_model_module_version": "1.2.0",
            "_model_name": "LayoutModel",
            "_view_count": null,
            "_view_module": "@jupyter-widgets/base",
            "_view_module_version": "1.2.0",
            "_view_name": "LayoutView",
            "align_content": null,
            "align_items": null,
            "align_self": null,
            "border": null,
            "bottom": null,
            "display": null,
            "flex": null,
            "flex_flow": null,
            "grid_area": null,
            "grid_auto_columns": null,
            "grid_auto_flow": null,
            "grid_auto_rows": null,
            "grid_column": null,
            "grid_gap": null,
            "grid_row": null,
            "grid_template_areas": null,
            "grid_template_columns": null,
            "grid_template_rows": null,
            "height": null,
            "justify_content": null,
            "justify_items": null,
            "left": null,
            "margin": null,
            "max_height": null,
            "max_width": null,
            "min_height": null,
            "min_width": null,
            "object_fit": null,
            "object_position": null,
            "order": null,
            "overflow": null,
            "overflow_x": null,
            "overflow_y": null,
            "padding": null,
            "right": null,
            "top": null,
            "visibility": null,
            "width": null
          }
        },
        "2a77faa04c9c4fdc96f90098354e5219": {
          "model_module": "@jupyter-widgets/controls",
          "model_name": "ProgressStyleModel",
          "model_module_version": "1.5.0",
          "state": {
            "_model_module": "@jupyter-widgets/controls",
            "_model_module_version": "1.5.0",
            "_model_name": "ProgressStyleModel",
            "_view_count": null,
            "_view_module": "@jupyter-widgets/base",
            "_view_module_version": "1.2.0",
            "_view_name": "StyleView",
            "bar_color": null,
            "description_width": ""
          }
        },
        "220c40dcf45545649f7aaa1b694e4efd": {
          "model_module": "@jupyter-widgets/base",
          "model_name": "LayoutModel",
          "model_module_version": "1.2.0",
          "state": {
            "_model_module": "@jupyter-widgets/base",
            "_model_module_version": "1.2.0",
            "_model_name": "LayoutModel",
            "_view_count": null,
            "_view_module": "@jupyter-widgets/base",
            "_view_module_version": "1.2.0",
            "_view_name": "LayoutView",
            "align_content": null,
            "align_items": null,
            "align_self": null,
            "border": null,
            "bottom": null,
            "display": null,
            "flex": null,
            "flex_flow": null,
            "grid_area": null,
            "grid_auto_columns": null,
            "grid_auto_flow": null,
            "grid_auto_rows": null,
            "grid_column": null,
            "grid_gap": null,
            "grid_row": null,
            "grid_template_areas": null,
            "grid_template_columns": null,
            "grid_template_rows": null,
            "height": null,
            "justify_content": null,
            "justify_items": null,
            "left": null,
            "margin": null,
            "max_height": null,
            "max_width": null,
            "min_height": null,
            "min_width": null,
            "object_fit": null,
            "object_position": null,
            "order": null,
            "overflow": null,
            "overflow_x": null,
            "overflow_y": null,
            "padding": null,
            "right": null,
            "top": null,
            "visibility": null,
            "width": null
          }
        },
        "fed88f3717234dc38350949c3997e333": {
          "model_module": "@jupyter-widgets/controls",
          "model_name": "DescriptionStyleModel",
          "model_module_version": "1.5.0",
          "state": {
            "_model_module": "@jupyter-widgets/controls",
            "_model_module_version": "1.5.0",
            "_model_name": "DescriptionStyleModel",
            "_view_count": null,
            "_view_module": "@jupyter-widgets/base",
            "_view_module_version": "1.2.0",
            "_view_name": "StyleView",
            "description_width": ""
          }
        },
        "c7c4ba19471d459dabf960a3eabdf9bc": {
          "model_module": "@jupyter-widgets/controls",
          "model_name": "HBoxModel",
          "model_module_version": "1.5.0",
          "state": {
            "_dom_classes": [],
            "_model_module": "@jupyter-widgets/controls",
            "_model_module_version": "1.5.0",
            "_model_name": "HBoxModel",
            "_view_count": null,
            "_view_module": "@jupyter-widgets/controls",
            "_view_module_version": "1.5.0",
            "_view_name": "HBoxView",
            "box_style": "",
            "children": [
              "IPY_MODEL_6e8bc7bece074c9693eaea6f117d4d8c",
              "IPY_MODEL_8bf4334e23ab41708511bd12c99884b1",
              "IPY_MODEL_d2634f345e4547209e8f1499dd3ac8a0"
            ],
            "layout": "IPY_MODEL_452b65ec7d474773b427ea9247821f0c"
          }
        },
        "6e8bc7bece074c9693eaea6f117d4d8c": {
          "model_module": "@jupyter-widgets/controls",
          "model_name": "HTMLModel",
          "model_module_version": "1.5.0",
          "state": {
            "_dom_classes": [],
            "_model_module": "@jupyter-widgets/controls",
            "_model_module_version": "1.5.0",
            "_model_name": "HTMLModel",
            "_view_count": null,
            "_view_module": "@jupyter-widgets/controls",
            "_view_module_version": "1.5.0",
            "_view_name": "HTMLView",
            "description": "",
            "description_tooltip": null,
            "layout": "IPY_MODEL_d968c37611d841f9b73798a71a66cc56",
            "placeholder": "​",
            "style": "IPY_MODEL_b07173a493154e87ada7eb105d2f887a",
            "value": "100%"
          }
        },
        "8bf4334e23ab41708511bd12c99884b1": {
          "model_module": "@jupyter-widgets/controls",
          "model_name": "FloatProgressModel",
          "model_module_version": "1.5.0",
          "state": {
            "_dom_classes": [],
            "_model_module": "@jupyter-widgets/controls",
            "_model_module_version": "1.5.0",
            "_model_name": "FloatProgressModel",
            "_view_count": null,
            "_view_module": "@jupyter-widgets/controls",
            "_view_module_version": "1.5.0",
            "_view_name": "ProgressView",
            "bar_style": "success",
            "description": "",
            "description_tooltip": null,
            "layout": "IPY_MODEL_5d0a369772db44babacebe08e1820806",
            "max": 1648877,
            "min": 0,
            "orientation": "horizontal",
            "style": "IPY_MODEL_f9358ee09bae4f5cbb21f00a922af9bc",
            "value": 1648877
          }
        },
        "d2634f345e4547209e8f1499dd3ac8a0": {
          "model_module": "@jupyter-widgets/controls",
          "model_name": "HTMLModel",
          "model_module_version": "1.5.0",
          "state": {
            "_dom_classes": [],
            "_model_module": "@jupyter-widgets/controls",
            "_model_module_version": "1.5.0",
            "_model_name": "HTMLModel",
            "_view_count": null,
            "_view_module": "@jupyter-widgets/controls",
            "_view_module_version": "1.5.0",
            "_view_name": "HTMLView",
            "description": "",
            "description_tooltip": null,
            "layout": "IPY_MODEL_2119de47b38e4b08bab078ce93a7d8a9",
            "placeholder": "​",
            "style": "IPY_MODEL_a255787337084f089d7d0b4a4815772a",
            "value": " 1648877/1648877 [00:00&lt;00:00, 2180566.94it/s]"
          }
        },
        "452b65ec7d474773b427ea9247821f0c": {
          "model_module": "@jupyter-widgets/base",
          "model_name": "LayoutModel",
          "model_module_version": "1.2.0",
          "state": {
            "_model_module": "@jupyter-widgets/base",
            "_model_module_version": "1.2.0",
            "_model_name": "LayoutModel",
            "_view_count": null,
            "_view_module": "@jupyter-widgets/base",
            "_view_module_version": "1.2.0",
            "_view_name": "LayoutView",
            "align_content": null,
            "align_items": null,
            "align_self": null,
            "border": null,
            "bottom": null,
            "display": null,
            "flex": null,
            "flex_flow": null,
            "grid_area": null,
            "grid_auto_columns": null,
            "grid_auto_flow": null,
            "grid_auto_rows": null,
            "grid_column": null,
            "grid_gap": null,
            "grid_row": null,
            "grid_template_areas": null,
            "grid_template_columns": null,
            "grid_template_rows": null,
            "height": null,
            "justify_content": null,
            "justify_items": null,
            "left": null,
            "margin": null,
            "max_height": null,
            "max_width": null,
            "min_height": null,
            "min_width": null,
            "object_fit": null,
            "object_position": null,
            "order": null,
            "overflow": null,
            "overflow_x": null,
            "overflow_y": null,
            "padding": null,
            "right": null,
            "top": null,
            "visibility": null,
            "width": null
          }
        },
        "d968c37611d841f9b73798a71a66cc56": {
          "model_module": "@jupyter-widgets/base",
          "model_name": "LayoutModel",
          "model_module_version": "1.2.0",
          "state": {
            "_model_module": "@jupyter-widgets/base",
            "_model_module_version": "1.2.0",
            "_model_name": "LayoutModel",
            "_view_count": null,
            "_view_module": "@jupyter-widgets/base",
            "_view_module_version": "1.2.0",
            "_view_name": "LayoutView",
            "align_content": null,
            "align_items": null,
            "align_self": null,
            "border": null,
            "bottom": null,
            "display": null,
            "flex": null,
            "flex_flow": null,
            "grid_area": null,
            "grid_auto_columns": null,
            "grid_auto_flow": null,
            "grid_auto_rows": null,
            "grid_column": null,
            "grid_gap": null,
            "grid_row": null,
            "grid_template_areas": null,
            "grid_template_columns": null,
            "grid_template_rows": null,
            "height": null,
            "justify_content": null,
            "justify_items": null,
            "left": null,
            "margin": null,
            "max_height": null,
            "max_width": null,
            "min_height": null,
            "min_width": null,
            "object_fit": null,
            "object_position": null,
            "order": null,
            "overflow": null,
            "overflow_x": null,
            "overflow_y": null,
            "padding": null,
            "right": null,
            "top": null,
            "visibility": null,
            "width": null
          }
        },
        "b07173a493154e87ada7eb105d2f887a": {
          "model_module": "@jupyter-widgets/controls",
          "model_name": "DescriptionStyleModel",
          "model_module_version": "1.5.0",
          "state": {
            "_model_module": "@jupyter-widgets/controls",
            "_model_module_version": "1.5.0",
            "_model_name": "DescriptionStyleModel",
            "_view_count": null,
            "_view_module": "@jupyter-widgets/base",
            "_view_module_version": "1.2.0",
            "_view_name": "StyleView",
            "description_width": ""
          }
        },
        "5d0a369772db44babacebe08e1820806": {
          "model_module": "@jupyter-widgets/base",
          "model_name": "LayoutModel",
          "model_module_version": "1.2.0",
          "state": {
            "_model_module": "@jupyter-widgets/base",
            "_model_module_version": "1.2.0",
            "_model_name": "LayoutModel",
            "_view_count": null,
            "_view_module": "@jupyter-widgets/base",
            "_view_module_version": "1.2.0",
            "_view_name": "LayoutView",
            "align_content": null,
            "align_items": null,
            "align_self": null,
            "border": null,
            "bottom": null,
            "display": null,
            "flex": null,
            "flex_flow": null,
            "grid_area": null,
            "grid_auto_columns": null,
            "grid_auto_flow": null,
            "grid_auto_rows": null,
            "grid_column": null,
            "grid_gap": null,
            "grid_row": null,
            "grid_template_areas": null,
            "grid_template_columns": null,
            "grid_template_rows": null,
            "height": null,
            "justify_content": null,
            "justify_items": null,
            "left": null,
            "margin": null,
            "max_height": null,
            "max_width": null,
            "min_height": null,
            "min_width": null,
            "object_fit": null,
            "object_position": null,
            "order": null,
            "overflow": null,
            "overflow_x": null,
            "overflow_y": null,
            "padding": null,
            "right": null,
            "top": null,
            "visibility": null,
            "width": null
          }
        },
        "f9358ee09bae4f5cbb21f00a922af9bc": {
          "model_module": "@jupyter-widgets/controls",
          "model_name": "ProgressStyleModel",
          "model_module_version": "1.5.0",
          "state": {
            "_model_module": "@jupyter-widgets/controls",
            "_model_module_version": "1.5.0",
            "_model_name": "ProgressStyleModel",
            "_view_count": null,
            "_view_module": "@jupyter-widgets/base",
            "_view_module_version": "1.2.0",
            "_view_name": "StyleView",
            "bar_color": null,
            "description_width": ""
          }
        },
        "2119de47b38e4b08bab078ce93a7d8a9": {
          "model_module": "@jupyter-widgets/base",
          "model_name": "LayoutModel",
          "model_module_version": "1.2.0",
          "state": {
            "_model_module": "@jupyter-widgets/base",
            "_model_module_version": "1.2.0",
            "_model_name": "LayoutModel",
            "_view_count": null,
            "_view_module": "@jupyter-widgets/base",
            "_view_module_version": "1.2.0",
            "_view_name": "LayoutView",
            "align_content": null,
            "align_items": null,
            "align_self": null,
            "border": null,
            "bottom": null,
            "display": null,
            "flex": null,
            "flex_flow": null,
            "grid_area": null,
            "grid_auto_columns": null,
            "grid_auto_flow": null,
            "grid_auto_rows": null,
            "grid_column": null,
            "grid_gap": null,
            "grid_row": null,
            "grid_template_areas": null,
            "grid_template_columns": null,
            "grid_template_rows": null,
            "height": null,
            "justify_content": null,
            "justify_items": null,
            "left": null,
            "margin": null,
            "max_height": null,
            "max_width": null,
            "min_height": null,
            "min_width": null,
            "object_fit": null,
            "object_position": null,
            "order": null,
            "overflow": null,
            "overflow_x": null,
            "overflow_y": null,
            "padding": null,
            "right": null,
            "top": null,
            "visibility": null,
            "width": null
          }
        },
        "a255787337084f089d7d0b4a4815772a": {
          "model_module": "@jupyter-widgets/controls",
          "model_name": "DescriptionStyleModel",
          "model_module_version": "1.5.0",
          "state": {
            "_model_module": "@jupyter-widgets/controls",
            "_model_module_version": "1.5.0",
            "_model_name": "DescriptionStyleModel",
            "_view_count": null,
            "_view_module": "@jupyter-widgets/base",
            "_view_module_version": "1.2.0",
            "_view_name": "StyleView",
            "description_width": ""
          }
        },
        "0fd00e3317b14338bfbf9b8338257638": {
          "model_module": "@jupyter-widgets/controls",
          "model_name": "HBoxModel",
          "model_module_version": "1.5.0",
          "state": {
            "_dom_classes": [],
            "_model_module": "@jupyter-widgets/controls",
            "_model_module_version": "1.5.0",
            "_model_name": "HBoxModel",
            "_view_count": null,
            "_view_module": "@jupyter-widgets/controls",
            "_view_module_version": "1.5.0",
            "_view_name": "HBoxView",
            "box_style": "",
            "children": [
              "IPY_MODEL_8293522da5ca4004a59b0135f83849dd",
              "IPY_MODEL_893ddb1977f444ec88fb42ba43db7297",
              "IPY_MODEL_86e9552ec6d24b9ba0dc0701b654bf6a"
            ],
            "layout": "IPY_MODEL_d90e5ad091fa4a82ac89ea6199fa249d"
          }
        },
        "8293522da5ca4004a59b0135f83849dd": {
          "model_module": "@jupyter-widgets/controls",
          "model_name": "HTMLModel",
          "model_module_version": "1.5.0",
          "state": {
            "_dom_classes": [],
            "_model_module": "@jupyter-widgets/controls",
            "_model_module_version": "1.5.0",
            "_model_name": "HTMLModel",
            "_view_count": null,
            "_view_module": "@jupyter-widgets/controls",
            "_view_module_version": "1.5.0",
            "_view_name": "HTMLView",
            "description": "",
            "description_tooltip": null,
            "layout": "IPY_MODEL_4c7c0acdf0bc4f0ab0ea6a029efde1c8",
            "placeholder": "​",
            "style": "IPY_MODEL_f89d5fede1244463a848392702cb4696",
            "value": "100%"
          }
        },
        "893ddb1977f444ec88fb42ba43db7297": {
          "model_module": "@jupyter-widgets/controls",
          "model_name": "FloatProgressModel",
          "model_module_version": "1.5.0",
          "state": {
            "_dom_classes": [],
            "_model_module": "@jupyter-widgets/controls",
            "_model_module_version": "1.5.0",
            "_model_name": "FloatProgressModel",
            "_view_count": null,
            "_view_module": "@jupyter-widgets/controls",
            "_view_module_version": "1.5.0",
            "_view_name": "ProgressView",
            "bar_style": "success",
            "description": "",
            "description_tooltip": null,
            "layout": "IPY_MODEL_c5b05bc7ee54492da56c7af01a3b34d5",
            "max": 4542,
            "min": 0,
            "orientation": "horizontal",
            "style": "IPY_MODEL_d208dd29850c492ea6a3a4065e543849",
            "value": 4542
          }
        },
        "86e9552ec6d24b9ba0dc0701b654bf6a": {
          "model_module": "@jupyter-widgets/controls",
          "model_name": "HTMLModel",
          "model_module_version": "1.5.0",
          "state": {
            "_dom_classes": [],
            "_model_module": "@jupyter-widgets/controls",
            "_model_module_version": "1.5.0",
            "_model_name": "HTMLModel",
            "_view_count": null,
            "_view_module": "@jupyter-widgets/controls",
            "_view_module_version": "1.5.0",
            "_view_name": "HTMLView",
            "description": "",
            "description_tooltip": null,
            "layout": "IPY_MODEL_7f3f60c132db48e8a9bb59a1ddf8e659",
            "placeholder": "​",
            "style": "IPY_MODEL_e0d0ea52c0f54e608e9ea8f848aa8fa2",
            "value": " 4542/4542 [00:00&lt;00:00, 129731.34it/s]"
          }
        },
        "d90e5ad091fa4a82ac89ea6199fa249d": {
          "model_module": "@jupyter-widgets/base",
          "model_name": "LayoutModel",
          "model_module_version": "1.2.0",
          "state": {
            "_model_module": "@jupyter-widgets/base",
            "_model_module_version": "1.2.0",
            "_model_name": "LayoutModel",
            "_view_count": null,
            "_view_module": "@jupyter-widgets/base",
            "_view_module_version": "1.2.0",
            "_view_name": "LayoutView",
            "align_content": null,
            "align_items": null,
            "align_self": null,
            "border": null,
            "bottom": null,
            "display": null,
            "flex": null,
            "flex_flow": null,
            "grid_area": null,
            "grid_auto_columns": null,
            "grid_auto_flow": null,
            "grid_auto_rows": null,
            "grid_column": null,
            "grid_gap": null,
            "grid_row": null,
            "grid_template_areas": null,
            "grid_template_columns": null,
            "grid_template_rows": null,
            "height": null,
            "justify_content": null,
            "justify_items": null,
            "left": null,
            "margin": null,
            "max_height": null,
            "max_width": null,
            "min_height": null,
            "min_width": null,
            "object_fit": null,
            "object_position": null,
            "order": null,
            "overflow": null,
            "overflow_x": null,
            "overflow_y": null,
            "padding": null,
            "right": null,
            "top": null,
            "visibility": null,
            "width": null
          }
        },
        "4c7c0acdf0bc4f0ab0ea6a029efde1c8": {
          "model_module": "@jupyter-widgets/base",
          "model_name": "LayoutModel",
          "model_module_version": "1.2.0",
          "state": {
            "_model_module": "@jupyter-widgets/base",
            "_model_module_version": "1.2.0",
            "_model_name": "LayoutModel",
            "_view_count": null,
            "_view_module": "@jupyter-widgets/base",
            "_view_module_version": "1.2.0",
            "_view_name": "LayoutView",
            "align_content": null,
            "align_items": null,
            "align_self": null,
            "border": null,
            "bottom": null,
            "display": null,
            "flex": null,
            "flex_flow": null,
            "grid_area": null,
            "grid_auto_columns": null,
            "grid_auto_flow": null,
            "grid_auto_rows": null,
            "grid_column": null,
            "grid_gap": null,
            "grid_row": null,
            "grid_template_areas": null,
            "grid_template_columns": null,
            "grid_template_rows": null,
            "height": null,
            "justify_content": null,
            "justify_items": null,
            "left": null,
            "margin": null,
            "max_height": null,
            "max_width": null,
            "min_height": null,
            "min_width": null,
            "object_fit": null,
            "object_position": null,
            "order": null,
            "overflow": null,
            "overflow_x": null,
            "overflow_y": null,
            "padding": null,
            "right": null,
            "top": null,
            "visibility": null,
            "width": null
          }
        },
        "f89d5fede1244463a848392702cb4696": {
          "model_module": "@jupyter-widgets/controls",
          "model_name": "DescriptionStyleModel",
          "model_module_version": "1.5.0",
          "state": {
            "_model_module": "@jupyter-widgets/controls",
            "_model_module_version": "1.5.0",
            "_model_name": "DescriptionStyleModel",
            "_view_count": null,
            "_view_module": "@jupyter-widgets/base",
            "_view_module_version": "1.2.0",
            "_view_name": "StyleView",
            "description_width": ""
          }
        },
        "c5b05bc7ee54492da56c7af01a3b34d5": {
          "model_module": "@jupyter-widgets/base",
          "model_name": "LayoutModel",
          "model_module_version": "1.2.0",
          "state": {
            "_model_module": "@jupyter-widgets/base",
            "_model_module_version": "1.2.0",
            "_model_name": "LayoutModel",
            "_view_count": null,
            "_view_module": "@jupyter-widgets/base",
            "_view_module_version": "1.2.0",
            "_view_name": "LayoutView",
            "align_content": null,
            "align_items": null,
            "align_self": null,
            "border": null,
            "bottom": null,
            "display": null,
            "flex": null,
            "flex_flow": null,
            "grid_area": null,
            "grid_auto_columns": null,
            "grid_auto_flow": null,
            "grid_auto_rows": null,
            "grid_column": null,
            "grid_gap": null,
            "grid_row": null,
            "grid_template_areas": null,
            "grid_template_columns": null,
            "grid_template_rows": null,
            "height": null,
            "justify_content": null,
            "justify_items": null,
            "left": null,
            "margin": null,
            "max_height": null,
            "max_width": null,
            "min_height": null,
            "min_width": null,
            "object_fit": null,
            "object_position": null,
            "order": null,
            "overflow": null,
            "overflow_x": null,
            "overflow_y": null,
            "padding": null,
            "right": null,
            "top": null,
            "visibility": null,
            "width": null
          }
        },
        "d208dd29850c492ea6a3a4065e543849": {
          "model_module": "@jupyter-widgets/controls",
          "model_name": "ProgressStyleModel",
          "model_module_version": "1.5.0",
          "state": {
            "_model_module": "@jupyter-widgets/controls",
            "_model_module_version": "1.5.0",
            "_model_name": "ProgressStyleModel",
            "_view_count": null,
            "_view_module": "@jupyter-widgets/base",
            "_view_module_version": "1.2.0",
            "_view_name": "StyleView",
            "bar_color": null,
            "description_width": ""
          }
        },
        "7f3f60c132db48e8a9bb59a1ddf8e659": {
          "model_module": "@jupyter-widgets/base",
          "model_name": "LayoutModel",
          "model_module_version": "1.2.0",
          "state": {
            "_model_module": "@jupyter-widgets/base",
            "_model_module_version": "1.2.0",
            "_model_name": "LayoutModel",
            "_view_count": null,
            "_view_module": "@jupyter-widgets/base",
            "_view_module_version": "1.2.0",
            "_view_name": "LayoutView",
            "align_content": null,
            "align_items": null,
            "align_self": null,
            "border": null,
            "bottom": null,
            "display": null,
            "flex": null,
            "flex_flow": null,
            "grid_area": null,
            "grid_auto_columns": null,
            "grid_auto_flow": null,
            "grid_auto_rows": null,
            "grid_column": null,
            "grid_gap": null,
            "grid_row": null,
            "grid_template_areas": null,
            "grid_template_columns": null,
            "grid_template_rows": null,
            "height": null,
            "justify_content": null,
            "justify_items": null,
            "left": null,
            "margin": null,
            "max_height": null,
            "max_width": null,
            "min_height": null,
            "min_width": null,
            "object_fit": null,
            "object_position": null,
            "order": null,
            "overflow": null,
            "overflow_x": null,
            "overflow_y": null,
            "padding": null,
            "right": null,
            "top": null,
            "visibility": null,
            "width": null
          }
        },
        "e0d0ea52c0f54e608e9ea8f848aa8fa2": {
          "model_module": "@jupyter-widgets/controls",
          "model_name": "DescriptionStyleModel",
          "model_module_version": "1.5.0",
          "state": {
            "_model_module": "@jupyter-widgets/controls",
            "_model_module_version": "1.5.0",
            "_model_name": "DescriptionStyleModel",
            "_view_count": null,
            "_view_module": "@jupyter-widgets/base",
            "_view_module_version": "1.2.0",
            "_view_name": "StyleView",
            "description_width": ""
          }
        }
      }
    }
  },
  "cells": [
    {
      "cell_type": "markdown",
      "source": [
        "<a href=\"https://colab.research.google.com/github/institutohumai/cursos-python/blob/master/DeepLearning/5_Evaluacion_Modelos/2_Seleccion_Modelos.ipynb\" target=\"_parent\"><img src=\"https://colab.research.google.com/assets/colab-badge.svg\" alt=\"Open in Colab\"/></a>"
      ],
      "metadata": {
        "id": "qfO1yZsokKH6"
      }
    },
    {
      "cell_type": "markdown",
      "source": [
        "## Selección de modelos\n",
        "\n",
        "En el aprendizaje automático, generalmente seleccionamos nuestro modelo final después de evaluar varios modelos candidatos. Este proceso se llama *selección de modelo*. A veces los modelos sujetos a comparación\n",
        "son de naturaleza fundamentalmente diferente\n",
        "(por ejemplo, árboles de decisión frente a modelos lineales). En otras ocasiones, estamos comparando miembros de la misma clase de modelos que han sido entrenados con diferentes configuraciones de hiperparámetros.\n",
        "\n",
        "Con los MLP, por ejemplo, es posible que deseemos comparar modelos con diferentes números de capas ocultas, diferentes números de unidades ocultas y varias opciones de funciones de activación aplicadas a cada capa oculta. Para determinar cuál es el mejor entre nuestros modelos candidatos, generalmente emplearemos un conjunto de datos de validación."
      ],
      "metadata": {
        "id": "Ss--8RunX3Pw"
      }
    },
    {
      "cell_type": "markdown",
      "source": [
        "### Conjunto de datos de validación\n",
        "\n",
        "En principio, no deberíamos tocar nuestro conjunto de prueba hasta que hayamos elegido todos nuestros hiperparámetros.\n",
        "Si utilizáramos los datos de prueba en el proceso de selección del modelo, existe el riesgo de que podamos sobreajustar los datos de prueba. Entonces estaríamos en serios problemas. Si sobreajustamos nuestros datos de entrenamiento, siempre existe la evaluación de los datos de prueba para mantenernos honestos. Pero si sobreajustamos los datos de prueba, ¿cómo lo sabríamos?\n",
        "\n",
        "Por lo tanto, nunca debemos confiar en los datos de prueba para la selección del modelo. Y, sin embargo, tampoco podemos confiar únicamente en los datos de entrenamiento para la selección del modelo porque no podemos estimar el error de generalización en los mismos datos que usamos para entrenar el modelo.\n",
        "\n",
        "\n",
        "En aplicaciones prácticas, la imagen se vuelve más turbia. Si bien, idealmente, solo tocaríamos los datos de prueba una vez, para evaluar el mejor modelo o para comparar una pequeña cantidad de modelos entre sí, los datos de prueba del mundo real rara vez se descartan después de un solo uso. Rara vez podemos permitirnos un nuevo conjunto de prueba para cada ronda de experimentos.\n",
        "\n",
        "La práctica común para abordar este problema\n",
        "es dividir nuestros datos de tres maneras, incorporando un *conjunto de datos de validación* (o *conjunto de validación*) además de los conjuntos de datos de entrenamiento y prueba.\n",
        "\n",
        "![Imgur](https://i.imgur.com/jyEPbG9.png)\n",
        "\n",
        "Un buen ejemplo para distinguir entre conjunto de prueba y de validación es lo que hace la plataforma Kaggle en sus competencias de aprendizaje automático. En sus inicios, Kaggle era solamente una plataforma de concursos donde las empresas publican problemas y los participantes compiten para construir el mejor algoritmo, generalmente con premios en efectivo. La organización d elos concursos consiste en:\n",
        "1. el organizador debe separar su dataset en un conjunto de entrenamiento (que será publicado) y un conjunto de prueba (cuyas features serán publicadas, pero las etiquetas permanecerán ocultas).\n",
        "2. Los participantes podrán descargar los datos de entrenamiento y deberán elegir un modelo para presentar en la competencia. Para eso, deberán llevar adelante una selección de modelos generando un conjunto de validación a partir de los datos de entrenamiento.\n",
        "3. Una vez seleccionado el modelo que mejor funcione con los datos de validación, se alimenta dicho modelo con las features del conjunto de prueba para obtener las etiquetas de prueba predichas por el modelo.\n",
        "4. Se entregan las etiquetas de prueba predichas y el organizador las compara con las reales. El ganador es el modelo que menos erroes haya cometido.\n",
        "![Imgur](https://i.imgur.com/qA88YkJ.png)\n",
        "\n",
        "De esta manera, los conjuntos de prueba y validación están bien diferenciados. El primero se usa para elegir el mejor modelo y el segundo se usa para evaluar el modelo elegido con datos que nunca vio en el entrenamiento.\n",
        "\n",
        "A menos que se indique explícitamente lo contrario, en los experimentos de este curso en realidad estamos trabajando con lo que correctamente debería llamarse datos de entrenamiento y datos de validación, sin verdaderos conjuntos de prueba. Por lo tanto, reportado en cada experimento es realmente un accuracy de validación y no un verdadero accuracy del conjunto de pruebas."
      ],
      "metadata": {
        "id": "S6jBugcwYTl1"
      }
    },
    {
      "cell_type": "markdown",
      "source": [
        "### $K$*-fold cross-validation*\n",
        "\n",
        "Cuando los datos de entrenamiento son escasos, es posible que ni siquiera podamos permitirnos mantener suficientes datos para constituir un conjunto de validación adecuado. Una solución popular a este problema es emplear $K$*-fold cross-validation*. Aquí, los datos de entrenamiento originales se dividen en $K$ subconjuntos que no se superponen. Luego, el entrenamiento y la validación del modelo se ejecutan $K$ veces, cada vez entrenando en $K-1$ subconjuntos y validando en un subconjunto diferente (el que no se usó para entrenar en esa ronda).\n",
        "Finalmente, los errores de entrenamiento y validación se estiman promediando los resultados de los experimentos de $K$.\n",
        "\n",
        "![Imgur](https://i.imgur.com/SpOFGyK.png)"
      ],
      "metadata": {
        "id": "Rx7BgvZndOmD"
      }
    },
    {
      "cell_type": "code",
      "metadata": {
        "id": "sGt_fqSmOHgV"
      },
      "source": [
        "import numpy as np\n",
        "from sklearn.model_selection import KFold\n",
        "\n",
        "import torch\n",
        "import torch.nn as nn\n",
        "\n",
        "import torch.nn.functional as F\n",
        "import torch.optim as optim\n",
        "\n",
        "from torch.utils.data import DataLoader,ConcatDataset\n",
        "\n",
        "from torchvision import datasets, transforms\n",
        "from torch.optim.lr_scheduler import StepLR\n"
      ],
      "execution_count": null,
      "outputs": []
    },
    {
      "cell_type": "markdown",
      "source": [
        "#### Model\n",
        "Definamos una red neuronal simple para el conjunto de datos MNIST."
      ],
      "metadata": {
        "id": "lSuQZaMcpCjj"
      }
    },
    {
      "cell_type": "code",
      "metadata": {
        "id": "Ze-iF06lSzJU"
      },
      "source": [
        "INPUT = 28 * 28 # 28 por 28 pixeles\n",
        "OUTPUT = 10 # 10 clases\n",
        "# TODO\n",
        "HIDDEN1 = 512 # elija los valores a completar\n",
        "HIDDEN2 = 128 # elija los valores a completar\n",
        "\n",
        "\n",
        "net1 = nn.Sequential(nn.Flatten(),\n",
        "                    nn.Linear(INPUT, HIDDEN1),\n",
        "                    nn.ReLU(),\n",
        "                    nn.Linear(HIDDEN1, HIDDEN2),\n",
        "                    nn.ReLU(),\n",
        "                    nn.Linear(HIDDEN2, OUTPUT))"
      ],
      "execution_count": null,
      "outputs": []
    },
    {
      "cell_type": "markdown",
      "source": [
        "#### Función para reiniciar pesos\n",
        "Necesitamos restablecer los pesos del modelo para que cada fold de cross validation comience desde un estado inicial aleatorio y no aprenda de los folds anteriores. Podemos llamar a reset_weights() en todos los módulos hijos."
      ],
      "metadata": {
        "id": "8eqzmMZRpF_R"
      }
    },
    {
      "cell_type": "code",
      "metadata": {
        "id": "pHojQunc0R6R"
      },
      "source": [
        "def reset_weights(m):\n",
        "  if type(m) == nn.Linear:\n",
        "      nn.init.normal_(m.weight, std=0.01)"
      ],
      "execution_count": null,
      "outputs": []
    },
    {
      "cell_type": "markdown",
      "source": [
        "Modificamos ligeramente los pipelines de entrenamiento para que sea más ordenado... Todas las lineas para calcular la pérdida y mejorar los parámetros las ponemos en la función train y todas las que se encargan de calcular el accuracy, en la función test."
      ],
      "metadata": {
        "id": "PpD0CeqJpSes"
      }
    },
    {
      "cell_type": "code",
      "metadata": {
        "id": "MoEEw_VpUY_R"
      },
      "source": [
        "def train(fold, model, device, loss, train_loader, optimizer, epoch):\n",
        "\n",
        "    for batch_idx, (data, target) in enumerate(train_loader):\n",
        "        data, target = data.to(device), target.to(device)\n",
        "        optimizer.zero_grad()\n",
        "        l = loss(model(data), target).mean()\n",
        "        l.backward()\n",
        "        optimizer.step()\n",
        "        if batch_idx % 500 == 0:\n",
        "            print('Train Fold/Epoch: {}/{} [{}/{} ({:.0f}%)]\\tLoss: {:.6f}'.format(\n",
        "                fold,epoch, batch_idx * len(data), len(train_loader.sampler.indices),\n",
        "                100. * batch_idx / len(train_loader), l.item()/len(target)))\n"
      ],
      "execution_count": null,
      "outputs": []
    },
    {
      "cell_type": "code",
      "metadata": {
        "id": "kGm1K0OfEiy_"
      },
      "source": [
        "def accuracy(y_hat, y):\n",
        "    \"\"\"Compute the number of correct predictions.\"\"\"\n",
        "    if len(y_hat.shape) > 1 and y_hat.shape[1] > 1:\n",
        "        y_hat = y_hat.argmax(axis=1)\n",
        "    cmp = y_hat.type(y.dtype) == y\n",
        "    return float(cmp.type(y.dtype).sum())\n",
        "\n",
        "\n",
        "def test_accuracy(fold,model, loss, device, test_loader):\n",
        "  # inserte su código aquí\n",
        "  TestAcc = 0.0\n",
        "  N = 0\n",
        "  for X, y in test_loader:\n",
        "      X, y = X.to(device), y.to(device)\n",
        "      N += y.numel()\n",
        "      TestAcc += accuracy(model(X), y)\n",
        "  print('\\nTest set for fold {}:  Accuracy: {}/{} ({:.0f}%)\\n'.format(\n",
        "        fold, TestAcc, N,\n",
        "        (100. * TestAcc) / N))\n",
        "  return TestAcc / N\n"
      ],
      "execution_count": null,
      "outputs": []
    },
    {
      "cell_type": "code",
      "metadata": {
        "colab": {
          "base_uri": "https://localhost:8080/"
        },
        "id": "2UKHJeT0Ei1U",
        "outputId": "a67e8e76-a8c4-4ec0-bd4f-b9f7534ef99f"
      },
      "source": [
        "device = torch.device('cuda' if torch.cuda.is_available() else 'cpu')\n",
        "print('Using device:', device)"
      ],
      "execution_count": null,
      "outputs": [
        {
          "output_type": "stream",
          "name": "stdout",
          "text": [
            "Using device: cuda\n"
          ]
        }
      ]
    },
    {
      "cell_type": "markdown",
      "source": [
        "#### Dataset\n",
        "Necesitamos concatenar las partes de entrenamiento y prueba del dataset MNIST, que usaremos para entrenar el modelo. Hacer K-fold implica que nosotros mismos generemos las divisiones, por lo que no queremos que PyTorch lo haga por nosotros."
      ],
      "metadata": {
        "id": "sbfrGwoNpsPm"
      }
    },
    {
      "cell_type": "code",
      "metadata": {
        "id": "J5uTGkQMIaKY"
      },
      "source": [
        "transform=transforms.Compose([\n",
        "        transforms.ToTensor(),\n",
        "        transforms.Normalize((0.1307,), (0.3081,))\n",
        "        ])"
      ],
      "execution_count": null,
      "outputs": []
    },
    {
      "cell_type": "code",
      "metadata": {
        "id": "nB6dR_qwEi6x",
        "colab": {
          "base_uri": "https://localhost:8080/",
          "height": 443,
          "referenced_widgets": [
            "072497b131ae424db95fdcc9e9d898f2",
            "ba1539aa51d34627a0113616b450b54c",
            "6382f3693a02482ea016ece36900e47c",
            "06ae867e73884f8ca79a26066ad3e41a",
            "b55da2bc6c9d444b83e4357b27325336",
            "f310a65c583a4b13894d660c1a40119f",
            "99c1e82f54a642fbb0b4d6ea7af1cf50",
            "9d83b730b1d3489dbf044ed36cb8baf0",
            "36ac454ce1c94b36b4ebe802ac793860",
            "f7d71ec3576043679d7f7e6056d0fbc8",
            "dd8735af4c114dd485be19a3f76f6ddd",
            "d5d7f6ea987a42ae841cccc44c8d97f9",
            "3a550e7fd9f34f578c6fa8adc46dbf6a",
            "1c44db089a56428186da2d82e9a6e78d",
            "7bd560469a2946fdbf136d76b9f26958",
            "a4cbd22d50b3435aa4eeaa7f62de0809",
            "13f49e4732a642eba90afe5c935935fd",
            "807dfc23c7d64299bb276c1e45d9d76f",
            "c1bb1a1850ce490c9f95af6c6a6ed4da",
            "2a77faa04c9c4fdc96f90098354e5219",
            "220c40dcf45545649f7aaa1b694e4efd",
            "fed88f3717234dc38350949c3997e333",
            "c7c4ba19471d459dabf960a3eabdf9bc",
            "6e8bc7bece074c9693eaea6f117d4d8c",
            "8bf4334e23ab41708511bd12c99884b1",
            "d2634f345e4547209e8f1499dd3ac8a0",
            "452b65ec7d474773b427ea9247821f0c",
            "d968c37611d841f9b73798a71a66cc56",
            "b07173a493154e87ada7eb105d2f887a",
            "5d0a369772db44babacebe08e1820806",
            "f9358ee09bae4f5cbb21f00a922af9bc",
            "2119de47b38e4b08bab078ce93a7d8a9",
            "a255787337084f089d7d0b4a4815772a",
            "0fd00e3317b14338bfbf9b8338257638",
            "8293522da5ca4004a59b0135f83849dd",
            "893ddb1977f444ec88fb42ba43db7297",
            "86e9552ec6d24b9ba0dc0701b654bf6a",
            "d90e5ad091fa4a82ac89ea6199fa249d",
            "4c7c0acdf0bc4f0ab0ea6a029efde1c8",
            "f89d5fede1244463a848392702cb4696",
            "c5b05bc7ee54492da56c7af01a3b34d5",
            "d208dd29850c492ea6a3a4065e543849",
            "7f3f60c132db48e8a9bb59a1ddf8e659",
            "e0d0ea52c0f54e608e9ea8f848aa8fa2"
          ]
        },
        "outputId": "3d004b43-c037-4811-cccc-5d4be348441f"
      },
      "source": [
        "dataset1 = datasets.MNIST('../data', train=True, download=True,\n",
        "                       transform=transform)\n",
        "\n",
        "dataset2 = datasets.MNIST('../data', train=False,\n",
        "                       transform=transform)"
      ],
      "execution_count": null,
      "outputs": [
        {
          "output_type": "stream",
          "name": "stdout",
          "text": [
            "Downloading http://yann.lecun.com/exdb/mnist/train-images-idx3-ubyte.gz\n",
            "Downloading http://yann.lecun.com/exdb/mnist/train-images-idx3-ubyte.gz to ../data/MNIST/raw/train-images-idx3-ubyte.gz\n"
          ]
        },
        {
          "output_type": "display_data",
          "data": {
            "text/plain": [
              "  0%|          | 0/9912422 [00:00<?, ?it/s]"
            ],
            "application/vnd.jupyter.widget-view+json": {
              "version_major": 2,
              "version_minor": 0,
              "model_id": "072497b131ae424db95fdcc9e9d898f2"
            }
          },
          "metadata": {}
        },
        {
          "output_type": "stream",
          "name": "stdout",
          "text": [
            "Extracting ../data/MNIST/raw/train-images-idx3-ubyte.gz to ../data/MNIST/raw\n",
            "\n",
            "Downloading http://yann.lecun.com/exdb/mnist/train-labels-idx1-ubyte.gz\n",
            "Downloading http://yann.lecun.com/exdb/mnist/train-labels-idx1-ubyte.gz to ../data/MNIST/raw/train-labels-idx1-ubyte.gz\n"
          ]
        },
        {
          "output_type": "display_data",
          "data": {
            "text/plain": [
              "  0%|          | 0/28881 [00:00<?, ?it/s]"
            ],
            "application/vnd.jupyter.widget-view+json": {
              "version_major": 2,
              "version_minor": 0,
              "model_id": "d5d7f6ea987a42ae841cccc44c8d97f9"
            }
          },
          "metadata": {}
        },
        {
          "output_type": "stream",
          "name": "stdout",
          "text": [
            "Extracting ../data/MNIST/raw/train-labels-idx1-ubyte.gz to ../data/MNIST/raw\n",
            "\n",
            "Downloading http://yann.lecun.com/exdb/mnist/t10k-images-idx3-ubyte.gz\n",
            "Downloading http://yann.lecun.com/exdb/mnist/t10k-images-idx3-ubyte.gz to ../data/MNIST/raw/t10k-images-idx3-ubyte.gz\n"
          ]
        },
        {
          "output_type": "display_data",
          "data": {
            "text/plain": [
              "  0%|          | 0/1648877 [00:00<?, ?it/s]"
            ],
            "application/vnd.jupyter.widget-view+json": {
              "version_major": 2,
              "version_minor": 0,
              "model_id": "c7c4ba19471d459dabf960a3eabdf9bc"
            }
          },
          "metadata": {}
        },
        {
          "output_type": "stream",
          "name": "stdout",
          "text": [
            "Extracting ../data/MNIST/raw/t10k-images-idx3-ubyte.gz to ../data/MNIST/raw\n",
            "\n",
            "Downloading http://yann.lecun.com/exdb/mnist/t10k-labels-idx1-ubyte.gz\n",
            "Downloading http://yann.lecun.com/exdb/mnist/t10k-labels-idx1-ubyte.gz to ../data/MNIST/raw/t10k-labels-idx1-ubyte.gz\n"
          ]
        },
        {
          "output_type": "display_data",
          "data": {
            "text/plain": [
              "  0%|          | 0/4542 [00:00<?, ?it/s]"
            ],
            "application/vnd.jupyter.widget-view+json": {
              "version_major": 2,
              "version_minor": 0,
              "model_id": "0fd00e3317b14338bfbf9b8338257638"
            }
          },
          "metadata": {}
        },
        {
          "output_type": "stream",
          "name": "stdout",
          "text": [
            "Extracting ../data/MNIST/raw/t10k-labels-idx1-ubyte.gz to ../data/MNIST/raw\n",
            "\n"
          ]
        }
      ]
    },
    {
      "cell_type": "code",
      "metadata": {
        "id": "Fr418n01EjAG"
      },
      "source": [
        "dataset=ConcatDataset([dataset1,dataset2])"
      ],
      "execution_count": null,
      "outputs": []
    },
    {
      "cell_type": "markdown",
      "source": [
        "#### Clase KFold\n",
        "\n",
        "KFold es una clase de la librería sklearn que nos puede ayudar a hacer cross validation. Para eso debemos instanciar el objeto kfold indicando la cantidad de folds que queremos en el atributo n_splits del constructor."
      ],
      "metadata": {
        "id": "X4fRG4Ntp1z1"
      }
    },
    {
      "cell_type": "code",
      "metadata": {
        "id": "A6Fkip8oEi4E"
      },
      "source": [
        "kfold=KFold(n_splits=5,shuffle=True)\n",
        "\n",
        "\n"
      ],
      "execution_count": null,
      "outputs": []
    },
    {
      "cell_type": "markdown",
      "source": [
        "La clase KFold tiene un método llamado split() que es un iterator que recibe el dataset a separar y devuelve un tupla con dos listas de índices. La primera es la lista de índices de entrenamiento y la segunda es la lista de índices de testeo de ese fold.\n",
        ""
      ],
      "metadata": {
        "id": "XXh1YPFfrggP"
      }
    },
    {
      "cell_type": "code",
      "source": [
        "for train_idx,test_idx in kfold.split(dataset):\n",
        "  print(\"train indices\", len(train_idx), train_idx)\n",
        "  print(\"test indices\", len(test_idx), test_idx)"
      ],
      "metadata": {
        "colab": {
          "base_uri": "https://localhost:8080/"
        },
        "id": "b14TnOiviPGP",
        "outputId": "712240b2-d063-496f-922b-407729467333"
      },
      "execution_count": null,
      "outputs": [
        {
          "output_type": "stream",
          "name": "stdout",
          "text": [
            "train indices 56000 [    0     2     3 ... 69997 69998 69999]\n",
            "test indices 14000 [    1     6     9 ... 69990 69991 69996]\n",
            "train indices 56000 [    0     1     3 ... 69996 69997 69999]\n",
            "test indices 14000 [    2    10    16 ... 69982 69992 69998]\n",
            "train indices 56000 [    0     1     2 ... 69996 69997 69998]\n",
            "test indices 14000 [    3     7    25 ... 69987 69989 69999]\n",
            "train indices 56000 [    1     2     3 ... 69996 69998 69999]\n",
            "test indices 14000 [    0     5    13 ... 69983 69986 69997]\n",
            "train indices 56000 [    0     1     2 ... 69997 69998 69999]\n",
            "test indices 14000 [    4     8    21 ... 69993 69994 69995]\n"
          ]
        }
      ]
    },
    {
      "cell_type": "markdown",
      "source": [
        "Ahora podemos generar los folds y entrenar nuestro modelo. Lo vamos a hacer definiendo un loop que itere sobre los folds especificando la lista de identificadores de los ejemplos de entrenamiento y validación para ese fold en particular.\n",
        "\n",
        "Dentro del loop hacemos un print del id del fold. Después, entrenamos muestreando los elementos de train y test con un SubsetRandomSampler. A esta clase se le puede pasar una lista con los índices de los elementos que debe muestrear del dataset.\n",
        "\n"
      ],
      "metadata": {
        "id": "dVY5BKHdlJVR"
      }
    },
    {
      "cell_type": "code",
      "metadata": {
        "id": "1ElLBng8Ei9f"
      },
      "source": [
        "model = net1.to(device)\n",
        "model.apply(reset_weights)\n",
        "loss = torch.nn.CrossEntropyLoss(reduction='none')\n",
        "optimizer = optim.Adadelta(model.parameters())"
      ],
      "execution_count": null,
      "outputs": []
    },
    {
      "cell_type": "code",
      "metadata": {
        "id": "6eX4vxj8EjC1",
        "colab": {
          "base_uri": "https://localhost:8080/"
        },
        "outputId": "e0683ba5-a55e-4930-d59e-0bac58cf0f19"
      },
      "source": [
        "\n",
        "batch_size=32\n",
        "folds=5\n",
        "epochs=5\n",
        "acc = []\n",
        "for fold,(train_idx,test_idx) in enumerate(kfold.split(dataset)):\n",
        "  print('------------fold no---------{}----------------------'.format(fold))\n",
        "  train_subsampler = torch.utils.data.SubsetRandomSampler(train_idx)\n",
        "  test_subsampler = torch.utils.data.SubsetRandomSampler(test_idx)\n",
        "\n",
        "  trainloader = torch.utils.data.DataLoader(\n",
        "                      dataset,\n",
        "                      batch_size=batch_size, sampler=train_subsampler)\n",
        "  testloader = torch.utils.data.DataLoader(\n",
        "                      dataset,\n",
        "                      batch_size=batch_size, sampler=test_subsampler)\n",
        "\n",
        "  model.apply(reset_weights)\n",
        "\n",
        "  fold_acc = 0\n",
        "  for epoch in range(1, epochs + 1):\n",
        "    train(fold, model, device, loss, trainloader, optimizer, epoch)\n",
        "    fold_acc = test_accuracy(fold,model, loss, device,  testloader)\n",
        "  acc.append(fold_acc)\n",
        "\n",
        ""
      ],
      "execution_count": null,
      "outputs": [
        {
          "output_type": "stream",
          "name": "stdout",
          "text": [
            "------------fold no---------0----------------------\n",
            "Train Fold/Epoch: 0/1 [0/56000 (0%)]\tLoss: 0.072632\n",
            "Train Fold/Epoch: 0/1 [16000/56000 (29%)]\tLoss: 0.002493\n",
            "Train Fold/Epoch: 0/1 [32000/56000 (57%)]\tLoss: 0.006823\n",
            "Train Fold/Epoch: 0/1 [48000/56000 (86%)]\tLoss: 0.002683\n",
            "\n",
            "Test set for fold 0:  Accuracy: 13543.0/14000 (97%)\n",
            "\n",
            "Train Fold/Epoch: 0/2 [0/56000 (0%)]\tLoss: 0.001721\n",
            "Train Fold/Epoch: 0/2 [16000/56000 (29%)]\tLoss: 0.003222\n",
            "Train Fold/Epoch: 0/2 [32000/56000 (57%)]\tLoss: 0.000781\n",
            "Train Fold/Epoch: 0/2 [48000/56000 (86%)]\tLoss: 0.004093\n",
            "\n",
            "Test set for fold 0:  Accuracy: 13553.0/14000 (97%)\n",
            "\n",
            "Train Fold/Epoch: 0/3 [0/56000 (0%)]\tLoss: 0.001739\n",
            "Train Fold/Epoch: 0/3 [16000/56000 (29%)]\tLoss: 0.000202\n",
            "Train Fold/Epoch: 0/3 [32000/56000 (57%)]\tLoss: 0.000488\n",
            "Train Fold/Epoch: 0/3 [48000/56000 (86%)]\tLoss: 0.000310\n",
            "\n",
            "Test set for fold 0:  Accuracy: 13683.0/14000 (98%)\n",
            "\n",
            "Train Fold/Epoch: 0/4 [0/56000 (0%)]\tLoss: 0.000024\n",
            "Train Fold/Epoch: 0/4 [16000/56000 (29%)]\tLoss: 0.012890\n",
            "Train Fold/Epoch: 0/4 [32000/56000 (57%)]\tLoss: 0.001868\n",
            "Train Fold/Epoch: 0/4 [48000/56000 (86%)]\tLoss: 0.004358\n",
            "\n",
            "Test set for fold 0:  Accuracy: 13671.0/14000 (98%)\n",
            "\n",
            "Train Fold/Epoch: 0/5 [0/56000 (0%)]\tLoss: 0.000007\n",
            "Train Fold/Epoch: 0/5 [16000/56000 (29%)]\tLoss: 0.000599\n",
            "Train Fold/Epoch: 0/5 [32000/56000 (57%)]\tLoss: 0.001722\n",
            "Train Fold/Epoch: 0/5 [48000/56000 (86%)]\tLoss: 0.001244\n",
            "\n",
            "Test set for fold 0:  Accuracy: 13647.0/14000 (97%)\n",
            "\n",
            "------------fold no---------1----------------------\n",
            "Train Fold/Epoch: 1/1 [0/56000 (0%)]\tLoss: 0.070966\n",
            "Train Fold/Epoch: 1/1 [16000/56000 (29%)]\tLoss: 0.014835\n",
            "Train Fold/Epoch: 1/1 [32000/56000 (57%)]\tLoss: 0.011153\n",
            "Train Fold/Epoch: 1/1 [48000/56000 (86%)]\tLoss: 0.001521\n",
            "\n",
            "Test set for fold 1:  Accuracy: 13271.0/14000 (95%)\n",
            "\n",
            "Train Fold/Epoch: 1/2 [0/56000 (0%)]\tLoss: 0.002682\n",
            "Train Fold/Epoch: 1/2 [16000/56000 (29%)]\tLoss: 0.000077\n",
            "Train Fold/Epoch: 1/2 [32000/56000 (57%)]\tLoss: 0.006677\n",
            "Train Fold/Epoch: 1/2 [48000/56000 (86%)]\tLoss: 0.004831\n",
            "\n",
            "Test set for fold 1:  Accuracy: 13550.0/14000 (97%)\n",
            "\n",
            "Train Fold/Epoch: 1/3 [0/56000 (0%)]\tLoss: 0.006551\n",
            "Train Fold/Epoch: 1/3 [16000/56000 (29%)]\tLoss: 0.004006\n",
            "Train Fold/Epoch: 1/3 [32000/56000 (57%)]\tLoss: 0.000227\n",
            "Train Fold/Epoch: 1/3 [48000/56000 (86%)]\tLoss: 0.000017\n",
            "\n",
            "Test set for fold 1:  Accuracy: 13609.0/14000 (97%)\n",
            "\n",
            "Train Fold/Epoch: 1/4 [0/56000 (0%)]\tLoss: 0.001416\n",
            "Train Fold/Epoch: 1/4 [16000/56000 (29%)]\tLoss: 0.000058\n",
            "Train Fold/Epoch: 1/4 [32000/56000 (57%)]\tLoss: 0.008581\n",
            "Train Fold/Epoch: 1/4 [48000/56000 (86%)]\tLoss: 0.000414\n",
            "\n",
            "Test set for fold 1:  Accuracy: 13633.0/14000 (97%)\n",
            "\n",
            "Train Fold/Epoch: 1/5 [0/56000 (0%)]\tLoss: 0.000285\n",
            "Train Fold/Epoch: 1/5 [16000/56000 (29%)]\tLoss: 0.000096\n",
            "Train Fold/Epoch: 1/5 [32000/56000 (57%)]\tLoss: 0.000000\n",
            "Train Fold/Epoch: 1/5 [48000/56000 (86%)]\tLoss: 0.000004\n",
            "\n",
            "Test set for fold 1:  Accuracy: 13630.0/14000 (97%)\n",
            "\n",
            "------------fold no---------2----------------------\n",
            "Train Fold/Epoch: 2/1 [0/56000 (0%)]\tLoss: 0.075589\n",
            "Train Fold/Epoch: 2/1 [16000/56000 (29%)]\tLoss: 0.000583\n",
            "Train Fold/Epoch: 2/1 [32000/56000 (57%)]\tLoss: 0.002770\n",
            "Train Fold/Epoch: 2/1 [48000/56000 (86%)]\tLoss: 0.003739\n",
            "\n",
            "Test set for fold 2:  Accuracy: 13531.0/14000 (97%)\n",
            "\n",
            "Train Fold/Epoch: 2/2 [0/56000 (0%)]\tLoss: 0.001064\n",
            "Train Fold/Epoch: 2/2 [16000/56000 (29%)]\tLoss: 0.000200\n",
            "Train Fold/Epoch: 2/2 [32000/56000 (57%)]\tLoss: 0.007270\n",
            "Train Fold/Epoch: 2/2 [48000/56000 (86%)]\tLoss: 0.001145\n",
            "\n",
            "Test set for fold 2:  Accuracy: 13599.0/14000 (97%)\n",
            "\n",
            "Train Fold/Epoch: 2/3 [0/56000 (0%)]\tLoss: 0.000017\n",
            "Train Fold/Epoch: 2/3 [16000/56000 (29%)]\tLoss: 0.001019\n",
            "Train Fold/Epoch: 2/3 [32000/56000 (57%)]\tLoss: 0.004924\n",
            "Train Fold/Epoch: 2/3 [48000/56000 (86%)]\tLoss: 0.003546\n",
            "\n",
            "Test set for fold 2:  Accuracy: 13616.0/14000 (97%)\n",
            "\n",
            "Train Fold/Epoch: 2/4 [0/56000 (0%)]\tLoss: 0.000115\n",
            "Train Fold/Epoch: 2/4 [16000/56000 (29%)]\tLoss: 0.000201\n",
            "Train Fold/Epoch: 2/4 [32000/56000 (57%)]\tLoss: 0.005122\n",
            "Train Fold/Epoch: 2/4 [48000/56000 (86%)]\tLoss: 0.003086\n",
            "\n",
            "Test set for fold 2:  Accuracy: 13673.0/14000 (98%)\n",
            "\n",
            "Train Fold/Epoch: 2/5 [0/56000 (0%)]\tLoss: 0.000026\n",
            "Train Fold/Epoch: 2/5 [16000/56000 (29%)]\tLoss: 0.000023\n",
            "Train Fold/Epoch: 2/5 [32000/56000 (57%)]\tLoss: 0.000010\n",
            "Train Fold/Epoch: 2/5 [48000/56000 (86%)]\tLoss: 0.001503\n",
            "\n",
            "Test set for fold 2:  Accuracy: 13693.0/14000 (98%)\n",
            "\n",
            "------------fold no---------3----------------------\n",
            "Train Fold/Epoch: 3/1 [0/56000 (0%)]\tLoss: 0.074771\n",
            "Train Fold/Epoch: 3/1 [16000/56000 (29%)]\tLoss: 0.000467\n",
            "Train Fold/Epoch: 3/1 [32000/56000 (57%)]\tLoss: 0.001439\n",
            "Train Fold/Epoch: 3/1 [48000/56000 (86%)]\tLoss: 0.006780\n",
            "\n",
            "Test set for fold 3:  Accuracy: 13403.0/14000 (96%)\n",
            "\n",
            "Train Fold/Epoch: 3/2 [0/56000 (0%)]\tLoss: 0.006133\n",
            "Train Fold/Epoch: 3/2 [16000/56000 (29%)]\tLoss: 0.000120\n",
            "Train Fold/Epoch: 3/2 [32000/56000 (57%)]\tLoss: 0.001035\n",
            "Train Fold/Epoch: 3/2 [48000/56000 (86%)]\tLoss: 0.000251\n",
            "\n",
            "Test set for fold 3:  Accuracy: 13660.0/14000 (98%)\n",
            "\n",
            "Train Fold/Epoch: 3/3 [0/56000 (0%)]\tLoss: 0.000125\n",
            "Train Fold/Epoch: 3/3 [16000/56000 (29%)]\tLoss: 0.001907\n",
            "Train Fold/Epoch: 3/3 [32000/56000 (57%)]\tLoss: 0.000069\n",
            "Train Fold/Epoch: 3/3 [48000/56000 (86%)]\tLoss: 0.000079\n",
            "\n",
            "Test set for fold 3:  Accuracy: 13626.0/14000 (97%)\n",
            "\n",
            "Train Fold/Epoch: 3/4 [0/56000 (0%)]\tLoss: 0.001781\n",
            "Train Fold/Epoch: 3/4 [16000/56000 (29%)]\tLoss: 0.000037\n",
            "Train Fold/Epoch: 3/4 [32000/56000 (57%)]\tLoss: 0.000238\n",
            "Train Fold/Epoch: 3/4 [48000/56000 (86%)]\tLoss: 0.000378\n",
            "\n",
            "Test set for fold 3:  Accuracy: 13693.0/14000 (98%)\n",
            "\n",
            "Train Fold/Epoch: 3/5 [0/56000 (0%)]\tLoss: 0.000816\n",
            "Train Fold/Epoch: 3/5 [16000/56000 (29%)]\tLoss: 0.001517\n",
            "Train Fold/Epoch: 3/5 [32000/56000 (57%)]\tLoss: 0.004022\n",
            "Train Fold/Epoch: 3/5 [48000/56000 (86%)]\tLoss: 0.000001\n",
            "\n",
            "Test set for fold 3:  Accuracy: 13692.0/14000 (98%)\n",
            "\n",
            "------------fold no---------4----------------------\n",
            "Train Fold/Epoch: 4/1 [0/56000 (0%)]\tLoss: 0.079523\n",
            "Train Fold/Epoch: 4/1 [16000/56000 (29%)]\tLoss: 0.017008\n",
            "Train Fold/Epoch: 4/1 [32000/56000 (57%)]\tLoss: 0.006527\n",
            "Train Fold/Epoch: 4/1 [48000/56000 (86%)]\tLoss: 0.001305\n",
            "\n",
            "Test set for fold 4:  Accuracy: 13476.0/14000 (96%)\n",
            "\n",
            "Train Fold/Epoch: 4/2 [0/56000 (0%)]\tLoss: 0.006741\n",
            "Train Fold/Epoch: 4/2 [16000/56000 (29%)]\tLoss: 0.003389\n",
            "Train Fold/Epoch: 4/2 [32000/56000 (57%)]\tLoss: 0.000578\n",
            "Train Fold/Epoch: 4/2 [48000/56000 (86%)]\tLoss: 0.001750\n",
            "\n",
            "Test set for fold 4:  Accuracy: 13631.0/14000 (97%)\n",
            "\n",
            "Train Fold/Epoch: 4/3 [0/56000 (0%)]\tLoss: 0.001076\n",
            "Train Fold/Epoch: 4/3 [16000/56000 (29%)]\tLoss: 0.000317\n",
            "Train Fold/Epoch: 4/3 [32000/56000 (57%)]\tLoss: 0.000239\n",
            "Train Fold/Epoch: 4/3 [48000/56000 (86%)]\tLoss: 0.004561\n",
            "\n",
            "Test set for fold 4:  Accuracy: 13674.0/14000 (98%)\n",
            "\n",
            "Train Fold/Epoch: 4/4 [0/56000 (0%)]\tLoss: 0.000714\n",
            "Train Fold/Epoch: 4/4 [16000/56000 (29%)]\tLoss: 0.000081\n",
            "Train Fold/Epoch: 4/4 [32000/56000 (57%)]\tLoss: 0.000414\n",
            "Train Fold/Epoch: 4/4 [48000/56000 (86%)]\tLoss: 0.002501\n",
            "\n",
            "Test set for fold 4:  Accuracy: 13663.0/14000 (98%)\n",
            "\n",
            "Train Fold/Epoch: 4/5 [0/56000 (0%)]\tLoss: 0.000166\n",
            "Train Fold/Epoch: 4/5 [16000/56000 (29%)]\tLoss: 0.000272\n",
            "Train Fold/Epoch: 4/5 [32000/56000 (57%)]\tLoss: 0.001221\n",
            "Train Fold/Epoch: 4/5 [48000/56000 (86%)]\tLoss: 0.000299\n",
            "\n",
            "Test set for fold 4:  Accuracy: 13694.0/14000 (98%)\n",
            "\n"
          ]
        }
      ]
    },
    {
      "cell_type": "code",
      "source": [
        "print('El accuracy de cada fold es el siguiente {} y el accuracy promedio del modelo es {}'.format(\n",
        "                acc, np.array(acc).mean()))"
      ],
      "metadata": {
        "colab": {
          "base_uri": "https://localhost:8080/"
        },
        "id": "ImCi7nMA6PjB",
        "outputId": "22973b39-46a5-4b73-d09c-084fd9145138"
      },
      "execution_count": null,
      "outputs": [
        {
          "output_type": "stream",
          "name": "stdout",
          "text": [
            "El accuracy de cada fold es el siguiente [0.9747857142857143, 0.9735714285714285, 0.9780714285714286, 0.978, 0.9781428571428571] y el accuracy promedio del modelo es 0.9765142857142857\n"
          ]
        }
      ]
    }
  ]
}