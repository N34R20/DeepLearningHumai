{
  "cells": [
    {
      "cell_type": "markdown",
      "metadata": {
        "id": "tNWLqlg7AQsF"
      },
      "source": [
        "<a href=\"https://colab.research.google.com/github/institutohumai/cursos-python/blob/master/NLP/1_Introduccion/Introduccion.ipynb\"> <img src='https://colab.research.google.com/assets/colab-badge.svg' /> </a>"
      ]
    },
    {
      "cell_type": "markdown",
      "metadata": {
        "id": "75kmJv70LfUY"
      },
      "source": [
        "# Procesamiento de Lenguaje Natural (NLP)\n",
        "\n"
      ]
    },
    {
      "cell_type": "code",
      "execution_count": null,
      "metadata": {
        "cellView": "form",
        "id": "aulvif1k5qkW"
      },
      "outputs": [],
      "source": [
        "#@title Preparamos Dataset de Medios de Latinoamérica\n",
        "%%capture\n",
        "!pip install datasets\n",
        "import pandas as pd\n",
        "from datasets import load_dataset\n",
        "\n",
        "data = pd.DataFrame()\n",
        "configs = ['ar', 'bo', 'br', 'cl', 'co', 'cr', 'gt', 'hn', 'mx', 'ni', 'pa', 'pe', 'pr', 'py', 'sv', 'uy', 've'] # 'com', 'es'\n",
        "for c in configs:\n",
        "  data_ = load_dataset(\"LeoCordoba/CC-NEWS-ES\", c)\n",
        "  data = data.append(data_['train'].to_pandas())\n",
        "\n",
        "data = data.drop('id', axis=1).reset_index(drop=True)\n",
        "# Hacemos \"downsampling\" tomando maximo n_min para\n",
        "# los grupos que tienen > n_min, y todos para los que tienen menos\n",
        "n_min = 1000\n",
        "df_grouped = data.groupby(\"country\")\n",
        "df_grouped.groups.values()\n",
        "frames_of_groups = [x.sample(n_min) if x.shape[0] > n_min else x for y, x in df_grouped]\n",
        "data = pd.concat(frames_of_groups)"
      ]
    },
    {
      "cell_type": "code",
      "execution_count": null,
      "metadata": {
        "colab": {
          "base_uri": "https://localhost:8080/",
          "height": 297
        },
        "id": "-Jvv5qO15vvu",
        "outputId": "d4aab01b-4271-46d2-909e-9e831946a082"
      },
      "outputs": [
        {
          "name": "stdout",
          "output_type": "stream",
          "text": [
            "15561\n"
          ]
        },
        {
          "data": {
            "text/html": [
              "\n",
              "  <div id=\"df-b348135b-03f7-4aad-88bb-ebaa3f554f5f\">\n",
              "    <div class=\"colab-df-container\">\n",
              "      <div>\n",
              "<style scoped>\n",
              "    .dataframe tbody tr th:only-of-type {\n",
              "        vertical-align: middle;\n",
              "    }\n",
              "\n",
              "    .dataframe tbody tr th {\n",
              "        vertical-align: top;\n",
              "    }\n",
              "\n",
              "    .dataframe thead th {\n",
              "        text-align: right;\n",
              "    }\n",
              "</style>\n",
              "<table border=\"1\" class=\"dataframe\">\n",
              "  <thead>\n",
              "    <tr style=\"text-align: right;\">\n",
              "      <th></th>\n",
              "      <th>country</th>\n",
              "      <th>text</th>\n",
              "    </tr>\n",
              "  </thead>\n",
              "  <tbody>\n",
              "    <tr>\n",
              "      <th>1488725</th>\n",
              "      <td>ni</td>\n",
              "      <td>La gente se siente insegura, pero no solo en S...</td>\n",
              "    </tr>\n",
              "    <tr>\n",
              "      <th>591577</th>\n",
              "      <td>cl</td>\n",
              "      <td>En el primer Centro de Entrenamiento de Riesgo...</td>\n",
              "    </tr>\n",
              "  </tbody>\n",
              "</table>\n",
              "</div>\n",
              "      <button class=\"colab-df-convert\" onclick=\"convertToInteractive('df-b348135b-03f7-4aad-88bb-ebaa3f554f5f')\"\n",
              "              title=\"Convert this dataframe to an interactive table.\"\n",
              "              style=\"display:none;\">\n",
              "        \n",
              "  <svg xmlns=\"http://www.w3.org/2000/svg\" height=\"24px\"viewBox=\"0 0 24 24\"\n",
              "       width=\"24px\">\n",
              "    <path d=\"M0 0h24v24H0V0z\" fill=\"none\"/>\n",
              "    <path d=\"M18.56 5.44l.94 2.06.94-2.06 2.06-.94-2.06-.94-.94-2.06-.94 2.06-2.06.94zm-11 1L8.5 8.5l.94-2.06 2.06-.94-2.06-.94L8.5 2.5l-.94 2.06-2.06.94zm10 10l.94 2.06.94-2.06 2.06-.94-2.06-.94-.94-2.06-.94 2.06-2.06.94z\"/><path d=\"M17.41 7.96l-1.37-1.37c-.4-.4-.92-.59-1.43-.59-.52 0-1.04.2-1.43.59L10.3 9.45l-7.72 7.72c-.78.78-.78 2.05 0 2.83L4 21.41c.39.39.9.59 1.41.59.51 0 1.02-.2 1.41-.59l7.78-7.78 2.81-2.81c.8-.78.8-2.07 0-2.86zM5.41 20L4 18.59l7.72-7.72 1.47 1.35L5.41 20z\"/>\n",
              "  </svg>\n",
              "      </button>\n",
              "      \n",
              "  <style>\n",
              "    .colab-df-container {\n",
              "      display:flex;\n",
              "      flex-wrap:wrap;\n",
              "      gap: 12px;\n",
              "    }\n",
              "\n",
              "    .colab-df-convert {\n",
              "      background-color: #E8F0FE;\n",
              "      border: none;\n",
              "      border-radius: 50%;\n",
              "      cursor: pointer;\n",
              "      display: none;\n",
              "      fill: #1967D2;\n",
              "      height: 32px;\n",
              "      padding: 0 0 0 0;\n",
              "      width: 32px;\n",
              "    }\n",
              "\n",
              "    .colab-df-convert:hover {\n",
              "      background-color: #E2EBFA;\n",
              "      box-shadow: 0px 1px 2px rgba(60, 64, 67, 0.3), 0px 1px 3px 1px rgba(60, 64, 67, 0.15);\n",
              "      fill: #174EA6;\n",
              "    }\n",
              "\n",
              "    [theme=dark] .colab-df-convert {\n",
              "      background-color: #3B4455;\n",
              "      fill: #D2E3FC;\n",
              "    }\n",
              "\n",
              "    [theme=dark] .colab-df-convert:hover {\n",
              "      background-color: #434B5C;\n",
              "      box-shadow: 0px 1px 3px 1px rgba(0, 0, 0, 0.15);\n",
              "      filter: drop-shadow(0px 1px 2px rgba(0, 0, 0, 0.3));\n",
              "      fill: #FFFFFF;\n",
              "    }\n",
              "  </style>\n",
              "\n",
              "      <script>\n",
              "        const buttonEl =\n",
              "          document.querySelector('#df-b348135b-03f7-4aad-88bb-ebaa3f554f5f button.colab-df-convert');\n",
              "        buttonEl.style.display =\n",
              "          google.colab.kernel.accessAllowed ? 'block' : 'none';\n",
              "\n",
              "        async function convertToInteractive(key) {\n",
              "          const element = document.querySelector('#df-b348135b-03f7-4aad-88bb-ebaa3f554f5f');\n",
              "          const dataTable =\n",
              "            await google.colab.kernel.invokeFunction('convertToInteractive',\n",
              "                                                     [key], {});\n",
              "          if (!dataTable) return;\n",
              "\n",
              "          const docLinkHtml = 'Like what you see? Visit the ' +\n",
              "            '<a target=\"_blank\" href=https://colab.research.google.com/notebooks/data_table.ipynb>data table notebook</a>'\n",
              "            + ' to learn more about interactive tables.';\n",
              "          element.innerHTML = '';\n",
              "          dataTable['output_type'] = 'display_data';\n",
              "          await google.colab.output.renderOutput(dataTable, element);\n",
              "          const docLink = document.createElement('div');\n",
              "          docLink.innerHTML = docLinkHtml;\n",
              "          element.appendChild(docLink);\n",
              "        }\n",
              "      </script>\n",
              "    </div>\n",
              "  </div>\n",
              "  "
            ],
            "text/plain": [
              "        country                                               text\n",
              "1488725      ni  La gente se siente insegura, pero no solo en S...\n",
              "591577       cl  En el primer Centro de Entrenamiento de Riesgo..."
            ]
          },
          "execution_count": 103,
          "metadata": {},
          "output_type": "execute_result"
        }
      ],
      "source": [
        "# Ejecutar la celda de arriba para preparar los datos\n",
        "print(data.shape[0])\n",
        "data.sample(2)"
      ]
    },
    {
      "cell_type": "markdown",
      "metadata": {
        "id": "75mfEJiAKTu6"
      },
      "source": [
        "### Definición"
      ]
    },
    {
      "cell_type": "markdown",
      "metadata": {
        "id": "_L0keaB9KXfI"
      },
      "source": [
        "\n",
        "El Procesamiento de Lenguaje Natural (NLP por sus siglas en inglés, **Natural Language Processing**) es un campo compartido entre Lingüística y la Computación, incluyendo al Aprendizaje Automático (ML).\n",
        "\n",
        "Busca, como su nombre lo dice, aplicar sobre el lenguaje natural con herramientas algorítmicas para extraer información, categorizar, traducir, entre otras tareas con el objetivo de fondo el objetivo es lograr que las computadoras \"comprendan\" el lenguaje,\n",
        "\n",
        "Puede, o no, usar aprendizaje automático: computar las N palabras más frecuentes en un texto por ejemplo, sería un proceso básico de NLP, que no utiliza ML."
      ]
    },
    {
      "cell_type": "markdown",
      "metadata": {
        "id": "kM5HEqEIKUGG"
      },
      "source": [
        "### Tareas Importantes"
      ]
    },
    {
      "cell_type": "markdown",
      "metadata": {
        "id": "qNOzO7EGKUIc"
      },
      "source": [
        "- Traducción de habla a escritura: la conversión de los fonemas en un audio a su representación escrita (grafema)\n",
        "\n",
        "- Clasificación:\n",
        "  - Clasificar oraciones enteras: detectar si un E-mail es spam o no, determinar si una oración es gramaticalmente correcta, análisis de sentimiento, moderación de ofensas, etc.\n",
        "\n",
        "  - Clasificar cada palabra en una oración: identificar los componentes gramaticales (sustantivo, adjetivo, verbo) o las entidades mencionadas (persona, lugar, organización)\n",
        "\n",
        "  - Modelado de Tópicos, usado mucho en *social listening*.\n",
        "\n",
        "- Generación de texto:\n",
        "  - Generar texto: generar copy para publicidades, escribir noticias, conversar, arte, etc.\n",
        "\n",
        "  - Resumen abstractivo / resumen extractivo: Extraer de una respuesta de un texto: responder una pregunta dada en base al contexto\n",
        "\n",
        "  - Traducción: Traducir un texto de un idioma a otro o de un estilo a otro (style transfer)\n",
        "\n",
        "- Agentes de Diálogo: asistentes virtuales, atención al cliente, chatbots orientados a tareas específicas.\n",
        "\n",
        "Los dominios de aplicación de estas tecnologías son innumerables, yendo desde aplicaciones triviales hasta aplicaciones como [*Speech2face*](https://speech2face.github.io/)\n",
        "\n",
        "<center><img src=\"https://speech2face.github.io/images/teaser_side.jpg\" alt=\"Paris\" align=\"center\" width=\"300px\" style=\"text-align:center;\"></center>"
      ]
    },
    {
      "cell_type": "markdown",
      "metadata": {
        "id": "6x8dMANDKbVf"
      },
      "source": [
        "# Métodos tradicionales del NLP\n",
        "\n",
        "En las próximas clases se verá el *estado del arte* basado en Aprendizaje Profundo. Sin embargo, existe un gran repertorio de técnicas más allá de eso. Conocerlas nos servirá para entender esas herramientas, y en muchas ocasiones estas técnicas tradicionales son un buen complemento para preparación y limpieza de datos, o incluso pueden ser la solución deseada si una red neuronal pesada no es conveniente.\n",
        "\n",
        "Las próximas clases se centrarán en redes usando PyTorch. Hoy conoceremos las siguientes técnias y liberías:\n",
        "\n",
        "Herramientas de NLP que veremos:\n",
        " - Expresiones Regulares con `re`\n",
        " - Búsqueda difusa de string con `thefuzz`\n",
        "\n",
        "Procesos de normalización, preprocesamiento:\n",
        " - *Stemming* con `nltk`\n",
        " - *Lemmatización* con `spacy`\n",
        " - *Stop Words*\n",
        "\n",
        "Modos de representación:\n",
        " - Bolsa de Palabras y\n",
        " - TF-IDF `con sklearn`\n"
      ]
    },
    {
      "cell_type": "markdown",
      "metadata": {
        "id": "giOXzHQl57NM"
      },
      "source": [
        "### Tokenización"
      ]
    },
    {
      "cell_type": "markdown",
      "metadata": {
        "id": "AgxW5OKgxvi5"
      },
      "source": [
        "Quizás una de las operaciones más básicas que podemos hacer es contar palabras. Imaginemos un caso extremadamente sencillo relacionado al aprendizaje automático. Pensemos en un **clasificador de positividad / negatividad**.\n",
        "\n",
        "Podríamos usar una regla como:\n",
        "\n",
        "```si \"bueno\" está en el texto, clasificamos como positivo```.\n",
        "\n",
        "Claramente un enfoque tan sencillo va a ser propenso a muchos errores. Iremos viendo cómo aplicarlo y mejorarlo.\n",
        "\n",
        "La operación de separar los textos en unidades básicas (o ***tokens***) la llamamos ***tokenización***."
      ]
    },
    {
      "cell_type": "code",
      "execution_count": null,
      "metadata": {
        "colab": {
          "base_uri": "https://localhost:8080/"
        },
        "id": "G1T_WHRo37qj",
        "outputId": "ed1ddbdd-bbff-468f-dfa1-d726e577bb8e"
      },
      "outputs": [
        {
          "data": {
            "text/plain": [
              "['Usualmente,',\n",
              " 'existe',\n",
              " 'una',\n",
              " 'relación',\n",
              " 'costo-beneficio',\n",
              " 'entre',\n",
              " 'las',\n",
              " 'distintas',\n",
              " 'técnicas.']"
            ]
          },
          "execution_count": 105,
          "metadata": {},
          "output_type": "execute_result"
        }
      ],
      "source": [
        "doc2 = 'Usualmente, existe una relación costo-beneficio entre las distintas técnicas.'\n",
        "doc2.split(' ')"
      ]
    },
    {
      "cell_type": "markdown",
      "metadata": {
        "id": "AdWVd-YUPKz9"
      },
      "source": [
        "Vemos que en castellano, el lenguaje natural (escrito) puede tener distintas fuentes de variaciones:\n",
        " - Mayúsculas\n",
        " - Tildes\n",
        " - Signos ortográficos\n",
        " - Errores de tipeo\n",
        " - Variaciones propias del lenguaje como la conjugación\n",
        " - Artefactos de la escritura informal como \"holaaa\"\n",
        "\n",
        "¿Cómo abordarán esto nuestros algorítmos?\n",
        "\n",
        "Una solución es la **normalización**: con acepción similar aunque distinta a la que usamos en estadística, va a significar transformar a los strings a representaciones iguales.\n",
        "\n",
        "Podemos:\n",
        "- Sacar espacios\n",
        "- Pasar a minúsculas\n",
        "- Quitar tildes"
      ]
    },
    {
      "cell_type": "code",
      "execution_count": null,
      "metadata": {
        "id": "3Rvt1S7VoMHa"
      },
      "outputs": [],
      "source": [
        "%%capture\n",
        "!pip install unidecode"
      ]
    },
    {
      "cell_type": "code",
      "execution_count": null,
      "metadata": {
        "colab": {
          "base_uri": "https://localhost:8080/"
        },
        "id": "NWCgv4tzP7ww",
        "outputId": "12603f1d-5d12-41ac-8b67-5a5ffc48003f"
      },
      "outputs": [
        {
          "data": {
            "text/plain": [
              "['usualmente,',\n",
              " 'existe',\n",
              " 'una',\n",
              " 'relacion',\n",
              " 'costo-beneficio',\n",
              " 'entre',\n",
              " 'las',\n",
              " 'distintas',\n",
              " 'tecnicas.']"
            ]
          },
          "execution_count": 109,
          "metadata": {},
          "output_type": "execute_result"
        }
      ],
      "source": [
        "import unidecode\n",
        "[unidecode.unidecode(w.lower().strip()) for w in doc2.split(' ')]"
      ]
    },
    {
      "cell_type": "markdown",
      "metadata": {
        "id": "P4YXF4rVQa9-"
      },
      "source": [
        "Otras normalizaciones más sofisticadas serían:\n",
        "- Pasar de plural a singular\n",
        "- Convertir el género de la palabra\n",
        "- Conjugar los verbos en infinitivo\n",
        "\n",
        "¡Es de esperarse que esto requiera métodos más complejos!\n",
        "\n",
        "Vemos que con la tokenización anterior, todavía tenemos palabras con signos de puntuación pegados. Armar nuestro vocabulario es un paso clave para nuestros modelos de *Machine Learning*."
      ]
    },
    {
      "cell_type": "markdown",
      "metadata": {
        "id": "UiTDZ9AIdKvu"
      },
      "source": [
        "## Expresiones regulares\n",
        "\n",
        "\n",
        "También conocido popularmente como **RegEx**. Es un mini lenguaje de programación diseñado para realizar búsquedas en strings. Son extremadamente útiles para:\n",
        "- Extraer datos de distintos tipos de archivos, texto o con otro tipo de codificación.\n",
        "- Web scraping: como veremos en las próximas clases, las regex son un buen método para encontrar la información que se necesita en un sitio web.\n",
        "- Limpieza de datos: herramienta fundamental en el repertorio del científico de datos para limpiar datos quitando caracteres \"ruidosos\", o armando nuevos \"features\" según la presencia o no de cierto texto.\n",
        "\n",
        "\n",
        "Para profundizar en esta importante herramienta, ver la [clase de Expresiones Regulares](https://github.com/institutohumai/cursos-python/tree/master/Automatizacion) del curso de Automatización.\n"
      ]
    },
    {
      "cell_type": "markdown",
      "metadata": {
        "id": "O_E5sG15A0aB"
      },
      "source": [
        "Recursos útiles para regex:\n",
        "\n",
        "- [Sitio para armar RegEx online](https://regexr.com/)\n",
        "- [Alternativa](https://regex101.com/)\n",
        "- [CheatSheet](https://www.dataquest.io/wp-content/uploads/2019/03/python-regular-expressions-cheat-sheet.pdf)\n"
      ]
    },
    {
      "cell_type": "markdown",
      "metadata": {
        "id": "J0ECMOvov8sC"
      },
      "source": [
        "Python utiliza la libreria llamada **re** para todo lo relacionado a regular expressions"
      ]
    },
    {
      "cell_type": "code",
      "execution_count": null,
      "metadata": {
        "colab": {
          "base_uri": "https://localhost:8080/"
        },
        "id": "h2kqp9jZA0aD",
        "outputId": "0f7d2796-ca11-4d1c-b334-8c48ba247afa"
      },
      "outputs": [
        {
          "data": {
            "text/plain": [
              "['Usualmente',\n",
              " 'existe',\n",
              " 'una',\n",
              " 'relación',\n",
              " 'costo',\n",
              " 'beneficio',\n",
              " 'entre',\n",
              " 'las',\n",
              " 'distintas',\n",
              " 'técnicas']"
            ]
          },
          "execution_count": 110,
          "metadata": {},
          "output_type": "execute_result"
        }
      ],
      "source": [
        "# Tokenización simple con RegEx\n",
        "import re\n",
        "re.findall('\\w+', doc2)"
      ]
    },
    {
      "cell_type": "markdown",
      "metadata": {
        "id": "ehXCdPH-ontb"
      },
      "source": [
        "## NLTK\n",
        "\n",
        "La librería [Natural Languaje Toolkit](https://www.nltk.org/) es un *de facto* para NLP en Python para diversos idiomas. No solo contiene algoritmos para operaciones de NLP si no también corpus de textos y vocabulario organizado como [WordNet](https://wordnet.princeton.edu)."
      ]
    },
    {
      "cell_type": "code",
      "execution_count": null,
      "metadata": {
        "colab": {
          "base_uri": "https://localhost:8080/"
        },
        "id": "vS1y1o7eogPg",
        "outputId": "c4253af7-c251-46a8-dcff-1a2be3300c91"
      },
      "outputs": [
        {
          "name": "stderr",
          "output_type": "stream",
          "text": [
            "[nltk_data] Downloading package punkt to /root/nltk_data...\n",
            "[nltk_data]   Package punkt is already up-to-date!\n"
          ]
        },
        {
          "data": {
            "text/plain": [
              "True"
            ]
          },
          "execution_count": 112,
          "metadata": {},
          "output_type": "execute_result"
        }
      ],
      "source": [
        "# Tokenización con NLTK\n",
        "import nltk\n",
        "nltk.download('punkt')"
      ]
    },
    {
      "cell_type": "code",
      "execution_count": null,
      "metadata": {
        "colab": {
          "base_uri": "https://localhost:8080/"
        },
        "id": "ttp5WoMJZWGI",
        "outputId": "22f0f701-cf90-4890-fae8-cab24eb87f19"
      },
      "outputs": [
        {
          "name": "stdout",
          "output_type": "stream",
          "text": [
            "['Usualmente', ',', 'existe', 'una', 'relación', 'costo-beneficio', 'entre', 'las', 'distintas', 'técnicas', '.']\n"
          ]
        }
      ],
      "source": [
        "tokens = nltk.word_tokenize(doc2)\n",
        "print(tokens)"
      ]
    },
    {
      "cell_type": "markdown",
      "metadata": {
        "id": "QkHgBvavADgm"
      },
      "source": [
        "## Distancia de edición\n",
        "\n",
        "Para afrontar el \"ruido\" en nuestros textos, tenemos una importante herramienta: la distancia de edición.\n",
        "\n",
        "También llamada Distancia de Levenshtein, nos dice la cantidad mínima de operaciones requerida para llevar de un string al otro. Expresandola de una manera sencilla (y en su versión sin normalizar entre 0 y 1) podemos explicarla así:\n",
        "\n",
        "$$\\mathit{L} = S+D+I$$\n",
        "\n",
        "Donde $S$ = sustitución, $D$ = Eliminación, $I$ = inserción (de un caracter).\n",
        "\n",
        "\n",
        "Como en muchos idiomas la raíz importa más que el resto de la palabra, a veces se usa la métrica Jaro Winkler que pondera más los caracteres iniciales."
      ]
    },
    {
      "cell_type": "code",
      "execution_count": null,
      "metadata": {
        "id": "qtLW-PVpEhp2"
      },
      "outputs": [],
      "source": [
        "%%capture\n",
        "!pip install pyjarowinkler\n",
        "from nltk.metrics import edit_distance\n",
        "from pyjarowinkler import distance as jwdist"
      ]
    },
    {
      "cell_type": "code",
      "execution_count": null,
      "metadata": {
        "colab": {
          "base_uri": "https://localhost:8080/"
        },
        "id": "z6e8fQ-R57PY",
        "outputId": "07eb5b63-0c6d-44cb-bee0-0696dc43b688"
      },
      "outputs": [
        {
          "name": "stdout",
          "output_type": "stream",
          "text": [
            "'pero' vs 'perro':\n",
            "Distancia Levenshtein -> 1\n",
            "Similitud Jaro Winkler -> 0.95\n",
            "----------------------------------------\n",
            "'pero' vs 'pierdo':\n",
            "Distancia Levenshtein -> 2\n",
            "Similitud Jaro Winkler -> 0.9\n",
            "----------------------------------------\n",
            "'nueve' vs 'mueve':\n",
            "Distancia Levenshtein -> 1\n",
            "Similitud Jaro Winkler -> 0.87\n",
            "----------------------------------------\n",
            "'totalmente' vs 'diferentes':\n",
            "Distancia Levenshtein -> 7\n",
            "Similitud Jaro Winkler -> 0.52\n",
            "----------------------------------------\n",
            "'pero' vs 'basta':\n",
            "Distancia Levenshtein -> 5\n",
            "Similitud Jaro Winkler -> 0.0\n",
            "----------------------------------------\n"
          ]
        }
      ],
      "source": [
        "# Definimos una lista de tuplas de palabras\n",
        "palabras = [(\"pero\", \"perro\"),(\"pero\", \"pierdo\"), (\"nueve\", \"mueve\"),  (\"totalmente\",\"diferentes\"), (\"pero\", \"basta\")]\n",
        "\n",
        "# Calculamos las metricas de distancia pasando cada tupla como argumentos a levdist() y get_jaro_distance()\n",
        "for x,y in palabras:\n",
        "    print(f\"'{x}' vs '{y}':\")\n",
        "    print(\"Distancia Levenshtein ->\", edit_distance(x,y))\n",
        "    print(\"Similitud Jaro Winkler ->\",jwdist.get_jaro_distance(x,y))\n",
        "    print(\"-\"*40)"
      ]
    },
    {
      "cell_type": "markdown",
      "metadata": {
        "id": "44F9E4z9dJCu"
      },
      "source": [
        "## Búsqueda difusa de strings (fuzzy string matching)\n",
        "\n",
        "Técnica muy útil para tener en el repertorio, nos permite encontrar coincidencias que no son exactas. En el caso más sencillo, la búsqueda difusa nos devolverá un puntaje de similitud entre los strings relacionada a las diferencias entre los caracteres. Existen variaciones que consideran cuántas unidades (palabras, tokens) coinciden, que ordenan la oración antes, o que borran repetidos."
      ]
    },
    {
      "cell_type": "code",
      "execution_count": null,
      "metadata": {
        "id": "N1H5I_nSpxMe"
      },
      "outputs": [],
      "source": [
        "%%capture\n",
        "!pip install thefuzz[speedup]\n",
        "from thefuzz import process, fuzz"
      ]
    },
    {
      "cell_type": "code",
      "execution_count": null,
      "metadata": {
        "id": "EaIGqFoPp30R"
      },
      "outputs": [],
      "source": [
        "def get_match(string, lista_strings):\n",
        "    \"\"\"Para buscar coincidencias entre nombre con los nombres\"\"\"\n",
        "    mejor_match, puntaje = process.extractBests(string.strip(), lista_strings, scorer=fuzz.token_set_ratio)[0]\n",
        "    return mejor_match, puntaje"
      ]
    },
    {
      "cell_type": "code",
      "execution_count": null,
      "metadata": {
        "colab": {
          "base_uri": "https://localhost:8080/"
        },
        "id": "U-brWWiIp9OR",
        "outputId": "b68cf8c5-067d-4540-b173-563217893460"
      },
      "outputs": [
        {
          "data": {
            "text/plain": [
              "('Pedro', 80)"
            ]
          },
          "execution_count": 118,
          "metadata": {},
          "output_type": "execute_result"
        }
      ],
      "source": [
        "# Completar\n",
        "busqueda = 'Pebro'\n",
        "candidatos = 'María, Fabio, Paula, Natu, Pedro, Miguel'.split(', ')\n",
        "\n",
        "get_match(busqueda, candidatos)"
      ]
    },
    {
      "cell_type": "markdown",
      "metadata": {
        "id": "5gU8tfX9bbnb"
      },
      "source": [
        "# Hacia el ML: Representación"
      ]
    },
    {
      "cell_type": "markdown",
      "metadata": {
        "id": "yKcJRgtLny2T"
      },
      "source": [
        "Lo anterior nos puede servir para un sinfín de algorítmos útiles de NLP. En el caso del *Machine Learning* (ML) para usar nuestro modelo (o para cualquier operación vectorial), tendremos que llevar a nuestros datos a una representación matricial. Las maneras de lograr esto se pueden denominar \"**vectorizar**\".\n",
        "\n",
        "\n",
        "En un caso de querer **clasificar artículos** en algunas categorías predeterminadas, una tabla simple de ejemplo se podría ver así:"
      ]
    },
    {
      "cell_type": "code",
      "execution_count": null,
      "metadata": {
        "cellView": "form",
        "colab": {
          "base_uri": "https://localhost:8080/",
          "height": 319
        },
        "id": "2nRuk1FhbZ0W",
        "outputId": "b5c32466-6796-4c74-beef-6ba5c2fe3c9e"
      },
      "outputs": [
        {
          "data": {
            "image/png": "[encoded data removed]",
            "text/plain": [
              "<Figure size 432x288 with 1 Axes>"
            ]
          },
          "metadata": {
            "needs_background": "light"
          },
          "output_type": "display_data"
        }
      ],
      "source": [
        "#@title Matriz de Features\n",
        "import matplotlib.pyplot as plt\n",
        "\n",
        "fig = plt.figure(figsize=(6, 4))\n",
        "ax = fig.add_axes([0, 0, 1, 1])\n",
        "ax.axis('off')\n",
        "ax.axis('equal')\n",
        "\n",
        "# Draw features matrix\n",
        "ax.vlines(range(6), ymin=0, ymax=9, lw=1)\n",
        "ax.hlines(range(10), xmin=0, xmax=5, lw=1)\n",
        "font_prop = dict(size=12, family='monospace')\n",
        "ax.text(-1, -1, \"Matriz de Features ($X$)\", size=14)\n",
        "ax.text(0.1, -0.3, r'n_features $\\longrightarrow$', **font_prop)\n",
        "ax.text(-0.1, 0.1, r'$\\longleftarrow$ n_observaciones', rotation=90,\n",
        "        va='top', ha='right', **font_prop)\n",
        "\n",
        "# Draw labels vector\n",
        "ax.vlines(range(8, 10), ymin=0, ymax=9, lw=1)\n",
        "ax.hlines(range(10), xmin=8, xmax=9, lw=1)\n",
        "ax.text(7, -1, \"Vector Target ($y$)\", size=14)\n",
        "ax.text(7.9, 0.1, r'$\\longleftarrow$ n_observaciones', rotation=90,\n",
        "        va='top', ha='right', **font_prop)\n",
        "\n",
        "ax.set_ylim(10, -2);"
      ]
    },
    {
      "cell_type": "code",
      "execution_count": null,
      "metadata": {
        "cellView": "form",
        "colab": {
          "base_uri": "https://localhost:8080/",
          "height": 303
        },
        "id": "xiaePbFWYGG0",
        "outputId": "9a136547-9f1b-4acd-e934-f8e8ef295979"
      },
      "outputs": [
        {
          "data": {
            "image/png": "[encoded data removed]",
            "text/plain": [
              "<Figure size 432x288 with 1 Axes>"
            ]
          },
          "metadata": {},
          "output_type": "display_data"
        }
      ],
      "source": [
        "#@title Tabla Ejemplo\n",
        "import numpy as np\n",
        "import matplotlib.pyplot as plt\n",
        "title_text = 'Datos'\n",
        "footer_text = '22 de Agosto, 2022'\n",
        "fig_background_color = 'skyblue'\n",
        "fig_border = 'steelblue'\n",
        "data_ =  [\n",
        "            [         'N Adjetivos', 'N Verbos', 'Largo Total', 'Menciones', 'Categoría'],\n",
        "            [ 'Doc 1',  386, 296,   1331,  17008,  1],\n",
        "            ['Doc 2',  230, 139,   145,   9308, 2],\n",
        "            ['Doc 3',  135,  1552,  2558,  47981, 0],\n",
        "            ['Doc 4',  415,  858,  656,  93263,  1],\n",
        "            ['Doc 5', 361, 1509,  3164,  181380,  2],\n",
        "        ]\n",
        "column_headers = data_.pop(0)\n",
        "row_headers = [x.pop(0) for x in data_]\n",
        "\n",
        "cell_text = []\n",
        "for row in data_:\n",
        "    cell_text.append([f'{x}' for x in row])\n",
        "rcolors = plt.cm.BuPu(np.full(len(row_headers), 0.1))\n",
        "ccolors = plt.cm.BuPu(np.full(len(column_headers), 0.1))\n",
        "plt.figure(linewidth=2,\n",
        "           edgecolor=fig_border,\n",
        "           facecolor=fig_background_color,\n",
        "           tight_layout={'pad':1},\n",
        "           #figsize=(5,3)\n",
        "          )\n",
        "the_table = plt.table(cellText=cell_text,\n",
        "                      rowLabels=row_headers,\n",
        "                      rowColours=rcolors,\n",
        "                      rowLoc='right',\n",
        "                      colColours=ccolors,\n",
        "                      colLabels=column_headers,\n",
        "                      loc='center')\n",
        "the_table.scale(1, 2.5)\n",
        "ax = plt.gca()\n",
        "ax.get_xaxis().set_visible(False)\n",
        "ax.get_yaxis().set_visible(False)\n",
        "plt.box(on=None)\n",
        "plt.suptitle(title_text)\n",
        "plt.figtext(0.95, 0.05, footer_text, horizontalalignment='right', size=10, weight='light')\n",
        "plt.draw()"
      ]
    },
    {
      "cell_type": "markdown",
      "metadata": {
        "id": "jH5wKFXhcJNJ"
      },
      "source": [
        "Para operar sobre la información de texto directamente, el enfoque tradicional más sencillo es la **bolsa de palabras**. Vamos a crearla con sci-kit learn:"
      ]
    },
    {
      "cell_type": "code",
      "execution_count": null,
      "metadata": {
        "id": "VqfktxZwEO7J"
      },
      "outputs": [],
      "source": [
        "from sklearn.feature_extraction.text import CountVectorizer"
      ]
    },
    {
      "cell_type": "code",
      "execution_count": null,
      "metadata": {
        "id": "dFU2_FH71kE0"
      },
      "outputs": [],
      "source": [
        "# Instanciamos el CV\n",
        "vec = CountVectorizer()\n",
        "\n",
        "doc1 = 'la matriz de frecuencias otorga información del contenido de un documento'\n",
        "doc2 = 'las palabras que aparecen en un documento reflejan sus tópicos'\n",
        "\n",
        "# Definimos una lista con todos los strings\n",
        "textos = [doc1, doc2]\n",
        "\n",
        "# Ajustamos el CV y transformamos los datos\n",
        "X = vec.fit_transform(textos)"
      ]
    },
    {
      "cell_type": "markdown",
      "metadata": {
        "id": "UgRrQuTCQpWJ"
      },
      "source": [
        "Podemos volcar este resultado en un `DataFrame`. Para obtener el encabezado de las columnas, vamos a utilizar el método `get_feature_names_out()`, propio del vectorizador."
      ]
    },
    {
      "cell_type": "code",
      "execution_count": null,
      "metadata": {
        "colab": {
          "base_uri": "https://localhost:8080/",
          "height": 112
        },
        "id": "60EnFi-oQpWJ",
        "outputId": "33000989-c2e7-455e-a37b-24ba96bb30fc"
      },
      "outputs": [
        {
          "data": {
            "text/html": [
              "<style type=\"text/css\">\n",
              "#T_84bc0_row0_col0, #T_84bc0_row0_col4, #T_84bc0_row0_col5, #T_84bc0_row0_col9, #T_84bc0_row0_col12, #T_84bc0_row0_col13, #T_84bc0_row0_col14, #T_84bc0_row0_col15, #T_84bc0_row0_col16, #T_84bc0_row0_col17, #T_84bc0_row1_col1, #T_84bc0_row1_col2, #T_84bc0_row1_col3, #T_84bc0_row1_col4, #T_84bc0_row1_col6, #T_84bc0_row1_col7, #T_84bc0_row1_col8, #T_84bc0_row1_col10, #T_84bc0_row1_col11, #T_84bc0_row1_col17 {\n",
              "  background-color: #fff7fb;\n",
              "  color: #000000;\n",
              "}\n",
              "#T_84bc0_row0_col1, #T_84bc0_row0_col2, #T_84bc0_row0_col3, #T_84bc0_row0_col6, #T_84bc0_row0_col7, #T_84bc0_row0_col8, #T_84bc0_row0_col10, #T_84bc0_row0_col11, #T_84bc0_row1_col0, #T_84bc0_row1_col5, #T_84bc0_row1_col9, #T_84bc0_row1_col12, #T_84bc0_row1_col13, #T_84bc0_row1_col14, #T_84bc0_row1_col15, #T_84bc0_row1_col16 {\n",
              "  background-color: #023858;\n",
              "  color: #f1f1f1;\n",
              "}\n",
              "</style>\n",
              "<table id=\"T_84bc0_\" class=\"dataframe\">\n",
              "  <thead>\n",
              "    <tr>\n",
              "      <th class=\"blank level0\" >&nbsp;</th>\n",
              "      <th class=\"col_heading level0 col0\" >aparecen</th>\n",
              "      <th class=\"col_heading level0 col1\" >contenido</th>\n",
              "      <th class=\"col_heading level0 col2\" >de</th>\n",
              "      <th class=\"col_heading level0 col3\" >del</th>\n",
              "      <th class=\"col_heading level0 col4\" >documento</th>\n",
              "      <th class=\"col_heading level0 col5\" >en</th>\n",
              "      <th class=\"col_heading level0 col6\" >frecuencias</th>\n",
              "      <th class=\"col_heading level0 col7\" >información</th>\n",
              "      <th class=\"col_heading level0 col8\" >la</th>\n",
              "      <th class=\"col_heading level0 col9\" >las</th>\n",
              "      <th class=\"col_heading level0 col10\" >matriz</th>\n",
              "      <th class=\"col_heading level0 col11\" >otorga</th>\n",
              "      <th class=\"col_heading level0 col12\" >palabras</th>\n",
              "      <th class=\"col_heading level0 col13\" >que</th>\n",
              "      <th class=\"col_heading level0 col14\" >reflejan</th>\n",
              "      <th class=\"col_heading level0 col15\" >sus</th>\n",
              "      <th class=\"col_heading level0 col16\" >tópicos</th>\n",
              "      <th class=\"col_heading level0 col17\" >un</th>\n",
              "    </tr>\n",
              "  </thead>\n",
              "  <tbody>\n",
              "    <tr>\n",
              "      <th id=\"T_84bc0_level0_row0\" class=\"row_heading level0 row0\" >0</th>\n",
              "      <td id=\"T_84bc0_row0_col0\" class=\"data row0 col0\" >0</td>\n",
              "      <td id=\"T_84bc0_row0_col1\" class=\"data row0 col1\" >1</td>\n",
              "      <td id=\"T_84bc0_row0_col2\" class=\"data row0 col2\" >2</td>\n",
              "      <td id=\"T_84bc0_row0_col3\" class=\"data row0 col3\" >1</td>\n",
              "      <td id=\"T_84bc0_row0_col4\" class=\"data row0 col4\" >1</td>\n",
              "      <td id=\"T_84bc0_row0_col5\" class=\"data row0 col5\" >0</td>\n",
              "      <td id=\"T_84bc0_row0_col6\" class=\"data row0 col6\" >1</td>\n",
              "      <td id=\"T_84bc0_row0_col7\" class=\"data row0 col7\" >1</td>\n",
              "      <td id=\"T_84bc0_row0_col8\" class=\"data row0 col8\" >1</td>\n",
              "      <td id=\"T_84bc0_row0_col9\" class=\"data row0 col9\" >0</td>\n",
              "      <td id=\"T_84bc0_row0_col10\" class=\"data row0 col10\" >1</td>\n",
              "      <td id=\"T_84bc0_row0_col11\" class=\"data row0 col11\" >1</td>\n",
              "      <td id=\"T_84bc0_row0_col12\" class=\"data row0 col12\" >0</td>\n",
              "      <td id=\"T_84bc0_row0_col13\" class=\"data row0 col13\" >0</td>\n",
              "      <td id=\"T_84bc0_row0_col14\" class=\"data row0 col14\" >0</td>\n",
              "      <td id=\"T_84bc0_row0_col15\" class=\"data row0 col15\" >0</td>\n",
              "      <td id=\"T_84bc0_row0_col16\" class=\"data row0 col16\" >0</td>\n",
              "      <td id=\"T_84bc0_row0_col17\" class=\"data row0 col17\" >1</td>\n",
              "    </tr>\n",
              "    <tr>\n",
              "      <th id=\"T_84bc0_level0_row1\" class=\"row_heading level0 row1\" >1</th>\n",
              "      <td id=\"T_84bc0_row1_col0\" class=\"data row1 col0\" >1</td>\n",
              "      <td id=\"T_84bc0_row1_col1\" class=\"data row1 col1\" >0</td>\n",
              "      <td id=\"T_84bc0_row1_col2\" class=\"data row1 col2\" >0</td>\n",
              "      <td id=\"T_84bc0_row1_col3\" class=\"data row1 col3\" >0</td>\n",
              "      <td id=\"T_84bc0_row1_col4\" class=\"data row1 col4\" >1</td>\n",
              "      <td id=\"T_84bc0_row1_col5\" class=\"data row1 col5\" >1</td>\n",
              "      <td id=\"T_84bc0_row1_col6\" class=\"data row1 col6\" >0</td>\n",
              "      <td id=\"T_84bc0_row1_col7\" class=\"data row1 col7\" >0</td>\n",
              "      <td id=\"T_84bc0_row1_col8\" class=\"data row1 col8\" >0</td>\n",
              "      <td id=\"T_84bc0_row1_col9\" class=\"data row1 col9\" >1</td>\n",
              "      <td id=\"T_84bc0_row1_col10\" class=\"data row1 col10\" >0</td>\n",
              "      <td id=\"T_84bc0_row1_col11\" class=\"data row1 col11\" >0</td>\n",
              "      <td id=\"T_84bc0_row1_col12\" class=\"data row1 col12\" >1</td>\n",
              "      <td id=\"T_84bc0_row1_col13\" class=\"data row1 col13\" >1</td>\n",
              "      <td id=\"T_84bc0_row1_col14\" class=\"data row1 col14\" >1</td>\n",
              "      <td id=\"T_84bc0_row1_col15\" class=\"data row1 col15\" >1</td>\n",
              "      <td id=\"T_84bc0_row1_col16\" class=\"data row1 col16\" >1</td>\n",
              "      <td id=\"T_84bc0_row1_col17\" class=\"data row1 col17\" >1</td>\n",
              "    </tr>\n",
              "  </tbody>\n",
              "</table>\n"
            ],
            "text/plain": [
              "<pandas.io.formats.style.Styler at 0x7fe477952610>"
            ]
          },
          "execution_count": 121,
          "metadata": {},
          "output_type": "execute_result"
        }
      ],
      "source": [
        "import pandas as pd\n",
        "pd.DataFrame(data = X.todense(), columns = vec.get_feature_names_out()).style.background_gradient()"
      ]
    },
    {
      "cell_type": "markdown",
      "metadata": {
        "id": "cQ5qU9Tu00xh"
      },
      "source": [
        "Una vez que tenemos nuestros datos ordenados, podemos ajustar nuestro modelo de aprendizaje automático aproximadamente así:\n",
        "\n",
        "```python\n",
        "from sklearn.familia_de_modelos import Modelo\n",
        "mi_modelo = Modelo(hiperparámetros)\n",
        "mi_modelo.fit(X, y)\n",
        "\n",
        "predicción = mi_modelo.predict(nuevo_X)\n",
        "```\n",
        "\n",
        "Para ajustar nuestros modelos de machine learning, vamos a tener nuestra matriz de features **X** y un vector **y** (en el caso de ML supervisado), donde **X** tiene la forma ``(n_observaciones, n_variables)`` e **y** ``(n_observaciones)``"
      ]
    },
    {
      "cell_type": "markdown",
      "metadata": {
        "id": "T4aQ4Ohmqcpb"
      },
      "source": [
        "# TF-IDF\n",
        "\n",
        "**Term frequency-inverse document frequency (TF–IDF)** es una técnica alternativa que computa la frecuencia relativa de cada palabra por documento, ponderada por la inversa de su frecuencia relativa a lo largo del *corpus* (colección de documentos). Este método funciona mejor con ciertos algoritmos de clasificación, y es ámpliamente utilizada"
      ]
    },
    {
      "cell_type": "markdown",
      "metadata": {
        "id": "EbLpYY_iY5d0"
      },
      "source": [
        "Vamos a calcular las matrices de ocurrencias de términos usando sklearn.\n",
        "\n",
        "Ámbas clases primero construyen el vocabulario total, y luego:  \n",
        "- **CountVectorizer** nos devuelve la frecuencia absoluta de cada término por cada documento.\n",
        "- [**TF-IDF**](https://en.wikipedia.org/wiki/Tf%E2%80%93idf): calcula la frecuencia de cada término por documento, y normaliza por el total de documentos donde el término aparece.\n",
        "\n",
        "$${tf} (t,d)={\\frac {f_{t,d}}{\\sum _{t'\\in d}{f_{t',d}}}}$$\n",
        "\n",
        "$$\n",
        "idf( t, D ) = log \\frac{ \\text{| } D \\text{ |} }{ 1 + \\text{| } \\{ d \\in D : t \\in d \\} \\text{ |} }\n",
        "$$\n",
        "\n",
        "\n",
        "$$ tfidf( t, d, D ) = tf( t, d ) \\times idf( t, D )\n",
        "$$\n"
      ]
    },
    {
      "cell_type": "code",
      "execution_count": null,
      "metadata": {
        "colab": {
          "base_uri": "https://localhost:8080/",
          "height": 112
        },
        "id": "dtJtANUnCZ33",
        "outputId": "d6420f64-788b-44e7-a98b-3a2efa1d2d43"
      },
      "outputs": [
        {
          "data": {
            "text/html": [
              "<style type=\"text/css\">\n",
              "#T_e9668_row0_col0, #T_e9668_row0_col4, #T_e9668_row0_col5, #T_e9668_row0_col9, #T_e9668_row0_col12, #T_e9668_row0_col13, #T_e9668_row0_col14, #T_e9668_row0_col15, #T_e9668_row0_col16, #T_e9668_row0_col17, #T_e9668_row1_col1, #T_e9668_row1_col2, #T_e9668_row1_col3, #T_e9668_row1_col6, #T_e9668_row1_col7, #T_e9668_row1_col8, #T_e9668_row1_col10, #T_e9668_row1_col11 {\n",
              "  background-color: #fff7fb;\n",
              "  color: #000000;\n",
              "}\n",
              "#T_e9668_row0_col1, #T_e9668_row0_col2, #T_e9668_row0_col3, #T_e9668_row0_col6, #T_e9668_row0_col7, #T_e9668_row0_col8, #T_e9668_row0_col10, #T_e9668_row0_col11, #T_e9668_row1_col0, #T_e9668_row1_col4, #T_e9668_row1_col5, #T_e9668_row1_col9, #T_e9668_row1_col12, #T_e9668_row1_col13, #T_e9668_row1_col14, #T_e9668_row1_col15, #T_e9668_row1_col16, #T_e9668_row1_col17 {\n",
              "  background-color: #023858;\n",
              "  color: #f1f1f1;\n",
              "}\n",
              "</style>\n",
              "<table id=\"T_e9668_\" class=\"dataframe\">\n",
              "  <thead>\n",
              "    <tr>\n",
              "      <th class=\"blank level0\" >&nbsp;</th>\n",
              "      <th class=\"col_heading level0 col0\" >aparecen</th>\n",
              "      <th class=\"col_heading level0 col1\" >contenido</th>\n",
              "      <th class=\"col_heading level0 col2\" >de</th>\n",
              "      <th class=\"col_heading level0 col3\" >del</th>\n",
              "      <th class=\"col_heading level0 col4\" >documento</th>\n",
              "      <th class=\"col_heading level0 col5\" >en</th>\n",
              "      <th class=\"col_heading level0 col6\" >frecuencias</th>\n",
              "      <th class=\"col_heading level0 col7\" >información</th>\n",
              "      <th class=\"col_heading level0 col8\" >la</th>\n",
              "      <th class=\"col_heading level0 col9\" >las</th>\n",
              "      <th class=\"col_heading level0 col10\" >matriz</th>\n",
              "      <th class=\"col_heading level0 col11\" >otorga</th>\n",
              "      <th class=\"col_heading level0 col12\" >palabras</th>\n",
              "      <th class=\"col_heading level0 col13\" >que</th>\n",
              "      <th class=\"col_heading level0 col14\" >reflejan</th>\n",
              "      <th class=\"col_heading level0 col15\" >sus</th>\n",
              "      <th class=\"col_heading level0 col16\" >tópicos</th>\n",
              "      <th class=\"col_heading level0 col17\" >un</th>\n",
              "    </tr>\n",
              "  </thead>\n",
              "  <tbody>\n",
              "    <tr>\n",
              "      <th id=\"T_e9668_level0_row0\" class=\"row_heading level0 row0\" >0</th>\n",
              "      <td id=\"T_e9668_row0_col0\" class=\"data row0 col0\" >0.000000</td>\n",
              "      <td id=\"T_e9668_row0_col1\" class=\"data row0 col1\" >0.288525</td>\n",
              "      <td id=\"T_e9668_row0_col2\" class=\"data row0 col2\" >0.577050</td>\n",
              "      <td id=\"T_e9668_row0_col3\" class=\"data row0 col3\" >0.288525</td>\n",
              "      <td id=\"T_e9668_row0_col4\" class=\"data row0 col4\" >0.205288</td>\n",
              "      <td id=\"T_e9668_row0_col5\" class=\"data row0 col5\" >0.000000</td>\n",
              "      <td id=\"T_e9668_row0_col6\" class=\"data row0 col6\" >0.288525</td>\n",
              "      <td id=\"T_e9668_row0_col7\" class=\"data row0 col7\" >0.288525</td>\n",
              "      <td id=\"T_e9668_row0_col8\" class=\"data row0 col8\" >0.288525</td>\n",
              "      <td id=\"T_e9668_row0_col9\" class=\"data row0 col9\" >0.000000</td>\n",
              "      <td id=\"T_e9668_row0_col10\" class=\"data row0 col10\" >0.288525</td>\n",
              "      <td id=\"T_e9668_row0_col11\" class=\"data row0 col11\" >0.288525</td>\n",
              "      <td id=\"T_e9668_row0_col12\" class=\"data row0 col12\" >0.000000</td>\n",
              "      <td id=\"T_e9668_row0_col13\" class=\"data row0 col13\" >0.000000</td>\n",
              "      <td id=\"T_e9668_row0_col14\" class=\"data row0 col14\" >0.000000</td>\n",
              "      <td id=\"T_e9668_row0_col15\" class=\"data row0 col15\" >0.000000</td>\n",
              "      <td id=\"T_e9668_row0_col16\" class=\"data row0 col16\" >0.000000</td>\n",
              "      <td id=\"T_e9668_row0_col17\" class=\"data row0 col17\" >0.205288</td>\n",
              "    </tr>\n",
              "    <tr>\n",
              "      <th id=\"T_e9668_level0_row1\" class=\"row_heading level0 row1\" >1</th>\n",
              "      <td id=\"T_e9668_row1_col0\" class=\"data row1 col0\" >0.333102</td>\n",
              "      <td id=\"T_e9668_row1_col1\" class=\"data row1 col1\" >0.000000</td>\n",
              "      <td id=\"T_e9668_row1_col2\" class=\"data row1 col2\" >0.000000</td>\n",
              "      <td id=\"T_e9668_row1_col3\" class=\"data row1 col3\" >0.000000</td>\n",
              "      <td id=\"T_e9668_row1_col4\" class=\"data row1 col4\" >0.237005</td>\n",
              "      <td id=\"T_e9668_row1_col5\" class=\"data row1 col5\" >0.333102</td>\n",
              "      <td id=\"T_e9668_row1_col6\" class=\"data row1 col6\" >0.000000</td>\n",
              "      <td id=\"T_e9668_row1_col7\" class=\"data row1 col7\" >0.000000</td>\n",
              "      <td id=\"T_e9668_row1_col8\" class=\"data row1 col8\" >0.000000</td>\n",
              "      <td id=\"T_e9668_row1_col9\" class=\"data row1 col9\" >0.333102</td>\n",
              "      <td id=\"T_e9668_row1_col10\" class=\"data row1 col10\" >0.000000</td>\n",
              "      <td id=\"T_e9668_row1_col11\" class=\"data row1 col11\" >0.000000</td>\n",
              "      <td id=\"T_e9668_row1_col12\" class=\"data row1 col12\" >0.333102</td>\n",
              "      <td id=\"T_e9668_row1_col13\" class=\"data row1 col13\" >0.333102</td>\n",
              "      <td id=\"T_e9668_row1_col14\" class=\"data row1 col14\" >0.333102</td>\n",
              "      <td id=\"T_e9668_row1_col15\" class=\"data row1 col15\" >0.333102</td>\n",
              "      <td id=\"T_e9668_row1_col16\" class=\"data row1 col16\" >0.333102</td>\n",
              "      <td id=\"T_e9668_row1_col17\" class=\"data row1 col17\" >0.237005</td>\n",
              "    </tr>\n",
              "  </tbody>\n",
              "</table>\n"
            ],
            "text/plain": [
              "<pandas.io.formats.style.Styler at 0x7fe476418c50>"
            ]
          },
          "execution_count": 21,
          "metadata": {},
          "output_type": "execute_result"
        }
      ],
      "source": [
        "from sklearn.feature_extraction.text import TfidfVectorizer\n",
        "vec = TfidfVectorizer()\n",
        "X = vec.fit_transform(textos)\n",
        "pd.DataFrame(data = X.todense(),\n",
        "             columns = vec.get_feature_names_out()).style.background_gradient()"
      ]
    },
    {
      "cell_type": "markdown",
      "metadata": {
        "id": "lDdCuUc-HFVc"
      },
      "source": [
        "## Similitud coseno\n",
        "\n",
        "Recordando rápidamente la métrica de similitud coseno, podemos utilizarla en conjunto con TF-IDF para calcular similitud entre textos!\n",
        "\n",
        "$$sim(\\pmb x, \\pmb y) = \\frac {\\pmb x \\cdot \\pmb y}{||\\pmb x|| \\cdot ||\\pmb y||}$$\n",
        "\n",
        "Con los elementos vistos ya podemos construir el algoritmo de Análisis Semántico Latente, que fue de vanguardia y muy exitoso por muchos años.\n",
        "\n",
        "Para un ejemplo de TF-IDF con similitud coseno, en el contexto de sistemas de recomendación, véase [la última clase de Machine Learning](https://github.com/institutohumai/cursos-python)."
      ]
    },
    {
      "cell_type": "markdown",
      "metadata": {
        "id": "DcAN4Y9v57Oo"
      },
      "source": [
        "## N-gramas\n",
        "\n",
        "Muchas veces la unidad lingüística no es una palabra si no que es una palabra compuesta, ya sea en un nombre (ej. \"La Rioja\") como en palabras compuestas (\"italo-americano\"). Tomando palabras sueltas, esos significados se pierden.\n",
        "Para contemplar esto, se pueden tomar combinaciones de N palabras: **n-gramas**."
      ]
    },
    {
      "cell_type": "code",
      "execution_count": null,
      "metadata": {
        "id": "GopqmKYl-I9Q"
      },
      "outputs": [],
      "source": [
        "data['text'] = data['text'].apply(lambda x: x[:1000])"
      ]
    },
    {
      "cell_type": "code",
      "execution_count": null,
      "metadata": {
        "colab": {
          "base_uri": "https://localhost:8080/"
        },
        "id": "HB9_s2R-57Oo",
        "outputId": "edf43222-af2d-4db8-e633-d514a121cf2f"
      },
      "outputs": [
        {
          "name": "stdout",
          "output_type": "stream",
          "text": [
            "[[0 0 0 ... 0 0 0]\n",
            " [0 0 0 ... 0 0 0]\n",
            " [0 0 0 ... 0 0 0]\n",
            " ...\n",
            " [0 0 0 ... 0 0 0]\n",
            " [0 0 0 ... 0 0 0]\n",
            " [0 0 0 ... 0 0 0]]\n",
            "['00 de' '00 de la' '00 en' ... 'únicamente una' 'únicamente una nueva'\n",
            " 'único que']\n"
          ]
        }
      ],
      "source": [
        "# Definimos una lista con los documentos\n",
        "textos = data['text']\n",
        "\n",
        "# Instanciamos un CountVectorizer con una tupla indicando el rango de los n-gramas a considerar\n",
        "vectorizer = CountVectorizer(ngram_range=(2,3), min_df=20)\n",
        "\n",
        "# Usamos .fit_transform() para ajustar el CV y transformar los datos\n",
        "X = vectorizer.fit_transform(textos)\n",
        "print(X.toarray())\n",
        "\n",
        "# Usando .get_feature_names_out() podemos acceder al indice de palabras\n",
        "print(vectorizer.get_feature_names_out())"
      ]
    },
    {
      "cell_type": "code",
      "execution_count": null,
      "metadata": {
        "colab": {
          "base_uri": "https://localhost:8080/",
          "height": 306
        },
        "id": "PB69Ub00Dff4",
        "outputId": "2e3bebd3-57d8-482a-8ed1-bbcfc36e0ff8"
      },
      "outputs": [
        {
          "data": {
            "image/png": "[encoded data removed]",
            "text/plain": [
              "<Figure size 432x288 with 1 Axes>"
            ]
          },
          "metadata": {
            "needs_background": "light"
          },
          "output_type": "display_data"
        }
      ],
      "source": [
        "pd.DataFrame(X.sum(axis=0).T,\n",
        "            index=vectorizer.get_feature_names_out(),\n",
        "            columns=['freq']).sort_values(by='freq',\n",
        "                                          ascending=False)[:20].plot(kind='bar',title='N Gramas');"
      ]
    },
    {
      "cell_type": "markdown",
      "metadata": {
        "id": "M-yy_LsP57NY"
      },
      "source": [
        "## Stop Words\n",
        "\n"
      ]
    },
    {
      "cell_type": "code",
      "execution_count": null,
      "metadata": {
        "id": "Fy41qLlo57Na"
      },
      "outputs": [],
      "source": [
        "!pip install stop_words\n",
        "import stop_words\n",
        "# Usamos stop words del español\n",
        "stop_words = stop_words.get_stop_words('es')"
      ]
    },
    {
      "cell_type": "code",
      "execution_count": null,
      "metadata": {
        "id": "yoTBwJzEcmMx"
      },
      "outputs": [],
      "source": [
        "# Instanciamos un CountVectorizer con una tupla indicando el rango de los n-gramas a considerar\n",
        "vectorizer = CountVectorizer(ngram_range=(2,3), min_df=10, stop_words=stop_words)\n",
        "\n",
        "# Usamos .fit_transform() para ajustar el CV y transformar los datos\n",
        "X = vectorizer.fit_transform(textos)"
      ]
    },
    {
      "cell_type": "code",
      "execution_count": null,
      "metadata": {
        "colab": {
          "base_uri": "https://localhost:8080/",
          "height": 281
        },
        "id": "-DW9gWIBIy99",
        "outputId": "d0236f81-5be4-4e09-8082-8ac8866a9946"
      },
      "outputs": [
        {
          "data": {
            "image/png": "[encoded data removed]",
            "text/plain": [
              "<Figure size 432x288 with 1 Axes>"
            ]
          },
          "metadata": {
            "needs_background": "light"
          },
          "output_type": "display_data"
        }
      ],
      "source": [
        "import matplotlib.pyplot as plt\n",
        "pd.DataFrame(X.sum(axis=0).T,\n",
        "            index=vectorizer.get_feature_names_out(),\n",
        "            columns=['freq']).sort_values(by='freq',\n",
        "                                          ascending=False)[:20].plot(kind='barh',title='N Gramas');"
      ]
    },
    {
      "cell_type": "markdown",
      "metadata": {
        "id": "8rrAXKB757OU"
      },
      "source": [
        "## Stemming"
      ]
    },
    {
      "cell_type": "code",
      "execution_count": null,
      "metadata": {
        "id": "z_sH6aTC57OW"
      },
      "outputs": [],
      "source": [
        "# Instanciamos SnowballStemmer() de NLTK en español\n",
        "from nltk.stem import SnowballStemmer\n",
        "stemmer = SnowballStemmer('spanish')"
      ]
    },
    {
      "cell_type": "code",
      "execution_count": null,
      "metadata": {
        "colab": {
          "base_uri": "https://localhost:8080/"
        },
        "id": "dQl_KZ1G57Og",
        "outputId": "1047eb01-98c0-4048-d0c1-e3adf9447f2b"
      },
      "outputs": [
        {
          "data": {
            "text/plain": [
              "['mir', 'mir', 'cod', 'hac', 'hach']"
            ]
          },
          "execution_count": 30,
          "metadata": {},
          "output_type": "execute_result"
        }
      ],
      "source": [
        "# Aplicamos el stemming para cada palabra pasando el string al metodo .stem()\n",
        "ejemplo = 'mirar miraré codear hacer hachas'\n",
        "[stemmer.stem(i) for i in nltk.word_tokenize(ejemplo)]"
      ]
    },
    {
      "cell_type": "markdown",
      "metadata": {
        "id": "aGWbyIf_Z0dW"
      },
      "source": [
        "¿Qué ventajas y desventajas piensan que conlleva el uso de *stemming*?"
      ]
    },
    {
      "cell_type": "markdown",
      "metadata": {
        "id": "D0Rs6ABnxUcU"
      },
      "source": [
        "# SpaCy\n",
        "\n",
        "Mientras NLTK se centra en técnicas más bien tradicionales, [spaCy](https://spacy.io/) ofrece una API muy cómoda que integra modelos de aprendizaje automático que resuelven tareas típicas de lingüística computacional.\n"
      ]
    },
    {
      "cell_type": "code",
      "execution_count": null,
      "metadata": {
        "id": "O0A1YNxlHq4O"
      },
      "outputs": [],
      "source": [
        "%%capture\n",
        "!python -m spacy download es_core_news_md\n",
        "import numpy as np\n",
        "import spacy\n",
        "from spacy import displacy"
      ]
    },
    {
      "cell_type": "code",
      "execution_count": null,
      "metadata": {
        "id": "8w3z8ZugxUcV"
      },
      "outputs": [],
      "source": [
        "# Inicializamos Spacy con modelos en español\n",
        "nlp = spacy.load('es_core_news_md')"
      ]
    },
    {
      "cell_type": "code",
      "execution_count": null,
      "metadata": {
        "id": "QF_uKXtf0enc"
      },
      "outputs": [],
      "source": [
        "ejemplo = 'El Doctor afirmó que actuando de maneras probabilísticas el cerebro aprende conceptos discretos. ¡Qué fenómeno misterioso!'"
      ]
    },
    {
      "cell_type": "code",
      "execution_count": null,
      "metadata": {
        "colab": {
          "base_uri": "https://localhost:8080/"
        },
        "id": "KsuwNwjVxUcd",
        "outputId": "9323c1e0-b80c-4a42-a5d8-c72a9eec9e1d"
      },
      "outputs": [
        {
          "data": {
            "text/plain": [
              "spacy.tokens.doc.Doc"
            ]
          },
          "execution_count": 128,
          "metadata": {},
          "output_type": "execute_result"
        }
      ],
      "source": [
        "# Instanciamos un Doc de spacy con nuestro texto\n",
        "doc = nlp(ejemplo)\n",
        "type(doc)"
      ]
    },
    {
      "cell_type": "code",
      "execution_count": null,
      "metadata": {
        "colab": {
          "base_uri": "https://localhost:8080/"
        },
        "id": "Hg8kunNYxUcy",
        "outputId": "5699ed70-b6b4-4d69-9e06-9ea36cab3cb3"
      },
      "outputs": [
        {
          "name": "stdout",
          "output_type": "stream",
          "text": [
            "El\n",
            "Doctor\n",
            "afirmó\n",
            "que\n",
            "actuando\n",
            "de\n",
            "maneras\n",
            "probabilísticas\n",
            "el\n",
            "cerebro\n",
            "aprende\n",
            "conceptos\n",
            "discretos\n",
            ".\n",
            "¡\n",
            "Qué\n",
            "fenómeno\n",
            "misterioso\n",
            "!\n"
          ]
        }
      ],
      "source": [
        "for word in doc:\n",
        "    print(word.text)"
      ]
    },
    {
      "cell_type": "code",
      "execution_count": null,
      "metadata": {
        "colab": {
          "base_uri": "https://localhost:8080/"
        },
        "id": "2QZNMBF_xUci",
        "outputId": "087edc8d-7b50-4697-e5cb-c552aa5ddf7e"
      },
      "outputs": [
        {
          "data": {
            "text/plain": [
              "El Doctor afirmó que actuando de maneras probabilísticas el cerebro aprende conceptos discretos. ¡Qué fenómeno misterioso!"
            ]
          },
          "execution_count": 36,
          "metadata": {},
          "output_type": "execute_result"
        }
      ],
      "source": [
        "doc"
      ]
    },
    {
      "cell_type": "markdown",
      "metadata": {
        "id": "k70BkVqxxUd3"
      },
      "source": [
        "## Lemmatización\n",
        "\n",
        "El *stemming* vemos que es un enfoque bastante bruto para normalizar, desechando parte de la información de la palabra. Podemos tener un problema de polisemia, con una raíz refiriendo a palabras muy distintas. La solución a esto es la **lematización**, que busca llevar a una palabra a su forma canónica o esencial."
      ]
    },
    {
      "cell_type": "code",
      "execution_count": null,
      "metadata": {
        "colab": {
          "base_uri": "https://localhost:8080/"
        },
        "id": "nOl_sc8VxUd4",
        "outputId": "6ad5b9df-219b-4a54-fba6-543baaae5562"
      },
      "outputs": [
        {
          "name": "stdout",
          "output_type": "stream",
          "text": [
            "el\n",
            "Doctor\n",
            "afirmar\n",
            "que\n",
            "actuar\n",
            "de\n",
            "manera\n",
            "probabilística\n",
            "el\n",
            "cerebro\n",
            "aprender\n",
            "concepto\n",
            "discreto\n",
            ".\n",
            "¡\n",
            "qué\n",
            "fenómeno\n",
            "misterioso\n",
            "!\n"
          ]
        }
      ],
      "source": [
        "for word in doc:\n",
        "    print(word.lemma_)"
      ]
    },
    {
      "cell_type": "markdown",
      "metadata": {
        "id": "Q-7wpmQBOePm"
      },
      "source": [
        "## Limitaciones de la Bolsa de Palabras\n",
        "\n",
        "Utilizando las técnicas que vimos (normalización, n-gramas, stop words) podemos mejorar significativamente el rendimiento de algoritmos de Aprendizaje Automático que se basan en bolsa de palabras.\n",
        "\n",
        "Sin embargo, si entrenamos un clasificador usando esta matriz, lo que hará es encontrar relaciones estadísticas entre la ocurrencia de cierto token con su categoría (en el caso supervisado). ¿Qué problemas se te puede que puede tener?\n",
        "\n",
        "- Contexto\n",
        "- Orden\n",
        "- Dimensionalidad (variaciones en las palabras, n gramas)\n",
        "\n",
        "\n",
        "En las próximas clases veremos cómo las redes neuronales abordan estos obstáculos."
      ]
    },
    {
      "cell_type": "markdown",
      "metadata": {
        "id": "0ML6niFYOfer"
      },
      "source": [
        "# Tareas de NLP\n",
        "\n",
        "SpaCy integra en su API de una manera elegante atributos y métodos generados por modelos de Aprendizaje Automático."
      ]
    },
    {
      "cell_type": "markdown",
      "metadata": {
        "id": "xMeVpNzTxUc4"
      },
      "source": [
        "## Segmentación de oraciones"
      ]
    },
    {
      "cell_type": "code",
      "execution_count": null,
      "metadata": {
        "colab": {
          "base_uri": "https://localhost:8080/"
        },
        "id": "eYasvkfvxUc7",
        "outputId": "d21e870a-1ecc-41fc-97c2-db5b0ffdd3fb"
      },
      "outputs": [
        {
          "data": {
            "text/plain": [
              "[El Doctor afirmó que actuando de maneras probabilísticas el cerebro aprende conceptos discretos.,\n",
              " ¡Qué fenómeno misterioso!]"
            ]
          },
          "execution_count": 38,
          "metadata": {},
          "output_type": "execute_result"
        }
      ],
      "source": [
        "list(doc.sents)"
      ]
    },
    {
      "cell_type": "markdown",
      "metadata": {
        "id": "lyWeO8cNxUdD"
      },
      "source": [
        "## Part-Of-Speech Tags\n",
        "\n",
        "Podemos estimar la función gramatical de cada palabra, accediendo directamente al atributo `.pos_` de cada token:\n"
      ]
    },
    {
      "cell_type": "code",
      "execution_count": null,
      "metadata": {
        "colab": {
          "base_uri": "https://localhost:8080/"
        },
        "id": "dMQkMahvxUdF",
        "outputId": "b74120c5-c23f-44b8-9540-15c0b161aa8d"
      },
      "outputs": [
        {
          "name": "stdout",
          "output_type": "stream",
          "text": [
            "El DET\n",
            "Doctor PROPN\n",
            "afirmó VERB\n",
            "que SCONJ\n",
            "actuando VERB\n",
            "de ADP\n",
            "maneras NOUN\n",
            "probabilísticas ADJ\n",
            "el DET\n",
            "cerebro NOUN\n",
            "aprende VERB\n",
            "conceptos NOUN\n",
            "discretos ADJ\n",
            ". PUNCT\n",
            "¡ PUNCT\n",
            "Qué DET\n",
            "fenómeno NOUN\n",
            "misterioso ADJ\n",
            "! PUNCT\n"
          ]
        }
      ],
      "source": [
        "for word in doc:\n",
        "    print(word.text, word.pos_)"
      ]
    },
    {
      "cell_type": "markdown",
      "metadata": {
        "id": "iU-3XumnxUdQ"
      },
      "source": [
        "## Dependency parsing\n",
        "\n",
        "¡También contamos con información sobre la co-referencia o dependencia sintáctica entre términos!"
      ]
    },
    {
      "cell_type": "code",
      "execution_count": null,
      "metadata": {
        "colab": {
          "base_uri": "https://localhost:8080/",
          "height": 615
        },
        "id": "6n5rWDQSxUdV",
        "outputId": "8d742406-eaf8-488b-8d9c-4a01ce8bf928"
      },
      "outputs": [
        {
          "data": {
            "text/html": [
              "<span class=\"tex2jax_ignore\"><svg xmlns=\"http://www.w3.org/2000/svg\" xmlns:xlink=\"http://www.w3.org/1999/xlink\" xml:lang=\"es\" id=\"2d4ec657033b4342b578efa35d905412-0\" class=\"displacy\" width=\"2850\" height=\"574.5\" direction=\"ltr\" style=\"max-width: none; height: 574.5px; color: #000000; background: #ffffff; font-family: Arial; direction: ltr\">\n",
              "<text class=\"displacy-token\" fill=\"currentColor\" text-anchor=\"middle\" y=\"484.5\">\n",
              "    <tspan class=\"displacy-word\" fill=\"currentColor\" x=\"50\">El</tspan>\n",
              "    <tspan class=\"displacy-tag\" dy=\"2em\" fill=\"currentColor\" x=\"50\">DET</tspan>\n",
              "</text>\n",
              "\n",
              "<text class=\"displacy-token\" fill=\"currentColor\" text-anchor=\"middle\" y=\"484.5\">\n",
              "    <tspan class=\"displacy-word\" fill=\"currentColor\" x=\"225\">Doctor</tspan>\n",
              "    <tspan class=\"displacy-tag\" dy=\"2em\" fill=\"currentColor\" x=\"225\">PROPN</tspan>\n",
              "</text>\n",
              "\n",
              "<text class=\"displacy-token\" fill=\"currentColor\" text-anchor=\"middle\" y=\"484.5\">\n",
              "    <tspan class=\"displacy-word\" fill=\"currentColor\" x=\"400\">afirmó</tspan>\n",
              "    <tspan class=\"displacy-tag\" dy=\"2em\" fill=\"currentColor\" x=\"400\">VERB</tspan>\n",
              "</text>\n",
              "\n",
              "<text class=\"displacy-token\" fill=\"currentColor\" text-anchor=\"middle\" y=\"484.5\">\n",
              "    <tspan class=\"displacy-word\" fill=\"currentColor\" x=\"575\">que</tspan>\n",
              "    <tspan class=\"displacy-tag\" dy=\"2em\" fill=\"currentColor\" x=\"575\">SCONJ</tspan>\n",
              "</text>\n",
              "\n",
              "<text class=\"displacy-token\" fill=\"currentColor\" text-anchor=\"middle\" y=\"484.5\">\n",
              "    <tspan class=\"displacy-word\" fill=\"currentColor\" x=\"750\">actuando</tspan>\n",
              "    <tspan class=\"displacy-tag\" dy=\"2em\" fill=\"currentColor\" x=\"750\">VERB</tspan>\n",
              "</text>\n",
              "\n",
              "<text class=\"displacy-token\" fill=\"currentColor\" text-anchor=\"middle\" y=\"484.5\">\n",
              "    <tspan class=\"displacy-word\" fill=\"currentColor\" x=\"925\">de</tspan>\n",
              "    <tspan class=\"displacy-tag\" dy=\"2em\" fill=\"currentColor\" x=\"925\">ADP</tspan>\n",
              "</text>\n",
              "\n",
              "<text class=\"displacy-token\" fill=\"currentColor\" text-anchor=\"middle\" y=\"484.5\">\n",
              "    <tspan class=\"displacy-word\" fill=\"currentColor\" x=\"1100\">maneras</tspan>\n",
              "    <tspan class=\"displacy-tag\" dy=\"2em\" fill=\"currentColor\" x=\"1100\">NOUN</tspan>\n",
              "</text>\n",
              "\n",
              "<text class=\"displacy-token\" fill=\"currentColor\" text-anchor=\"middle\" y=\"484.5\">\n",
              "    <tspan class=\"displacy-word\" fill=\"currentColor\" x=\"1275\">probabilísticas</tspan>\n",
              "    <tspan class=\"displacy-tag\" dy=\"2em\" fill=\"currentColor\" x=\"1275\">ADJ</tspan>\n",
              "</text>\n",
              "\n",
              "<text class=\"displacy-token\" fill=\"currentColor\" text-anchor=\"middle\" y=\"484.5\">\n",
              "    <tspan class=\"displacy-word\" fill=\"currentColor\" x=\"1450\">el</tspan>\n",
              "    <tspan class=\"displacy-tag\" dy=\"2em\" fill=\"currentColor\" x=\"1450\">DET</tspan>\n",
              "</text>\n",
              "\n",
              "<text class=\"displacy-token\" fill=\"currentColor\" text-anchor=\"middle\" y=\"484.5\">\n",
              "    <tspan class=\"displacy-word\" fill=\"currentColor\" x=\"1625\">cerebro</tspan>\n",
              "    <tspan class=\"displacy-tag\" dy=\"2em\" fill=\"currentColor\" x=\"1625\">NOUN</tspan>\n",
              "</text>\n",
              "\n",
              "<text class=\"displacy-token\" fill=\"currentColor\" text-anchor=\"middle\" y=\"484.5\">\n",
              "    <tspan class=\"displacy-word\" fill=\"currentColor\" x=\"1800\">aprende</tspan>\n",
              "    <tspan class=\"displacy-tag\" dy=\"2em\" fill=\"currentColor\" x=\"1800\">VERB</tspan>\n",
              "</text>\n",
              "\n",
              "<text class=\"displacy-token\" fill=\"currentColor\" text-anchor=\"middle\" y=\"484.5\">\n",
              "    <tspan class=\"displacy-word\" fill=\"currentColor\" x=\"1975\">conceptos</tspan>\n",
              "    <tspan class=\"displacy-tag\" dy=\"2em\" fill=\"currentColor\" x=\"1975\">NOUN</tspan>\n",
              "</text>\n",
              "\n",
              "<text class=\"displacy-token\" fill=\"currentColor\" text-anchor=\"middle\" y=\"484.5\">\n",
              "    <tspan class=\"displacy-word\" fill=\"currentColor\" x=\"2150\">discretos. ¡</tspan>\n",
              "    <tspan class=\"displacy-tag\" dy=\"2em\" fill=\"currentColor\" x=\"2150\">ADJ</tspan>\n",
              "</text>\n",
              "\n",
              "<text class=\"displacy-token\" fill=\"currentColor\" text-anchor=\"middle\" y=\"484.5\">\n",
              "    <tspan class=\"displacy-word\" fill=\"currentColor\" x=\"2325\">Qué</tspan>\n",
              "    <tspan class=\"displacy-tag\" dy=\"2em\" fill=\"currentColor\" x=\"2325\">DET</tspan>\n",
              "</text>\n",
              "\n",
              "<text class=\"displacy-token\" fill=\"currentColor\" text-anchor=\"middle\" y=\"484.5\">\n",
              "    <tspan class=\"displacy-word\" fill=\"currentColor\" x=\"2500\">fenómeno</tspan>\n",
              "    <tspan class=\"displacy-tag\" dy=\"2em\" fill=\"currentColor\" x=\"2500\">NOUN</tspan>\n",
              "</text>\n",
              "\n",
              "<text class=\"displacy-token\" fill=\"currentColor\" text-anchor=\"middle\" y=\"484.5\">\n",
              "    <tspan class=\"displacy-word\" fill=\"currentColor\" x=\"2675\">misterioso!</tspan>\n",
              "    <tspan class=\"displacy-tag\" dy=\"2em\" fill=\"currentColor\" x=\"2675\">ADJ</tspan>\n",
              "</text>\n",
              "\n",
              "<g class=\"displacy-arrow\">\n",
              "    <path class=\"displacy-arc\" id=\"arrow-2d4ec657033b4342b578efa35d905412-0-0\" stroke-width=\"2px\" d=\"M70,439.5 C70,352.0 205.0,352.0 205.0,439.5\" fill=\"none\" stroke=\"currentColor\"/>\n",
              "    <text dy=\"1.25em\" style=\"font-size: 0.8em; letter-spacing: 1px\">\n",
              "        <textPath xlink:href=\"#arrow-2d4ec657033b4342b578efa35d905412-0-0\" class=\"displacy-label\" startOffset=\"50%\" side=\"left\" fill=\"currentColor\" text-anchor=\"middle\">det</textPath>\n",
              "    </text>\n",
              "    <path class=\"displacy-arrowhead\" d=\"M70,441.5 L62,429.5 78,429.5\" fill=\"currentColor\"/>\n",
              "</g>\n",
              "\n",
              "<g class=\"displacy-arrow\">\n",
              "    <path class=\"displacy-arc\" id=\"arrow-2d4ec657033b4342b578efa35d905412-0-1\" stroke-width=\"2px\" d=\"M245,439.5 C245,352.0 380.0,352.0 380.0,439.5\" fill=\"none\" stroke=\"currentColor\"/>\n",
              "    <text dy=\"1.25em\" style=\"font-size: 0.8em; letter-spacing: 1px\">\n",
              "        <textPath xlink:href=\"#arrow-2d4ec657033b4342b578efa35d905412-0-1\" class=\"displacy-label\" startOffset=\"50%\" side=\"left\" fill=\"currentColor\" text-anchor=\"middle\">nsubj</textPath>\n",
              "    </text>\n",
              "    <path class=\"displacy-arrowhead\" d=\"M245,441.5 L237,429.5 253,429.5\" fill=\"currentColor\"/>\n",
              "</g>\n",
              "\n",
              "<g class=\"displacy-arrow\">\n",
              "    <path class=\"displacy-arc\" id=\"arrow-2d4ec657033b4342b578efa35d905412-0-2\" stroke-width=\"2px\" d=\"M595,439.5 C595,89.5 1795.0,89.5 1795.0,439.5\" fill=\"none\" stroke=\"currentColor\"/>\n",
              "    <text dy=\"1.25em\" style=\"font-size: 0.8em; letter-spacing: 1px\">\n",
              "        <textPath xlink:href=\"#arrow-2d4ec657033b4342b578efa35d905412-0-2\" class=\"displacy-label\" startOffset=\"50%\" side=\"left\" fill=\"currentColor\" text-anchor=\"middle\">mark</textPath>\n",
              "    </text>\n",
              "    <path class=\"displacy-arrowhead\" d=\"M595,441.5 L587,429.5 603,429.5\" fill=\"currentColor\"/>\n",
              "</g>\n",
              "\n",
              "<g class=\"displacy-arrow\">\n",
              "    <path class=\"displacy-arc\" id=\"arrow-2d4ec657033b4342b578efa35d905412-0-3\" stroke-width=\"2px\" d=\"M770,439.5 C770,177.0 1790.0,177.0 1790.0,439.5\" fill=\"none\" stroke=\"currentColor\"/>\n",
              "    <text dy=\"1.25em\" style=\"font-size: 0.8em; letter-spacing: 1px\">\n",
              "        <textPath xlink:href=\"#arrow-2d4ec657033b4342b578efa35d905412-0-3\" class=\"displacy-label\" startOffset=\"50%\" side=\"left\" fill=\"currentColor\" text-anchor=\"middle\">advcl</textPath>\n",
              "    </text>\n",
              "    <path class=\"displacy-arrowhead\" d=\"M770,441.5 L762,429.5 778,429.5\" fill=\"currentColor\"/>\n",
              "</g>\n",
              "\n",
              "<g class=\"displacy-arrow\">\n",
              "    <path class=\"displacy-arc\" id=\"arrow-2d4ec657033b4342b578efa35d905412-0-4\" stroke-width=\"2px\" d=\"M945,439.5 C945,352.0 1080.0,352.0 1080.0,439.5\" fill=\"none\" stroke=\"currentColor\"/>\n",
              "    <text dy=\"1.25em\" style=\"font-size: 0.8em; letter-spacing: 1px\">\n",
              "        <textPath xlink:href=\"#arrow-2d4ec657033b4342b578efa35d905412-0-4\" class=\"displacy-label\" startOffset=\"50%\" side=\"left\" fill=\"currentColor\" text-anchor=\"middle\">case</textPath>\n",
              "    </text>\n",
              "    <path class=\"displacy-arrowhead\" d=\"M945,441.5 L937,429.5 953,429.5\" fill=\"currentColor\"/>\n",
              "</g>\n",
              "\n",
              "<g class=\"displacy-arrow\">\n",
              "    <path class=\"displacy-arc\" id=\"arrow-2d4ec657033b4342b578efa35d905412-0-5\" stroke-width=\"2px\" d=\"M770,439.5 C770,264.5 1085.0,264.5 1085.0,439.5\" fill=\"none\" stroke=\"currentColor\"/>\n",
              "    <text dy=\"1.25em\" style=\"font-size: 0.8em; letter-spacing: 1px\">\n",
              "        <textPath xlink:href=\"#arrow-2d4ec657033b4342b578efa35d905412-0-5\" class=\"displacy-label\" startOffset=\"50%\" side=\"left\" fill=\"currentColor\" text-anchor=\"middle\">obj</textPath>\n",
              "    </text>\n",
              "    <path class=\"displacy-arrowhead\" d=\"M1085.0,441.5 L1093.0,429.5 1077.0,429.5\" fill=\"currentColor\"/>\n",
              "</g>\n",
              "\n",
              "<g class=\"displacy-arrow\">\n",
              "    <path class=\"displacy-arc\" id=\"arrow-2d4ec657033b4342b578efa35d905412-0-6\" stroke-width=\"2px\" d=\"M1120,439.5 C1120,352.0 1255.0,352.0 1255.0,439.5\" fill=\"none\" stroke=\"currentColor\"/>\n",
              "    <text dy=\"1.25em\" style=\"font-size: 0.8em; letter-spacing: 1px\">\n",
              "        <textPath xlink:href=\"#arrow-2d4ec657033b4342b578efa35d905412-0-6\" class=\"displacy-label\" startOffset=\"50%\" side=\"left\" fill=\"currentColor\" text-anchor=\"middle\">amod</textPath>\n",
              "    </text>\n",
              "    <path class=\"displacy-arrowhead\" d=\"M1255.0,441.5 L1263.0,429.5 1247.0,429.5\" fill=\"currentColor\"/>\n",
              "</g>\n",
              "\n",
              "<g class=\"displacy-arrow\">\n",
              "    <path class=\"displacy-arc\" id=\"arrow-2d4ec657033b4342b578efa35d905412-0-7\" stroke-width=\"2px\" d=\"M1470,439.5 C1470,352.0 1605.0,352.0 1605.0,439.5\" fill=\"none\" stroke=\"currentColor\"/>\n",
              "    <text dy=\"1.25em\" style=\"font-size: 0.8em; letter-spacing: 1px\">\n",
              "        <textPath xlink:href=\"#arrow-2d4ec657033b4342b578efa35d905412-0-7\" class=\"displacy-label\" startOffset=\"50%\" side=\"left\" fill=\"currentColor\" text-anchor=\"middle\">det</textPath>\n",
              "    </text>\n",
              "    <path class=\"displacy-arrowhead\" d=\"M1470,441.5 L1462,429.5 1478,429.5\" fill=\"currentColor\"/>\n",
              "</g>\n",
              "\n",
              "<g class=\"displacy-arrow\">\n",
              "    <path class=\"displacy-arc\" id=\"arrow-2d4ec657033b4342b578efa35d905412-0-8\" stroke-width=\"2px\" d=\"M1645,439.5 C1645,352.0 1780.0,352.0 1780.0,439.5\" fill=\"none\" stroke=\"currentColor\"/>\n",
              "    <text dy=\"1.25em\" style=\"font-size: 0.8em; letter-spacing: 1px\">\n",
              "        <textPath xlink:href=\"#arrow-2d4ec657033b4342b578efa35d905412-0-8\" class=\"displacy-label\" startOffset=\"50%\" side=\"left\" fill=\"currentColor\" text-anchor=\"middle\">nsubj</textPath>\n",
              "    </text>\n",
              "    <path class=\"displacy-arrowhead\" d=\"M1645,441.5 L1637,429.5 1653,429.5\" fill=\"currentColor\"/>\n",
              "</g>\n",
              "\n",
              "<g class=\"displacy-arrow\">\n",
              "    <path class=\"displacy-arc\" id=\"arrow-2d4ec657033b4342b578efa35d905412-0-9\" stroke-width=\"2px\" d=\"M420,439.5 C420,2.0 1800.0,2.0 1800.0,439.5\" fill=\"none\" stroke=\"currentColor\"/>\n",
              "    <text dy=\"1.25em\" style=\"font-size: 0.8em; letter-spacing: 1px\">\n",
              "        <textPath xlink:href=\"#arrow-2d4ec657033b4342b578efa35d905412-0-9\" class=\"displacy-label\" startOffset=\"50%\" side=\"left\" fill=\"currentColor\" text-anchor=\"middle\">ccomp</textPath>\n",
              "    </text>\n",
              "    <path class=\"displacy-arrowhead\" d=\"M1800.0,441.5 L1808.0,429.5 1792.0,429.5\" fill=\"currentColor\"/>\n",
              "</g>\n",
              "\n",
              "<g class=\"displacy-arrow\">\n",
              "    <path class=\"displacy-arc\" id=\"arrow-2d4ec657033b4342b578efa35d905412-0-10\" stroke-width=\"2px\" d=\"M1820,439.5 C1820,352.0 1955.0,352.0 1955.0,439.5\" fill=\"none\" stroke=\"currentColor\"/>\n",
              "    <text dy=\"1.25em\" style=\"font-size: 0.8em; letter-spacing: 1px\">\n",
              "        <textPath xlink:href=\"#arrow-2d4ec657033b4342b578efa35d905412-0-10\" class=\"displacy-label\" startOffset=\"50%\" side=\"left\" fill=\"currentColor\" text-anchor=\"middle\">obj</textPath>\n",
              "    </text>\n",
              "    <path class=\"displacy-arrowhead\" d=\"M1955.0,441.5 L1963.0,429.5 1947.0,429.5\" fill=\"currentColor\"/>\n",
              "</g>\n",
              "\n",
              "<g class=\"displacy-arrow\">\n",
              "    <path class=\"displacy-arc\" id=\"arrow-2d4ec657033b4342b578efa35d905412-0-11\" stroke-width=\"2px\" d=\"M1995,439.5 C1995,352.0 2130.0,352.0 2130.0,439.5\" fill=\"none\" stroke=\"currentColor\"/>\n",
              "    <text dy=\"1.25em\" style=\"font-size: 0.8em; letter-spacing: 1px\">\n",
              "        <textPath xlink:href=\"#arrow-2d4ec657033b4342b578efa35d905412-0-11\" class=\"displacy-label\" startOffset=\"50%\" side=\"left\" fill=\"currentColor\" text-anchor=\"middle\">amod</textPath>\n",
              "    </text>\n",
              "    <path class=\"displacy-arrowhead\" d=\"M2130.0,441.5 L2138.0,429.5 2122.0,429.5\" fill=\"currentColor\"/>\n",
              "</g>\n",
              "\n",
              "<g class=\"displacy-arrow\">\n",
              "    <path class=\"displacy-arc\" id=\"arrow-2d4ec657033b4342b578efa35d905412-0-12\" stroke-width=\"2px\" d=\"M2345,439.5 C2345,352.0 2480.0,352.0 2480.0,439.5\" fill=\"none\" stroke=\"currentColor\"/>\n",
              "    <text dy=\"1.25em\" style=\"font-size: 0.8em; letter-spacing: 1px\">\n",
              "        <textPath xlink:href=\"#arrow-2d4ec657033b4342b578efa35d905412-0-12\" class=\"displacy-label\" startOffset=\"50%\" side=\"left\" fill=\"currentColor\" text-anchor=\"middle\">det</textPath>\n",
              "    </text>\n",
              "    <path class=\"displacy-arrowhead\" d=\"M2345,441.5 L2337,429.5 2353,429.5\" fill=\"currentColor\"/>\n",
              "</g>\n",
              "\n",
              "<g class=\"displacy-arrow\">\n",
              "    <path class=\"displacy-arc\" id=\"arrow-2d4ec657033b4342b578efa35d905412-0-13\" stroke-width=\"2px\" d=\"M2520,439.5 C2520,352.0 2655.0,352.0 2655.0,439.5\" fill=\"none\" stroke=\"currentColor\"/>\n",
              "    <text dy=\"1.25em\" style=\"font-size: 0.8em; letter-spacing: 1px\">\n",
              "        <textPath xlink:href=\"#arrow-2d4ec657033b4342b578efa35d905412-0-13\" class=\"displacy-label\" startOffset=\"50%\" side=\"left\" fill=\"currentColor\" text-anchor=\"middle\">amod</textPath>\n",
              "    </text>\n",
              "    <path class=\"displacy-arrowhead\" d=\"M2655.0,441.5 L2663.0,429.5 2647.0,429.5\" fill=\"currentColor\"/>\n",
              "</g>\n",
              "</svg></span>"
            ],
            "text/plain": [
              "<IPython.core.display.HTML object>"
            ]
          },
          "metadata": {},
          "output_type": "display_data"
        }
      ],
      "source": [
        "displacy.render(doc, style='dep', jupyter=True)"
      ]
    },
    {
      "cell_type": "markdown",
      "metadata": {
        "id": "PhSznS5QxUdg"
      },
      "source": [
        "## Reconocimiento de Entidades\n",
        "\n",
        "Podemos encontrar las personas (más general, \"entes\") que se mencionan en los textos:"
      ]
    },
    {
      "cell_type": "code",
      "execution_count": null,
      "metadata": {
        "colab": {
          "base_uri": "https://localhost:8080/"
        },
        "id": "vWzeZ-DVxUdk",
        "outputId": "9ec19a8e-1bc6-40f2-eed2-67a6dca72c11"
      },
      "outputs": [
        {
          "data": {
            "text/plain": [
              "(El Doctor,)"
            ]
          },
          "execution_count": 41,
          "metadata": {},
          "output_type": "execute_result"
        }
      ],
      "source": [
        "doc.ents"
      ]
    },
    {
      "cell_type": "code",
      "execution_count": null,
      "metadata": {
        "colab": {
          "base_uri": "https://localhost:8080/",
          "height": 52
        },
        "id": "IbrftXE0xUdw",
        "outputId": "3aa367b9-c051-4db3-8593-18780cbc3b70"
      },
      "outputs": [
        {
          "data": {
            "text/html": [
              "<span class=\"tex2jax_ignore\"><div class=\"entities\" style=\"line-height: 2.5; direction: ltr\">\n",
              "<mark class=\"entity\" style=\"background: #ddd; padding: 0.45em 0.6em; margin: 0 0.25em; line-height: 1; border-radius: 0.35em;\">\n",
              "    El Doctor\n",
              "    <span style=\"font-size: 0.8em; font-weight: bold; line-height: 1; border-radius: 0.35em; vertical-align: middle; margin-left: 0.5rem\">MISC</span>\n",
              "</mark>\n",
              " afirmó que actuando de maneras probabilísticas el cerebro aprende conceptos discretos. ¡Qué fenómeno misterioso!</div></span>"
            ],
            "text/plain": [
              "<IPython.core.display.HTML object>"
            ]
          },
          "metadata": {},
          "output_type": "display_data"
        }
      ],
      "source": [
        "displacy.render(doc, style='ent', jupyter=True);"
      ]
    },
    {
      "cell_type": "markdown",
      "metadata": {
        "id": "WURAKPdPxUeC"
      },
      "source": [
        "## Vectores de Palabras\n",
        "\n",
        "Podemos acceder a los vectores con `.vector`. ¡Veremos en detalle este tema en las próximas clases!"
      ]
    },
    {
      "cell_type": "code",
      "execution_count": null,
      "metadata": {
        "id": "UZoIw0m_xUeZ"
      },
      "outputs": [],
      "source": [
        "def cosine_similarity(x, y):\n",
        "    return x @ y / (np.linalg.norm(x) * np.linalg.norm(y))"
      ]
    },
    {
      "cell_type": "code",
      "execution_count": null,
      "metadata": {
        "colab": {
          "base_uri": "https://localhost:8080/"
        },
        "id": "8mcqyIvc-SZl",
        "outputId": "2d86ee91-373f-4411-b3f3-9c588387f0ea"
      },
      "outputs": [
        {
          "data": {
            "text/plain": [
              "El Doctor afirmó que actuando de maneras probabilísticas el cerebro aprende conceptos discretos. ¡Qué fenómeno misterioso!"
            ]
          },
          "execution_count": 63,
          "metadata": {},
          "output_type": "execute_result"
        }
      ],
      "source": [
        "doc"
      ]
    },
    {
      "cell_type": "code",
      "execution_count": null,
      "metadata": {
        "id": "Cfr8bINixUe1"
      },
      "outputs": [],
      "source": [
        "doc2 = nlp(\"La curiosidad por nuevas ideas es lo que impulsa a derivar ecuaciones y descubrir simetrías.\")\n",
        "doc3 = nlp(\"Una pizza de napolitana con ajo, una de muzzarella con jamón, media de chocolate y una cerveza roja.\")"
      ]
    },
    {
      "cell_type": "code",
      "execution_count": null,
      "metadata": {
        "colab": {
          "base_uri": "https://localhost:8080/"
        },
        "id": "Q4FjTaWhLKhS",
        "outputId": "bdb3afbf-e00b-4d89-d864-b36d0940deec"
      },
      "outputs": [
        {
          "data": {
            "text/plain": [
              "0.4817427186959799"
            ]
          },
          "execution_count": 87,
          "metadata": {},
          "output_type": "execute_result"
        }
      ],
      "source": [
        "doc.similarity(doc2)"
      ]
    },
    {
      "cell_type": "code",
      "execution_count": null,
      "metadata": {
        "colab": {
          "base_uri": "https://localhost:8080/"
        },
        "id": "1oPVW-gx9slo",
        "outputId": "9b40c09a-4475-42b4-e57c-5f6d7ece18d5"
      },
      "outputs": [
        {
          "data": {
            "text/plain": [
              "0.3420021954777671"
            ]
          },
          "execution_count": 88,
          "metadata": {},
          "output_type": "execute_result"
        }
      ],
      "source": [
        "doc.similarity(doc3)"
      ]
    },
    {
      "cell_type": "markdown",
      "metadata": {
        "id": "AepTXG_j3zQM"
      },
      "source": [
        "# Referencias:\n",
        "\n",
        "- [Libro Jurafsky](https://web.stanford.edu/~jurafsky/slp3/)\n",
        "- [Curso de HuggingFace](https://huggingface.co/course/chapter1/2?fw=pt)"
      ]
    },
    {
      "cell_type": "markdown",
      "metadata": {
        "id": "Fa4HXNmIq1ZL"
      },
      "source": [
        "\n",
        "![](https://thumbor.forbes.com/thumbor/960x0/https%3A%2F%2Fblogs-images.forbes.com%2Fgilpress%2Ffiles%2F2016%2F03%2FTime-1200x511.jpg)\n",
        "\n"
      ]
    },
    {
      "cell_type": "markdown",
      "metadata": {
        "id": "5EeMD_Eyy6Id"
      },
      "source": [
        "# Caso: Clasificación de textos como Positivo o Negativo o _Sentiment Analysis_\n",
        "\n",
        "Vamos a ver un ejemplo sencillo de clasificación de texto, haciendo un sentiment análisis de frases o positivas o negativas."
      ]
    },
    {
      "cell_type": "code",
      "execution_count": null,
      "metadata": {
        "id": "-SURyyTirZO6"
      },
      "outputs": [],
      "source": [
        "# Importamos\n",
        "\n",
        "import pandas as pd\n",
        "from sklearn.model_selection import train_test_split\n",
        "from sklearn.naive_bayes import MultinomialNB\n",
        "from sklearn.feature_extraction.text import TfidfVectorizer\n",
        "from sklearn.pipeline import make_pipeline\n",
        "from sklearn.metrics import confusion_matrix,accuracy_score\n",
        "import seaborn as sns\n",
        "import matplotlib.pyplot as plt"
      ]
    },
    {
      "cell_type": "code",
      "execution_count": null,
      "metadata": {
        "colab": {
          "base_uri": "https://localhost:8080/",
          "height": 362
        },
        "id": "E56rERUwrZO9",
        "outputId": "169d7284-ec1b-4970-9a16-510f70a58cbd"
      },
      "outputs": [
        {
          "data": {
            "text/html": [
              "\n",
              "  <div id=\"df-ca72d7d6-f9ab-44e6-9bdd-bb393ba99b50\">\n",
              "    <div class=\"colab-df-container\">\n",
              "      <div>\n",
              "<style scoped>\n",
              "    .dataframe tbody tr th:only-of-type {\n",
              "        vertical-align: middle;\n",
              "    }\n",
              "\n",
              "    .dataframe tbody tr th {\n",
              "        vertical-align: top;\n",
              "    }\n",
              "\n",
              "    .dataframe thead th {\n",
              "        text-align: right;\n",
              "    }\n",
              "</style>\n",
              "<table border=\"1\" class=\"dataframe\">\n",
              "  <thead>\n",
              "    <tr style=\"text-align: right;\">\n",
              "      <th></th>\n",
              "      <th>Sentiment</th>\n",
              "      <th>Phrase</th>\n",
              "    </tr>\n",
              "  </thead>\n",
              "  <tbody>\n",
              "    <tr>\n",
              "      <th>976</th>\n",
              "      <td>NEGATIVE</td>\n",
              "      <td>Es poco accesible al momento de atender nuestr...</td>\n",
              "    </tr>\n",
              "    <tr>\n",
              "      <th>1656</th>\n",
              "      <td>POSITIVE</td>\n",
              "      <td>buen material hace dianmica la clase</td>\n",
              "    </tr>\n",
              "    <tr>\n",
              "      <th>908</th>\n",
              "      <td>NEGATIVE</td>\n",
              "      <td>Las clases son agotadoras, son demasiadas cosa...</td>\n",
              "    </tr>\n",
              "    <tr>\n",
              "      <th>400</th>\n",
              "      <td>POSITIVE</td>\n",
              "      <td>Profesor accesible y inspira confianza para co...</td>\n",
              "    </tr>\n",
              "    <tr>\n",
              "      <th>264</th>\n",
              "      <td>NEGATIVE</td>\n",
              "      <td>No logra transmitir su conocimiento de una man...</td>\n",
              "    </tr>\n",
              "    <tr>\n",
              "      <th>203</th>\n",
              "      <td>POSITIVE</td>\n",
              "      <td>Excelente maestro. Muy interactivas sus clases...</td>\n",
              "    </tr>\n",
              "    <tr>\n",
              "      <th>1330</th>\n",
              "      <td>POSITIVE</td>\n",
              "      <td>son buenas sus asesorias como apoyo para los a...</td>\n",
              "    </tr>\n",
              "    <tr>\n",
              "      <th>770</th>\n",
              "      <td>POSITIVE</td>\n",
              "      <td>CONSIDERO QUE LA MAESTRA REALIZA MUY BIEN SU T...</td>\n",
              "    </tr>\n",
              "    <tr>\n",
              "      <th>1641</th>\n",
              "      <td>POSITIVE</td>\n",
              "      <td>Buen material de trabajo logra la atencion del...</td>\n",
              "    </tr>\n",
              "    <tr>\n",
              "      <th>228</th>\n",
              "      <td>POSITIVE</td>\n",
              "      <td>buen profesor ya que relaciona la teória con l...</td>\n",
              "    </tr>\n",
              "  </tbody>\n",
              "</table>\n",
              "</div>\n",
              "      <button class=\"colab-df-convert\" onclick=\"convertToInteractive('df-ca72d7d6-f9ab-44e6-9bdd-bb393ba99b50')\"\n",
              "              title=\"Convert this dataframe to an interactive table.\"\n",
              "              style=\"display:none;\">\n",
              "        \n",
              "  <svg xmlns=\"http://www.w3.org/2000/svg\" height=\"24px\"viewBox=\"0 0 24 24\"\n",
              "       width=\"24px\">\n",
              "    <path d=\"M0 0h24v24H0V0z\" fill=\"none\"/>\n",
              "    <path d=\"M18.56 5.44l.94 2.06.94-2.06 2.06-.94-2.06-.94-.94-2.06-.94 2.06-2.06.94zm-11 1L8.5 8.5l.94-2.06 2.06-.94-2.06-.94L8.5 2.5l-.94 2.06-2.06.94zm10 10l.94 2.06.94-2.06 2.06-.94-2.06-.94-.94-2.06-.94 2.06-2.06.94z\"/><path d=\"M17.41 7.96l-1.37-1.37c-.4-.4-.92-.59-1.43-.59-.52 0-1.04.2-1.43.59L10.3 9.45l-7.72 7.72c-.78.78-.78 2.05 0 2.83L4 21.41c.39.39.9.59 1.41.59.51 0 1.02-.2 1.41-.59l7.78-7.78 2.81-2.81c.8-.78.8-2.07 0-2.86zM5.41 20L4 18.59l7.72-7.72 1.47 1.35L5.41 20z\"/>\n",
              "  </svg>\n",
              "      </button>\n",
              "      \n",
              "  <style>\n",
              "    .colab-df-container {\n",
              "      display:flex;\n",
              "      flex-wrap:wrap;\n",
              "      gap: 12px;\n",
              "    }\n",
              "\n",
              "    .colab-df-convert {\n",
              "      background-color: #E8F0FE;\n",
              "      border: none;\n",
              "      border-radius: 50%;\n",
              "      cursor: pointer;\n",
              "      display: none;\n",
              "      fill: #1967D2;\n",
              "      height: 32px;\n",
              "      padding: 0 0 0 0;\n",
              "      width: 32px;\n",
              "    }\n",
              "\n",
              "    .colab-df-convert:hover {\n",
              "      background-color: #E2EBFA;\n",
              "      box-shadow: 0px 1px 2px rgba(60, 64, 67, 0.3), 0px 1px 3px 1px rgba(60, 64, 67, 0.15);\n",
              "      fill: #174EA6;\n",
              "    }\n",
              "\n",
              "    [theme=dark] .colab-df-convert {\n",
              "      background-color: #3B4455;\n",
              "      fill: #D2E3FC;\n",
              "    }\n",
              "\n",
              "    [theme=dark] .colab-df-convert:hover {\n",
              "      background-color: #434B5C;\n",
              "      box-shadow: 0px 1px 3px 1px rgba(0, 0, 0, 0.15);\n",
              "      filter: drop-shadow(0px 1px 2px rgba(0, 0, 0, 0.3));\n",
              "      fill: #FFFFFF;\n",
              "    }\n",
              "  </style>\n",
              "\n",
              "      <script>\n",
              "        const buttonEl =\n",
              "          document.querySelector('#df-ca72d7d6-f9ab-44e6-9bdd-bb393ba99b50 button.colab-df-convert');\n",
              "        buttonEl.style.display =\n",
              "          google.colab.kernel.accessAllowed ? 'block' : 'none';\n",
              "\n",
              "        async function convertToInteractive(key) {\n",
              "          const element = document.querySelector('#df-ca72d7d6-f9ab-44e6-9bdd-bb393ba99b50');\n",
              "          const dataTable =\n",
              "            await google.colab.kernel.invokeFunction('convertToInteractive',\n",
              "                                                     [key], {});\n",
              "          if (!dataTable) return;\n",
              "\n",
              "          const docLinkHtml = 'Like what you see? Visit the ' +\n",
              "            '<a target=\"_blank\" href=https://colab.research.google.com/notebooks/data_table.ipynb>data table notebook</a>'\n",
              "            + ' to learn more about interactive tables.';\n",
              "          element.innerHTML = '';\n",
              "          dataTable['output_type'] = 'display_data';\n",
              "          await google.colab.output.renderOutput(dataTable, element);\n",
              "          const docLink = document.createElement('div');\n",
              "          docLink.innerHTML = docLinkHtml;\n",
              "          element.appendChild(docLink);\n",
              "        }\n",
              "      </script>\n",
              "    </div>\n",
              "  </div>\n",
              "  "
            ],
            "text/plain": [
              "     Sentiment                                             Phrase\n",
              "976   NEGATIVE  Es poco accesible al momento de atender nuestr...\n",
              "1656  POSITIVE               buen material hace dianmica la clase\n",
              "908   NEGATIVE  Las clases son agotadoras, son demasiadas cosa...\n",
              "400   POSITIVE  Profesor accesible y inspira confianza para co...\n",
              "264   NEGATIVE  No logra transmitir su conocimiento de una man...\n",
              "203   POSITIVE  Excelente maestro. Muy interactivas sus clases...\n",
              "1330  POSITIVE  son buenas sus asesorias como apoyo para los a...\n",
              "770   POSITIVE  CONSIDERO QUE LA MAESTRA REALIZA MUY BIEN SU T...\n",
              "1641  POSITIVE  Buen material de trabajo logra la atencion del...\n",
              "228   POSITIVE  buen profesor ya que relaciona la teória con l..."
            ]
          },
          "execution_count": 140,
          "metadata": {},
          "output_type": "execute_result"
        }
      ],
      "source": [
        "df = pd.read_csv('https://datasets-humai.s3.amazonaws.com/datasets/sentiment.csv')\n",
        "df.sample(10)"
      ]
    },
    {
      "cell_type": "code",
      "execution_count": null,
      "metadata": {
        "colab": {
          "base_uri": "https://localhost:8080/"
        },
        "id": "vw4EOJIArZPE",
        "outputId": "4c08fe66-343b-4f59-e7a5-6caec3e596e7"
      },
      "outputs": [
        {
          "data": {
            "text/plain": [
              "POSITIVE    941\n",
              "NEGATIVE    743\n",
              "Name: Sentiment, dtype: int64"
            ]
          },
          "execution_count": 141,
          "metadata": {},
          "output_type": "execute_result"
        }
      ],
      "source": [
        "df['Sentiment'].value_counts()"
      ]
    },
    {
      "cell_type": "code",
      "execution_count": null,
      "metadata": {
        "id": "8RD7wAxtrZPH"
      },
      "outputs": [],
      "source": [
        "# separamos train y test\n",
        "train, test = train_test_split(df, test_size=0.33)"
      ]
    },
    {
      "cell_type": "code",
      "execution_count": null,
      "metadata": {
        "id": "niP3wiuzrZPO"
      },
      "outputs": [],
      "source": [
        "# Separamos en X e y\n",
        "train_y = train.iloc[:,0]\n",
        "train_X = train.iloc[:,1]\n",
        "test_y = test.iloc[:,0]\n",
        "test_X = test.iloc[:,1]\n",
        "\n",
        "# Vectorizamos los textos por TF-IDF\n",
        "vec = TfidfVectorizer(min_df=3)\n",
        "model = MultinomialNB()\n",
        "clf = make_pipeline(vec,model)\n",
        "\n",
        "clf = clf.fit(train_X, train_y)"
      ]
    },
    {
      "cell_type": "code",
      "execution_count": null,
      "metadata": {
        "colab": {
          "base_uri": "https://localhost:8080/"
        },
        "id": "-Vhh11A4rZPV",
        "outputId": "e2ee270a-aeec-4dd8-eead-30e66f2ceadd"
      },
      "outputs": [
        {
          "data": {
            "text/plain": [
              "128     Sus clases son interactivas y aprendo mucho co...\n",
              "1062                 clases más didácticas para cada tema\n",
              "64      En ocaciones se expresa mal hacia los alumnos ...\n",
              "1682    debería mejorar su manera de dar clases, tomar...\n",
              "1066          deberia de dar sus clases con menos teoría \n",
              "                              ...                        \n",
              "1598                   Mucha información genera confusión\n",
              "954            No es congruente lo que dice y lo que hace\n",
              "1110                El profesor no tiene dominio del tema\n",
              "75      considero que debe ejercer mayor presencia en ...\n",
              "811             QUE EXPLIQUE ALGUNAS COSAS MAS A DETALLE.\n",
              "Name: Phrase, Length: 556, dtype: object"
            ]
          },
          "execution_count": 144,
          "metadata": {},
          "output_type": "execute_result"
        }
      ],
      "source": [
        "test_X"
      ]
    },
    {
      "cell_type": "code",
      "execution_count": null,
      "metadata": {
        "id": "ZXrmV8pHrZPY"
      },
      "outputs": [],
      "source": [
        "predictions = clf.predict(test_X)"
      ]
    },
    {
      "cell_type": "code",
      "execution_count": null,
      "metadata": {
        "colab": {
          "base_uri": "https://localhost:8080/"
        },
        "id": "8uMnVYQHKMww",
        "outputId": "bfdf1581-e6d8-4d7e-98c1-5f3d5c794499"
      },
      "outputs": [
        {
          "data": {
            "text/plain": [
              "0.85431654676259"
            ]
          },
          "execution_count": 147,
          "metadata": {},
          "output_type": "execute_result"
        }
      ],
      "source": [
        "sum(predictions == test_y) / len(test_y)"
      ]
    },
    {
      "cell_type": "code",
      "execution_count": null,
      "metadata": {
        "colab": {
          "base_uri": "https://localhost:8080/"
        },
        "id": "LVdNZITGrZPc",
        "outputId": "9aef0c90-b8b5-4028-b34a-abe0010d2dd6"
      },
      "outputs": [
        {
          "data": {
            "text/plain": [
              "0.85431654676259"
            ]
          },
          "execution_count": 148,
          "metadata": {},
          "output_type": "execute_result"
        }
      ],
      "source": [
        "accuracy_score(test_y, predictions)"
      ]
    },
    {
      "cell_type": "code",
      "execution_count": null,
      "metadata": {
        "colab": {
          "base_uri": "https://localhost:8080/",
          "height": 312
        },
        "id": "W_oq59CArZPo",
        "outputId": "af0f72c5-2bd5-4b42-d374-3a6522344f78"
      },
      "outputs": [
        {
          "data": {
            "image/png": "[encoded data removed]",
            "text/plain": [
              "<Figure size 432x288 with 2 Axes>"
            ]
          },
          "metadata": {
            "needs_background": "light"
          },
          "output_type": "display_data"
        }
      ],
      "source": [
        "df_cm = confusion_matrix(test_y,predictions,labels=test_y.unique())\n",
        "heatmap = sns.heatmap(df_cm, annot=True, fmt=\"d\")\n",
        "heatmap.yaxis.set_ticklabels(test_y.unique(), rotation=0, ha='right')\n",
        "heatmap.xaxis.set_ticklabels(test_y.unique(), rotation=45, ha='right')\n",
        "plt.ylabel('Valor Verdadero')\n",
        "plt.xlabel('Valor Predicho');"
      ]
    },
    {
      "cell_type": "code",
      "execution_count": null,
      "metadata": {
        "cellView": "form",
        "colab": {
          "base_uri": "https://localhost:8080/",
          "height": 35
        },
        "id": "AtQ_Ui8xQ7BZ",
        "outputId": "1bbd6e39-6404-40a3-a7a0-87f566667f24"
      },
      "outputs": [
        {
          "data": {
            "application/vnd.google.colaboratory.intrinsic+json": {
              "type": "string"
            },
            "text/plain": [
              "'NEGATIVE'"
            ]
          },
          "execution_count": 159,
          "metadata": {},
          "output_type": "execute_result"
        }
      ],
      "source": [
        "to_predict = \"Fue terrible la clase, el profesor se tom\\xF3 una siesta y nos hizo usar machine learning para ver cu\\xE1nto tiempo dorm\\xEDa\" #@param {type:\"string\"}\n",
        "clf.predict([to_predict])[0]"
      ]
    }
  ],
  "metadata": {
    "accelerator": "GPU",
    "colab": {
      "name": "Intro_a_NLP.ipynb",
      "provenance": []
    },
    "gpuClass": "standard",
    "kernelspec": {
      "display_name": "Python 3.8.8 ('base')",
      "language": "python",
      "name": "python3"
    },
    "language_info": {
      "name": "python",
      "version": "3.8.8"
    },
    "vscode": {
      "interpreter": {
        "hash": "988c801e8fa6188d3e53012a7256361dd6100dad47899d4700f624e035bcb20b"
      }
    }
  },
  "nbformat": 4,
  "nbformat_minor": 0
}