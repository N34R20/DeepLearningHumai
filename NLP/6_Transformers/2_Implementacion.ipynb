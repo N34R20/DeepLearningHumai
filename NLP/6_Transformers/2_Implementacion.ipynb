{
  "nbformat": 4,
  "nbformat_minor": 0,
  "metadata": {
    "kernelspec": {
      "display_name": "Python 3",
      "language": "python",
      "name": "python3"
    },
    "language_info": {
      "codemirror_mode": {
        "name": "ipython",
        "version": 3
      },
      "file_extension": ".py",
      "mimetype": "text/x-python",
      "name": "python",
      "nbconvert_exporter": "python",
      "pygments_lexer": "ipython3",
      "version": "3.8.5"
    },
    "colab": {
      "provenance": []
    },
    "accelerator": "GPU",
    "gpuClass": "standard"
  },
  "cells": [
    {
      "cell_type": "markdown",
      "source": [
        "<a href=\"https://colab.research.google.com/github/institutohumai/cursos-python/blob/master/NLP/6_Transformers/2_Implementacion.ipynb\"> <img src='https://colab.research.google.com/assets/colab-badge.svg' /> </a>"
      ],
      "metadata": {
        "id": "MItjkSSJHWxN"
      }
    },
    {
      "cell_type": "markdown",
      "source": [
        "# Implementación de un Transformer con PyTorch\n"
      ],
      "metadata": {
        "id": "FuvXtxt8R_g1"
      }
    },
    {
      "cell_type": "markdown",
      "metadata": {
        "id": "COKr3uj3A6F8"
      },
      "source": [
        "\n",
        "En esta clase implementaremos una (versión ligeramente modificada) del modelo Transformer del paper [Attention is All You Need](https://arxiv.org/abs/1706.03762). Todas las imágenes de este notebook se tomaron del paper de Transformer. Para obtener más información sobre el Transformer, [mirá](https://www.mihaileric.com/posts/transformers-attention-in-disguise/) [estos](https://jalammar.github.io/illustrated-transformer/) [tres](http://nlp.seas.harvard.edu/2018/04/03/attention.html) artículos.\n",
        "\n",
        "![](https://i.imgur.com/umPkXYX.png)\n",
        "\n"
      ]
    },
    {
      "cell_type": "markdown",
      "source": [
        "## Introducción\n"
      ],
      "metadata": {
        "id": "IIV0-2mASIJZ"
      }
    },
    {
      "cell_type": "markdown",
      "source": [
        "\n",
        "Los Transformers no utilizan ningún tipo de recurrencia. En cambio, el modelo está compuesto por capas lineales, mecanismos de atención y normalización.\n",
        "\n",
        "Al momento de creación de este práctico (Septiembre del 2022), los Transformers son la arquitectura dominante en NLP, se utilizan para lograr resultados del estado del arte en muchas tareas y parece que se seguirán utilizando en un futuro próximo.\n",
        "\n",
        "La variante de Transformer más popular es [BERT](https://arxiv.org/abs/1810.04805) (**B**idirectional **E**ncoder **R**epresentations from **T**ransformers) y sus versiones pre-entrenadas se utilizan comúnmente para reemplazar las capas de embedding, si no más, en los modelos de NLP.\n",
        "\n",
        "Las diferencias entre la implementación en este notebook y el paper son:\n",
        "- utilizamos una codificación posicional aprendida en lugar de una estática\n",
        "- utilizamos el optimizador Adam estándar con una tasa de aprendizaje estático en lugar de uno con pasos de calentamiento y enfriamiento\n",
        "- no usamos suavizado de etiquetas.\n",
        "\n",
        "Realizamos todos estos cambios ya que siguen de cerca la configuración de BERT y la mayoría de las variantes de Transformer utilizan una configuración similar."
      ],
      "metadata": {
        "id": "DuSlLzQISFwq"
      }
    },
    {
      "cell_type": "markdown",
      "source": [
        "## Cargando los Datos\n",
        "\n"
      ],
      "metadata": {
        "id": "vAGmz5MuAvRA"
      }
    },
    {
      "cell_type": "markdown",
      "source": [
        "Vamos a entrenar un modelo que traduzca al español frases escritas en inglés. Para eso necesitamos un dataset que tenga frases escritas en ambos idiomas para usar como datasets de origen y destino.\n",
        "\n",
        "Usaremos el dataset publicado por la organización [Tatoeba](https://tatoeba.org/es) que vamos a descargar en la siguiente celda."
      ],
      "metadata": {
        "id": "GpXu5ViyUQWt"
      }
    },
    {
      "cell_type": "code",
      "metadata": {
        "id": "HPmsvcUrA6GD"
      },
      "source": [
        "import torch\n",
        "import torch.nn as nn\n",
        "import torch.optim as optim\n",
        "\n",
        "import torchtext\n",
        "\n",
        "\n",
        "import matplotlib.pyplot as plt\n",
        "import matplotlib.ticker as ticker\n",
        "\n",
        "import spacy\n",
        "import numpy as np\n",
        "\n",
        "import random\n",
        "import math\n",
        "import time"
      ],
      "execution_count": null,
      "outputs": []
    },
    {
      "cell_type": "code",
      "source": [
        "import os.path\n",
        "import re\n",
        "from shutil import unpack_archive\n",
        "\n",
        "data = None\n",
        "!wget -O spa-eng.zip http://www.manythings.org/anki/spa-eng.zip\n",
        "if not os.path.isfile(\"spa.txt\"):\n",
        "    unpack_archive('./spa-eng.zip', extract_dir='./', format='zip')\n",
        "with open('./spa.txt', encoding='utf-8') as f:\n",
        "    data = f.read()\n",
        "    data = re.sub(\"\\tCC-BY 2\\.0.*\",\"\",data) # acá elimino información adicional\n",
        "    data = re.sub(r\"[\\u202f]|[\\xa0]\",\" \",data) # aca saco caracteres raros\n",
        "    data = re.sub(\"([,\\.:;!?\\\"])\",\" \\\\1\",data) # aca  y abajo tokenizo puntuación\n",
        "    data = re.sub(\"([¡¿\\\"])\",\"\\\\1 \",data).lower()\n"
      ],
      "metadata": {
        "id": "S_WUXllMA-3b",
        "colab": {
          "base_uri": "https://localhost:8080/"
        },
        "outputId": "afa62ae6-8c9a-45fd-c960-01c4185c44b2"
      },
      "execution_count": null,
      "outputs": [
        {
          "output_type": "stream",
          "name": "stdout",
          "text": [
            "--2022-09-05 15:28:26--  http://www.manythings.org/anki/spa-eng.zip\n",
            "Resolving www.manythings.org (www.manythings.org)... 173.254.30.110\n",
            "Connecting to www.manythings.org (www.manythings.org)|173.254.30.110|:80... connected.\n",
            "HTTP request sent, awaiting response... 200 OK\n",
            "Length: 5320329 (5.1M) [application/zip]\n",
            "Saving to: ‘spa-eng.zip’\n",
            "\n",
            "spa-eng.zip         100%[===================>]   5.07M  1.64MB/s    in 3.1s    \n",
            "\n",
            "2022-09-05 15:28:30 (1.64 MB/s) - ‘spa-eng.zip’ saved [5320329/5320329]\n",
            "\n"
          ]
        }
      ]
    },
    {
      "cell_type": "markdown",
      "source": [
        "En la salida de la siguiente celda podemos ver la estructura de los datos: los tokens de cada frase están separados por un espacio y las frases están separadas por un tab."
      ],
      "metadata": {
        "id": "F2phbNyoVfYE"
      }
    },
    {
      "cell_type": "code",
      "source": [
        "print(data[:100])"
      ],
      "metadata": {
        "colab": {
          "base_uri": "https://localhost:8080/"
        },
        "id": "IopirAQHVvQt",
        "outputId": "98196dd7-4266-4e3d-f608-2241d0ab1128"
      },
      "execution_count": null,
      "outputs": [
        {
          "output_type": "stream",
          "name": "stdout",
          "text": [
            "go .\tve .\n",
            "go .\tvete .\n",
            "go .\tvaya .\n",
            "go .\tváyase .\n",
            "hi .\thola .\n",
            "run !\t¡ corre !\n",
            "run !\t¡ corran !\n",
            "run !\t¡\n"
          ]
        }
      ]
    },
    {
      "cell_type": "markdown",
      "source": [
        "Ahora tenemos que crear dos vocabularios para almacenar las frases en inglés y español respectivamente. En la siguiente celda separamos las frases usando el caracter `\\t` que representa un tab. Luego agregamos los tokens especiales `<bos>` y `<eos>` que van a simbolizar el inicio y el final de oración respectivamente. El inicio de oración solo lo usamos en la frase de destino para ser usado como entrada en el paso de tiempo 1 del decoder (para saber que tiene que generar la primera palabra usando solo la información provista por el vector de contexto).  "
      ],
      "metadata": {
        "id": "fPL8taPYU273"
      }
    },
    {
      "cell_type": "code",
      "source": [
        "import random\n",
        "\n",
        "SRC_IDX, TGT_IDX = 0, 1\n",
        "\n",
        "SEED = 12312\n",
        "\n",
        "data2 = data.split('\\n')\n",
        "random.seed(SEED)\n",
        "random.shuffle(data2)\n",
        "\n",
        "data_list = []\n",
        "for i, line in enumerate(data2):\n",
        "    parts = line.split('\\t')\n",
        "    if len(parts) == 2:\n",
        "        # Skip empty tokens\n",
        "        new_src = [t for t in f'{parts[SRC_IDX]} <eos>'.split(' ') if t]\n",
        "        new_tgt = [t for t in f'<bos> {parts[TGT_IDX]} <eos>'.split(' ') if t]\n",
        "        length_src = len(new_src)\n",
        "        data_list.append((new_src, length_src, new_tgt))\n",
        "\n",
        "print(data_list[0][0], data_list[0][-1])\n",
        "print(len(data_list))"
      ],
      "metadata": {
        "colab": {
          "base_uri": "https://localhost:8080/"
        },
        "id": "7VeFH-9-BuSX",
        "outputId": "36f4aa4a-b328-40d0-b83c-a77d13bf77c1"
      },
      "execution_count": null,
      "outputs": [
        {
          "output_type": "stream",
          "name": "stdout",
          "text": [
            "['tom', 'seldom', 'puts', 'sugar', 'in', 'his', 'coffee', '.', '<eos>'] ['<bos>', 'tom', 'casi', 'nunca', 'le', 'pone', 'azúcar', 'al', 'café', '.', '<eos>']\n",
            "138440\n"
          ]
        }
      ]
    },
    {
      "cell_type": "markdown",
      "source": [
        "Ahora podemos crear los vocabularios de torchtext indicando todos los caracteres especiales (incluyendo '<unk>' para reemplazar las palabras que no aparecen en el vocabulario)."
      ],
      "metadata": {
        "id": "I7c9NpbXYFLP"
      }
    },
    {
      "cell_type": "code",
      "source": [
        "from collections import Counter\n",
        "from torchtext.vocab import vocab\n",
        "import torch\n",
        "\n",
        "device = torch.device('cuda' if torch.cuda.is_available() else 'cpu')\n",
        "\n",
        "n = len(data_list)\n",
        "split1, split2 = int(0.7*n), int(0.9*n)\n",
        "train_list = data_list[:split1]\n",
        "val_list = data_list[split1:split2]\n",
        "test_list = data_list[split2:]\n",
        "\n",
        "counter_src, counter_tgt = Counter(), Counter()\n",
        "for i in range(len(train_list)):\n",
        "  counter_src.update(train_list[i][0])\n",
        "  counter_tgt.update(train_list[i][-1])\n",
        "\n",
        "vocab_src = vocab(counter_src, min_freq = 2,\n",
        "              specials=('<unk>', '<eos>', '<bos>', '<pad>'))\n",
        "vocab_src.set_default_index(vocab_src['<unk>'])\n",
        "\n",
        "vocab_tgt = vocab(counter_tgt, min_freq = 2,\n",
        "              specials=('<unk>', '<eos>', '<bos>', '<pad>'))\n",
        "vocab_tgt.set_default_index(vocab_tgt['<unk>'])\n"
      ],
      "metadata": {
        "id": "MlU1LfacCAhT"
      },
      "execution_count": null,
      "outputs": []
    },
    {
      "cell_type": "markdown",
      "source": [
        "Las siguientes celdas llevan adelante el preprocesamiento necesario para generar los dataloaders al igual que lo hicimos en el ejercicio de la clase 1. En la siguiente celda `BucketSampler` es una clase que arma los minilotes con oraciones de longitud parecida de manera que el relleno necesario sea mínimo.\n"
      ],
      "metadata": {
        "id": "tIfgHjHXZnCr"
      }
    },
    {
      "cell_type": "code",
      "source": [
        "from torch.utils.data.sampler import Sampler\n",
        "\n",
        "class BucketSampler(Sampler):\n",
        "\n",
        "    def __init__(self, batch_size, train_list):\n",
        "        self.length = len(train_list)\n",
        "        self.train_list = train_list\n",
        "        self.batch_size = batch_size\n",
        "        indices = [(i, s[1]) for i, s in enumerate(self.train_list)]\n",
        "        random.seed(SEED)\n",
        "        random.shuffle(indices)\n",
        "        pooled_indices = []\n",
        "        # creamos minilotes de tamaños similares\n",
        "        for i in range(0, len(indices), batch_size * 100):\n",
        "            pooled_indices.extend(sorted(indices[i:i + batch_size * 100],\n",
        "                                         key=lambda x: x[1], reverse=True))\n",
        "\n",
        "        self.pooled_indices = pooled_indices\n",
        "\n",
        "    def __iter__(self):\n",
        "        for i in range(0, len(self.pooled_indices), self.batch_size):\n",
        "            yield [idx for idx, _ in self.pooled_indices[i:i + self.batch_size]]\n",
        "\n",
        "    def __len__(self):\n",
        "        return (self.length + self.batch_size - 1) // self.batch_size"
      ],
      "metadata": {
        "id": "YjpbkiK2CMV6"
      },
      "execution_count": null,
      "outputs": []
    },
    {
      "cell_type": "markdown",
      "source": [
        "`collate_batch` es una función que le indica al DataLoader que datos devolver por cada ejemplo del Dataset. En este caso vamos a generar 3 lotes distintos en una tupla:\n",
        "* text_src: son las frases en el idioma origen que le pasaremos como entrada al encoder\n",
        "* text_tgt_in: son las frases en el idioma destino que le pasaremos como entrada al decoder (con `<bos>` como primer token y sin `<eos>`)\n",
        "* text_tgt_out: son las frases en el idioma destino que usaremos para calcular la pérdida (con `<eos>` como finalizador de oración y sin `<bos>`)"
      ],
      "metadata": {
        "id": "aluwHRsBe-xN"
      }
    },
    {
      "cell_type": "code",
      "source": [
        "import torch\n",
        "\n",
        "from torch.utils.data import DataLoader\n",
        "from torch.nn.utils.rnn import pad_sequence\n",
        "\n",
        "SRC_PAD_IDX = vocab_src['<pad>']\n",
        "TGT_PAD_IDX = vocab_tgt['<pad>']\n",
        "\n",
        "\n",
        "def collate_batch(batch):\n",
        "    text_src, text_tgt = [], []\n",
        "    for (src, length, tgt) in batch:\n",
        "        # convertimos el texto en tokens\n",
        "        processed_src = torch.tensor([vocab_src[token] for token in src])\n",
        "        processed_tgt = torch.tensor([vocab_tgt[token] for token in tgt])\n",
        "        text_src.append(processed_src)\n",
        "        text_tgt.append(processed_tgt)\n",
        "    # armamos la tupla que conformara un ejemplo de minilote.\n",
        "    result = (pad_sequence(text_src, padding_value=SRC_PAD_IDX),\n",
        "              pad_sequence(text_tgt, padding_value=TGT_PAD_IDX))\n",
        "    return result\n",
        "\n"
      ],
      "metadata": {
        "id": "ipx7mj_YCOrw"
      },
      "execution_count": null,
      "outputs": []
    },
    {
      "cell_type": "markdown",
      "source": [
        "Ahora podemos crear los DataLoaders e imprimir su contenido."
      ],
      "metadata": {
        "id": "8EJaMXZVhMSz"
      }
    },
    {
      "cell_type": "code",
      "source": [
        "batch_size = 64  # A batch size of 64\n",
        "\n",
        "train_bucket = BucketSampler(batch_size, train_list)\n",
        "train_iter = DataLoader(train_list,\n",
        "                          batch_sampler=train_bucket,\n",
        "                          collate_fn=collate_batch)\n",
        "\n",
        "val_bucket = BucketSampler(batch_size, val_list)\n",
        "val_iter = DataLoader(val_list,\n",
        "                          batch_sampler=val_bucket,\n",
        "                          collate_fn=collate_batch)\n",
        "\n",
        "test_bucket = BucketSampler(batch_size, test_list)\n",
        "test_iter = DataLoader(test_list,\n",
        "                          batch_sampler=test_bucket,\n",
        "                          collate_fn=collate_batch)"
      ],
      "metadata": {
        "id": "2T5ppiECCSCv"
      },
      "execution_count": null,
      "outputs": []
    },
    {
      "cell_type": "code",
      "source": [
        "src, trg = next(iter(test_iter))\n",
        "\n",
        "a = [vocab_src.get_itos()[token] for example in src.T[:1] for token in example]\n",
        "b = [vocab_tgt.get_itos()[token] for example in trg.T[:1] for token in example]\n",
        "\n",
        "print(a)\n",
        "print(b)"
      ],
      "metadata": {
        "id": "kpKpN6OJCUEc",
        "colab": {
          "base_uri": "https://localhost:8080/"
        },
        "outputId": "333ab62d-a61b-4ccf-f898-a32bac6262d6"
      },
      "execution_count": null,
      "outputs": [
        {
          "output_type": "stream",
          "name": "stdout",
          "text": [
            "['in', '1969', ',', 'roger', 'miller', '<unk>', 'a', 'song', 'called', '\"', 'you', \"don't\", 'want', 'my', 'love', '.', '\"', 'today', ',', 'this', 'song', 'is', 'better', 'known', 'as', '\"', 'in', 'the', 'summer', 'time', '.', '\"', \"it's\", 'the', 'first', 'song', 'he', 'wrote', 'and', 'sang', 'that', 'became', 'popular', '.', '<eos>']\n",
            "['<bos>', 'en', '1969', ',', 'roger', 'miller', 'grabó', 'una', 'canción', 'llamada', '\"', 'tú', 'no', 'quieres', 'mi', 'amor', '\"', '.', 'hoy', ',', 'esta', 'canción', 'es', 'más', 'conocida', 'como', '\"', 'en', 'el', 'verano', '\"', '.', 'es', 'la', 'primera', 'canción', 'que', 'escribió', 'y', 'cantó', 'que', 'se', 'convirtió', 'popular', '.', '<eos>']\n"
          ]
        }
      ]
    },
    {
      "cell_type": "markdown",
      "metadata": {
        "id": "nBMupg3m2tRA"
      },
      "source": [
        "## Capas Necesarias para el Modelo\n",
        "\n",
        "Antes de armar el modelo, vamos a explicar algunas capas introducidas en el paper que forman una parte esencial tanto dentro del encoder como del decoder."
      ]
    },
    {
      "cell_type": "markdown",
      "metadata": {
        "id": "h6pYQrt9A6GR"
      },
      "source": [
        "### Capa de atención de múltiples cabezales\n",
        "\n",
        "Uno de los conceptos clave y novedosos introducidos por el documento Transformer es la *capa de atención de múltiples cabezales*.\n",
        "\n",
        "![](https://i.imgur.com/CwYzPgi.png)\n",
        "\n",
        "La atención se puede considerar como ***consultas (queries)***, ***claves (keys)*** y ***valores (values)***, donde la consulta se usa junto a la clave para obtener un vector de atención (generalmente el resultado de una operación *softmax* y tiene todos los valores entre 0 y 1 y que, en total, suman 1) que luego se usa para obtener una suma ponderada de los valores.\n",
        "\n",
        "El Transformer utiliza ***atención de producto punto escalada***, donde la consulta y la clave se combinan tomando el producto punto entre ellas, luego aplicando softmax y escalando por $d_k$ antes de finalmente multiplicar por el valor. La constante $ d_k $ es la ***dimensión de la cabeza***, `head_dim`, que explicaremos con más detalle en breve.\n",
        "\n",
        "$$ \\text{Attention}(Q, K, V) = \\text{Softmax} \\big( \\frac{QK^T}{\\sqrt{d_k}} \\big)V $$\n",
        "\n",
        "Esto es similar a la ***atención de producto punto*** estándar pero escalada por $ d_k $, que según el documento se usa para evitar que los resultados de los productos punto se hagan demasiado grandes, y por lo tanto los gradientes se vuelvan demasiado pequeños.\n",
        "\n",
        "Sin embargo, la atención de producto punto escalada no se aplica simplemente a las consultas, claves y valores. En lugar de realizar una aplicación de atención única, las consultas, claves y valores tienen su `hid_dim` dividido en ***$ h $ cabezas*** y la atención de producto punto escalada se calcula sobre todas las cabezas en paralelo. Esto significa que en lugar de prestar atención a un concepto por aplicación de atención, prestamos atención a $ h $ conceptos. Luego, volvemos a combinar las cabezas en su forma `hid_dim`.\n",
        "\n",
        "$$ \\text{MultiHead}(Q, K, V) = \\text{Concat}(\\text{head}_1,...,\\text{head}_h)W^O $$\n",
        "\n",
        "$$\\text{head}_i = \\text{Attention}(QW_i^Q, KW_i^K, VW_i^V) $$\n",
        "\n",
        "$ W ^ O $ es la capa densa aplicada al final de la capa de atención de múltiples cabezales, que llamaremos en el código `fc_o`. $ W ^ Q, W ^ K, W ^ V $ son las capas densas que en el código llamaremos `fc_q`,` fc_k` y `fc_v`.\n",
        "\n",
        "Recorriendo el código del módulo, primero calculamos $ QW ^ Q $, $ KW ^ K $ y $ VW ^ V $ con las capas lineales, `fc_q`, ` fc_k` y `fc_v`, para darnos ` Q`, ` K` y `V`. A continuación, dividimos el `hid_dim` de la consulta, la clave y el valor en ` n_heads` usando `.view()` y los permutamos correctamente para que se puedan multiplicar juntos. Luego calculamos la `energía` (la atención no normalizada) multiplicando ` Q` y `K` y escalando por la raíz cuadrada de` head_dim`, que se calcula como `hid_dim // n_heads`. Luego enmascaramos la energía para que no prestemos atención a ningún elemento de la secuencia que no deberíamos, luego aplicamos el softmax y dropout. A continuación, aplicamos la atención a los valores de los cabezales, `V`, antes de combinar los resultados para las ` n_heads` . Finalmente, multiplicamos este $ W ^ O $, representado por `fc_o`.\n",
        "\n",
        "Tenga en cuenta que en nuestra implementación las longitudes de las claves y los valores son siempre los mismos, por lo tanto, cuando la matriz multiplica la salida del softmax, `attention`, con` V` siempre tendremos tamaños de dimensión válidos para la multiplicación de matrices. Esta multiplicación se lleva a cabo usando `torch.matmul` que, cuando ambos tensores son >2-dimensionales, hace una multiplicación matricial por lotes sobre las dos últimas dimensiones de cada tensor. Esto será una multiplicación de matriz por lotes con formas **[query len, key len] x [value len, head dim]**   sobre el tamaño de lote y cada cabezal que proporciona un resultado con forma **[batch size, n heads, query len, head dim]** .\n",
        "\n",
        "Algo que parece extraño al principio es que el dropout se aplica directamente a la atención. Esto significa que lo más probable es que nuestro vector de atención no sume 1 o que prestemos toda la atención a un solo token que puede establecerse en 0 por el dropout. Estos problemas nunca se explican, ni siquiera se mencionan, en el paper, sin embargo, es lo que se hace en la [implementación oficial](https://github.com/tensorflow/tensor2tensor/) y todas las implementaciones de Transformer desde entonces, [incluido BERT](https://github.com/google-research/bert/)."
      ]
    },
    {
      "cell_type": "code",
      "metadata": {
        "id": "ipH7sT_MA6GR"
      },
      "source": [
        "class MultiHeadAttentionLayer(nn.Module):\n",
        "    def __init__(self, hid_dim, n_heads, dropout, device):\n",
        "        super().__init__()\n",
        "\n",
        "        assert hid_dim % n_heads == 0\n",
        "\n",
        "        self.hid_dim = hid_dim\n",
        "        self.n_heads = n_heads\n",
        "        self.head_dim = hid_dim // n_heads\n",
        "\n",
        "        self.fc_q = nn.Linear(hid_dim, hid_dim)\n",
        "        self.fc_k = nn.Linear(hid_dim, hid_dim)\n",
        "        self.fc_v = nn.Linear(hid_dim, hid_dim)\n",
        "\n",
        "        self.fc_o = nn.Linear(hid_dim, hid_dim)\n",
        "\n",
        "        self.dropout = nn.Dropout(dropout)\n",
        "\n",
        "        self.scale = torch.sqrt(torch.FloatTensor([self.head_dim])).to(device)\n",
        "\n",
        "    def forward(self, query, key, value, mask = None):\n",
        "\n",
        "        batch_size = query.shape[0]\n",
        "\n",
        "        #query = [batch size, query len, hid dim]\n",
        "        #key = [batch size, key len, hid dim]\n",
        "        #value = [batch size, value len, hid dim]\n",
        "\n",
        "        Q = self.fc_q(query)\n",
        "        K = self.fc_k(key)\n",
        "        V = self.fc_v(value)\n",
        "\n",
        "        #Q = [batch size, query len, hid dim]\n",
        "        #K = [batch size, key len, hid dim]\n",
        "        #V = [batch size, value len, hid dim]\n",
        "\n",
        "        Q = Q.view(batch_size, -1, self.n_heads, self.head_dim).permute(0, 2, 1, 3)\n",
        "        K = K.view(batch_size, -1, self.n_heads, self.head_dim).permute(0, 2, 1, 3)\n",
        "        V = V.view(batch_size, -1, self.n_heads, self.head_dim).permute(0, 2, 1, 3)\n",
        "\n",
        "        #Q = [batch size, n heads, query len, head dim]\n",
        "        #K = [batch size, n heads, key len, head dim]\n",
        "        #V = [batch size, n heads, value len, head dim]\n",
        "\n",
        "        energy = torch.matmul(Q, K.permute(0, 1, 3, 2)) / self.scale\n",
        "\n",
        "        #energy = [batch size, n heads, query len, key len]\n",
        "\n",
        "        if mask is not None:\n",
        "            energy = energy.masked_fill(mask == 0, -1e10)\n",
        "\n",
        "        attention = torch.softmax(energy, dim = -1)\n",
        "\n",
        "        #attention = [batch size, n heads, query len, key len]\n",
        "\n",
        "        x = torch.matmul(self.dropout(attention), V)\n",
        "\n",
        "        #x = [batch size, n heads, query len, head dim]\n",
        "\n",
        "        x = x.permute(0, 2, 1, 3).contiguous()\n",
        "\n",
        "        #x = [batch size, query len, n heads, head dim]\n",
        "\n",
        "        x = x.view(batch_size, -1, self.hid_dim)\n",
        "\n",
        "        #x = [batch size, query len, hid dim]\n",
        "\n",
        "        x = self.fc_o(x)\n",
        "\n",
        "        #x = [batch size, query len, hid dim]\n",
        "\n",
        "        return x, attention"
      ],
      "execution_count": null,
      "outputs": []
    },
    {
      "cell_type": "markdown",
      "metadata": {
        "id": "f3-95fx6A6GS"
      },
      "source": [
        "### Capa Feed-Forward Posicional\n",
        "\n",
        "La otra capa presentada en el paper es la *capa feedforward posicional*. Esta capa es relativamente simple en comparación con la capa de atención de múltiples cabezales. La entrada se transforma de `hid_dim` a` pf_dim`, donde `pf_dim` suele ser mucho más grande que` hid_dim`. El Transformer original usó un `hid_dim` de 512 y un` pf_dim` de 2048. La función de activación de ReLU y el dropout se aplican antes de que se vuelva a transformar en una representación de `hid_dim`.\n",
        "\n",
        "BERT usa la función de activación [GELU](https://arxiv.org/abs/1606.08415), que se puede usar simplemente cambiando `torch.relu` por` F.gelu`."
      ]
    },
    {
      "cell_type": "code",
      "metadata": {
        "id": "mJiTfQXzA6GS"
      },
      "source": [
        "class PositionwiseFeedforwardLayer(nn.Module):\n",
        "    def __init__(self, hid_dim, pf_dim, dropout):\n",
        "        super().__init__()\n",
        "\n",
        "        self.fc_1 = nn.Linear(hid_dim, pf_dim)\n",
        "        self.fc_2 = nn.Linear(pf_dim, hid_dim)\n",
        "\n",
        "        self.dropout = nn.Dropout(dropout)\n",
        "\n",
        "    def forward(self, x):\n",
        "\n",
        "        #x = [batch size, seq len, hid dim]\n",
        "\n",
        "        x = self.dropout(torch.relu(self.fc_1(x)))\n",
        "\n",
        "        #x = [batch size, seq len, pf dim]\n",
        "\n",
        "        x = self.fc_2(x)\n",
        "\n",
        "        #x = [batch size, seq len, hid dim]\n",
        "\n",
        "        return x"
      ],
      "execution_count": null,
      "outputs": []
    },
    {
      "cell_type": "markdown",
      "metadata": {
        "id": "1YSm02hY2Tdi"
      },
      "source": [
        "## Construyendo el modelo\n",
        "\n",
        "A continuación, crearemos el modelo. Al igual que en el trabajo práctico anterior, se compone de un *encoder* y un *decoder*, con el encoder *codificando* la oración de entrada/origen (en inglés) en un *vector de contexto* y el decoder luego *decodificando* este vector de contexto para generar nuestra oración de salida/objetivo (en español)."
      ]
    },
    {
      "cell_type": "markdown",
      "metadata": {
        "id": "859EdNC5A6GQ"
      },
      "source": [
        "### Bloque Encoder\n",
        "\n",
        "Los bloques Encoder son donde se encuentra toda la \"magia\" del Encoder.\n",
        "\n",
        "Primero pasamos la oración origen y su máscara a la *capa de atención de múltiples cabezales*, luego aplicamos dropout, una conexión residual y una capa de  [Normalización por capas](https://arxiv.org/abs/1607.06450 ). Luego lo pasamos a través de una capa feed-forward posicional y luego, nuevamente, aplicamos dropout, una conexión residual y  la capa de normalización por capas para obtener la salida de este bloque que se alimenta al siguiente bloque. Los parámetros no se comparten entre bloques.\n",
        "\n",
        "La capa de atención de múltiples cabezales es utilizada por el bloque encoder para prestar atención a la oración origen, es decir, está calculando y aplicando atención sobre sí misma en lugar de otra secuencia, por lo que la llamamos *auto-atención*.\n",
        "\n",
        "[Este](https://becominghuman.ai/all-about-normalization-6ea79e70894b) artículo entra en más detalles sobre la normalización de capas, pero la esencia es que normaliza los valores de las features, de manera que cada feature tiene una media de 0 y una desviación estándar de 1. Esto permite que las redes neuronales con una mayor número de capas, como el Transformer, puedan entrenar más fácilmente."
      ]
    },
    {
      "cell_type": "code",
      "metadata": {
        "id": "_uaJKmWJA6GQ"
      },
      "source": [
        "class EncoderBlock(nn.Module):\n",
        "    def __init__(self, hid_dim, n_heads, pf_dim, dropout, device):\n",
        "        super().__init__()\n",
        "\n",
        "        self.self_attn_layer_norm = nn.LayerNorm(hid_dim)\n",
        "        self.ff_layer_norm = nn.LayerNorm(hid_dim)\n",
        "        self.self_attention = MultiHeadAttentionLayer(hid_dim, n_heads, dropout, device)\n",
        "        self.positionwise_feedforward = PositionwiseFeedforwardLayer(hid_dim,\n",
        "                                                                     pf_dim,\n",
        "                                                                     dropout)\n",
        "        self.dropout = nn.Dropout(dropout)\n",
        "\n",
        "    def forward(self, src, src_mask):\n",
        "\n",
        "        #src = [batch size, src len, hid dim]\n",
        "        #src_mask = [batch size, 1, 1, src len]\n",
        "\n",
        "        #self attention\n",
        "        _src, _ = self.self_attention(src, src, src, src_mask)\n",
        "\n",
        "        #dropout, residual connection and layer norm\n",
        "        src = self.self_attn_layer_norm(src + self.dropout(_src))\n",
        "\n",
        "        #src = [batch size, src len, hid dim]\n",
        "\n",
        "        #positionwise feedforward\n",
        "        _src = self.positionwise_feedforward(src)\n",
        "\n",
        "        #dropout, residual and layer norm\n",
        "        src = self.ff_layer_norm(src + self.dropout(_src))\n",
        "\n",
        "        #src = [batch size, src len, hid dim]\n",
        "\n",
        "        return src"
      ],
      "execution_count": null,
      "outputs": []
    },
    {
      "cell_type": "markdown",
      "metadata": {
        "id": "VX1WyENPA6GO"
      },
      "source": [
        "### Encoder\n",
        "El encoder del Transformer no intenta comprimir toda la oración fuente, $ X = (x_1, ..., x_n) $, en un solo vector de contexto, $ z $. En su lugar, produce una secuencia de vectores de contexto, $ Z = (z_1, ..., z_n) $. De esta manera, si nuestra secuencia de entrada tuviera 5 tokens de longitud, tendríamos $ Z = (z_1, z_2, z_3, z_4, z_5) $. ¿Por qué llamamos a esto una secuencia de vectores de contexto y no una secuencia de variables ocultas? Porque una variable oculta en el momento $ t $ en una RNN solo ha visto el token $ x_t $ y todos los tokens anteriores. Sin embargo, cada vector de contexto aquí ha visto todos los tokens en todas las posiciones dentro de la secuencia de entrada.\n",
        "\n",
        "![](https://i.imgur.com/6gOHngA.png)\n",
        "\n",
        "Primero, los tokens se pasan a través de una capa de embedding estándar. A continuación, como el modelo no tiene recurrencias, no tiene idea del orden de los tokens dentro de la secuencia. Resolvemos este problema usando una segunda capa de incrustación llamada *capa de embedding posicional*. Esta es una capa de embedding estándar donde la entrada no es el token en sí, sino la posición del token dentro de la secuencia, comenzando con el primer token, el token `<bos>` (inicio de secuencia), en la posición 0. El embedding posicional tiene un tamaño de \"vocabulario\" de 100, lo que significa que nuestro modelo puede aceptar oraciones de hasta 100 tokens de longitud. Esto se puede aumentar si queremos manejar oraciones más largas.\n",
        "\n",
        "La implementación del Transformer original del paper \"Attention is All You Need\" no aprende los embedding posicionales. En su lugar, utiliza un embedding estático fijo. Las arquitecturas modernas de Transformer, como BERT, usan embedding posicionales aprendidos en su lugar, por lo tanto, hemos decidido usarlas en estos tutoriales. Consulte [esta](http://nlp.seas.harvard.edu/2018/04/03/attention.html#positional-encoding) sección para leer más sobre la codificación posicional utilizada en el modelo Transformer original.\n",
        "\n",
        "A continuación, el token y los embeddings posicionales se suman elemento a elemento para obtener un vector que contiene información sobre el token y también su posición en la secuencia. Sin embargo, antes de sumarlos, los embeddings de tokens se multiplican por un factor de escala que es $ \\sqrt{d_{modelo}} $, donde $ d_{modelo} $ es la dimensión de las capas ocultas, `hid_dim`. Esto supuestamente reduce la variación en los embeddings y el modelo es difícil de entrenar de manera confiable sin este factor de escala. A continuación, se aplica  dropout a los embeddings combinados.\n",
        "\n",
        "Los embeddings combinados se pasan a través de $ N $ *capas de encoder* para obtener $ Z $, que luego se envía y puede ser utilizado por el decoder.\n",
        "\n",
        "La máscara origen, `src_mask`, tiene simplemente la misma forma que la oración origen pero tiene un valor de 1 cuando el token en la oración origen no es un token` <pad> `y 0 cuando sí lo es. Esto se usa en las capas del encoder para enmascarar los mecanismos de atención de múltiples cabezales, que se usan para calcular y aplicar atención sobre la oración origen, por lo que el modelo no presta atención a los tokens `<pad>`, que no contienen información útil."
      ]
    },
    {
      "cell_type": "code",
      "metadata": {
        "id": "BKzNH8U6A6GP"
      },
      "source": [
        "class Encoder(nn.Module):\n",
        "    def __init__(self,\n",
        "                 input_dim,\n",
        "                 hid_dim,\n",
        "                 n_layers,\n",
        "                 n_heads,\n",
        "                 pf_dim,\n",
        "                 dropout,\n",
        "                 device,\n",
        "                 max_length = 100):\n",
        "        super().__init__()\n",
        "\n",
        "        self.device = device\n",
        "\n",
        "        self.tok_embedding = nn.Embedding(input_dim, hid_dim)\n",
        "        self.pos_embedding = nn.Embedding(max_length, hid_dim)\n",
        "\n",
        "        self.layers = nn.ModuleList([EncoderBlock(hid_dim,\n",
        "                                                  n_heads,\n",
        "                                                  pf_dim,\n",
        "                                                  dropout,\n",
        "                                                  device)\n",
        "                                     for _ in range(n_layers)])\n",
        "\n",
        "        self.dropout = nn.Dropout(dropout)\n",
        "\n",
        "        self.scale = torch.sqrt(torch.FloatTensor([hid_dim])).to(device)\n",
        "\n",
        "    def forward(self, src, src_mask):\n",
        "\n",
        "        #src = [batch size, src len]\n",
        "        #src_mask = [batch size, 1, 1, src len]\n",
        "\n",
        "        batch_size = src.shape[0]\n",
        "        src_len = src.shape[1]\n",
        "\n",
        "        pos = torch.arange(0, src_len).unsqueeze(0).repeat(batch_size, 1).to(self.device)\n",
        "\n",
        "        #pos = [batch size, src len]\n",
        "\n",
        "        src = self.dropout((self.tok_embedding(src) * self.scale) + self.pos_embedding(pos))\n",
        "\n",
        "        #src = [batch size, src len, hid dim]\n",
        "\n",
        "        for layer in self.layers:\n",
        "            src = layer(src, src_mask)\n",
        "\n",
        "        #src = [batch size, src len, hid dim]\n",
        "\n",
        "        return src"
      ],
      "execution_count": null,
      "outputs": []
    },
    {
      "cell_type": "markdown",
      "metadata": {
        "id": "ltTk2_v0A6GS"
      },
      "source": [
        "### Decoder\n",
        "\n",
        "El objetivo del decoder es tomar la representación codificada de la oración origen, $ Z $, y convertirla en tokens predichos en la oración objetivo, $ \\hat {Y} $. Luego comparamos $ \\hat {Y} $ con los tokens reales en la oración objetivo, $ Y $, para calcular nuestra pérdida, que se usará para calcular los gradientes de nuestros parámetros y luego usamos nuestro optimizador para actualizar nuestros pesos de manera de mejorar nuestras predicciones.\n",
        "\n",
        "![](https://i.imgur.com/g5Armz5.png)\n",
        "\n",
        "El decoder es similar al encoder, sin embargo, tiene dos capas de atención de múltiples cabezales. Una *capa de auto-atención de múltiples cabezales enmascarada* sobre la secuencia objetivo, y una capa de atención de múltiples cabezales que usa la representación del decoder como consulta y la representación del encoder como clave y valor.\n",
        "\n",
        "El decoder utiliza embedding posicionales y los combina, a través de una suma elemento a elemento, con los embeddings escalados de los tokens de destino, seguidos de dropout. Nuevamente, nuestros embeddings posicionales tienen un \"vocabulario\" de 100, lo que significa que pueden aceptar secuencias de hasta 100 tokens de longitud. Esto se puede aumentar si se desea.\n",
        "\n",
        "Los embeddings combinados se pasan a través de las capas del decoder $ N $, junto con la frase origen codificada, `enc_src`, y las máscaras de origen y destino. Tenga en cuenta que la cantidad de capas en el encoder no tiene que ser igual a la cantidad de capas en el decoder, aunque ambas se denotan con $ N $.\n",
        "\n",
        "La representación del decoder después de la última capa se pasa a través de una capa densa, `fc_out`. En PyTorch, la operación softmax está contenida dentro de nuestra función de pérdida, por lo que no necesitamos explícitamente usar una capa softmax aquí.\n",
        "\n",
        "Además de usar la máscara de origen, como hicimos en el encoder para evitar que nuestro modelo preste atención a los tokens `<pad>`, también usamos una máscara de destino. Esto se explicará con más detalle en el modelo \"Seq2Seq\" que encapsula tanto el encoder como el decoder, pero lo esencial es que como estamos procesando todos los tokens de destino a la vez en paralelo, necesitamos un método para evitar que el decoder \"haga trampa\" simplemente \"mirando\" cuál es el siguiente token en la secuencia de destino y emitiéndolo como salida.\n",
        "\n",
        "Nuestro bloque de decoder también genera los valores de atención normalizados para que luego podamos graficarlos para ver a qué está prestando atención nuestro modelo."
      ]
    },
    {
      "cell_type": "code",
      "metadata": {
        "id": "C1jYtpE4A6GU"
      },
      "source": [
        "class Decoder(nn.Module):\n",
        "    def __init__(self,\n",
        "                 output_dim,\n",
        "                 hid_dim,\n",
        "                 n_layers,\n",
        "                 n_heads,\n",
        "                 pf_dim,\n",
        "                 dropout,\n",
        "                 device,\n",
        "                 max_length = 100):\n",
        "        super().__init__()\n",
        "\n",
        "        self.device = device\n",
        "\n",
        "        self.tok_embedding = nn.Embedding(output_dim, hid_dim)\n",
        "        self.pos_embedding = nn.Embedding(max_length, hid_dim)\n",
        "\n",
        "        self.layers = nn.ModuleList([DecoderLayer(hid_dim,\n",
        "                                                  n_heads,\n",
        "                                                  pf_dim,\n",
        "                                                  dropout,\n",
        "                                                  device)\n",
        "                                     for _ in range(n_layers)])\n",
        "\n",
        "        self.fc_out = nn.Linear(hid_dim, output_dim)\n",
        "\n",
        "        self.dropout = nn.Dropout(dropout)\n",
        "\n",
        "        self.scale = torch.sqrt(torch.FloatTensor([hid_dim])).to(device)\n",
        "\n",
        "    def forward(self, trg, enc_src, trg_mask, src_mask):\n",
        "\n",
        "        #trg = [batch size, trg len]\n",
        "        #enc_src = [batch size, src len, hid dim]\n",
        "        #trg_mask = [batch size, 1, trg len, trg len]\n",
        "        #src_mask = [batch size, 1, 1, src len]\n",
        "\n",
        "        batch_size = trg.shape[0]\n",
        "        trg_len = trg.shape[1]\n",
        "\n",
        "        pos = torch.arange(0, trg_len).unsqueeze(0).repeat(batch_size, 1).to(self.device)\n",
        "\n",
        "        #pos = [batch size, trg len]\n",
        "\n",
        "        trg = self.dropout((self.tok_embedding(trg) * self.scale) + self.pos_embedding(pos))\n",
        "\n",
        "        #trg = [batch size, trg len, hid dim]\n",
        "\n",
        "        for layer in self.layers:\n",
        "            trg, attention = layer(trg, enc_src, trg_mask, src_mask)\n",
        "\n",
        "        #trg = [batch size, trg len, hid dim]\n",
        "        #attention = [batch size, n heads, trg len, src len]\n",
        "\n",
        "        output = self.fc_out(trg)\n",
        "\n",
        "        #output = [batch size, trg len, output dim]\n",
        "\n",
        "        return output, attention"
      ],
      "execution_count": null,
      "outputs": []
    },
    {
      "cell_type": "markdown",
      "metadata": {
        "id": "0J5FhLmbA6GU"
      },
      "source": [
        "### Bloque Decoder\n",
        "\n",
        "Como se mencionó anteriormente, el bloque decoder es similar al bloque encoder excepto que ahora tiene dos capas de atención de múltiples cabezales, \"self_attention\" y \"encoder_attention\".\n",
        "\n",
        "La primera realiza la auto-atención, como en el encoder, utilizando la representación del decoder hasta el momento como consulta, clave y valor. A esto le sigue el dropout, la conexión residual y la normalización por capas. Esta capa `self_attention` usa la máscara de secuencia objetivo,` trg_mask`, para evitar que el decoder \"haga trampas\" prestando atención a los tokens que están \"por delante\" del que está procesando actualmente, ya que procesa en paralelo todos los tokens en la oración objetivo.\n",
        "\n",
        "La segunda es la manera en que realmente alimentamos la oración origen codificada, `enc_src`, en nuestro decoder. En esta capa de atención de múltiples cabezales, las consultas son las representaciones del decoder hasta el momento y las claves y valores son las representaciones del encoder. Aquí, la máscara de origen, `src_mask` se usa para evitar que la capa de atención de múltiples cabezales preste atención a los tokens ` <pad> ` dentro de la oración de origen. A esto le siguen la capa de dropout, la conexión residual y la capa de normalización por capas.\n",
        "\n",
        "Finalmente, pasamos esto a través de la capa feed-forward posicional y otra secuencia de dropout, conexión residual y normalización por capa.\n",
        "\n",
        "El bloque decoder no está introduciendo ningún concepto nuevo, solo usa el mismo conjunto de capas que el bloque encoder de una manera ligeramente diferente."
      ]
    },
    {
      "cell_type": "code",
      "metadata": {
        "id": "P8SKdOSFA6GU"
      },
      "source": [
        "class DecoderLayer(nn.Module):\n",
        "    def __init__(self,\n",
        "                 hid_dim,\n",
        "                 n_heads,\n",
        "                 pf_dim,\n",
        "                 dropout,\n",
        "                 device):\n",
        "        super().__init__()\n",
        "\n",
        "        self.self_attn_layer_norm = nn.LayerNorm(hid_dim)\n",
        "        self.enc_attn_layer_norm = nn.LayerNorm(hid_dim)\n",
        "        self.ff_layer_norm = nn.LayerNorm(hid_dim)\n",
        "        self.self_attention = MultiHeadAttentionLayer(hid_dim, n_heads, dropout, device)\n",
        "        self.encoder_attention = MultiHeadAttentionLayer(hid_dim, n_heads, dropout, device)\n",
        "        self.positionwise_feedforward = PositionwiseFeedforwardLayer(hid_dim,\n",
        "                                                                     pf_dim,\n",
        "                                                                     dropout)\n",
        "        self.dropout = nn.Dropout(dropout)\n",
        "\n",
        "    def forward(self, trg, enc_src, trg_mask, src_mask):\n",
        "\n",
        "        #trg = [batch size, trg len, hid dim]\n",
        "        #enc_src = [batch size, src len, hid dim]\n",
        "        #trg_mask = [batch size, 1, trg len, trg len]\n",
        "        #src_mask = [batch size, 1, 1, src len]\n",
        "\n",
        "        #self attention\n",
        "        _trg, _ = self.self_attention(trg, trg, trg, trg_mask)\n",
        "\n",
        "        #dropout, residual connection and layer norm\n",
        "        trg = self.self_attn_layer_norm(trg + self.dropout(_trg))\n",
        "\n",
        "        #trg = [batch size, trg len, hid dim]\n",
        "\n",
        "        #encoder attention\n",
        "        _trg, attention = self.encoder_attention(trg, enc_src, enc_src, src_mask)\n",
        "\n",
        "        #dropout, residual connection and layer norm\n",
        "        trg = self.enc_attn_layer_norm(trg + self.dropout(_trg))\n",
        "\n",
        "        #trg = [batch size, trg len, hid dim]\n",
        "\n",
        "        #positionwise feedforward\n",
        "        _trg = self.positionwise_feedforward(trg)\n",
        "\n",
        "        #dropout, residual and layer norm\n",
        "        trg = self.ff_layer_norm(trg + self.dropout(_trg))\n",
        "\n",
        "        #trg = [batch size, trg len, hid dim]\n",
        "        #attention = [batch size, n heads, trg len, src len]\n",
        "\n",
        "        return trg, attention"
      ],
      "execution_count": null,
      "outputs": []
    },
    {
      "cell_type": "markdown",
      "metadata": {
        "id": "-GHVs7BnA6GV"
      },
      "source": [
        "### Seq2Seq\n",
        "\n",
        "Finalmente, tenemos el módulo `Seq2Seq` que encapsula el encoder y decoder, además de manejar la creación de las máscaras.\n",
        "\n",
        "La máscara de origen se crea comprobando dónde la secuencia de origen no es igual a un token `<pad>`. Es 1 cuando el token no es un token `<pad>` y 0 cuando lo es. Luego se hace un unsqueeze para que se pueda aplicar correctamente el broadcast al aplicar la máscara a la \"energía\", que tiene forma **_[batch size, n heads, seq len, seq len]_**.\n",
        "\n",
        "La máscara de destino es un poco más complicada. Primero, creamos una máscara para los tokens `<pad>`, como hicimos para la máscara de origen. A continuación, creamos una máscara \"subsecuente\", `trg_sub_mask`, usando` torch.tril`. Esto crea una matriz diagonal donde los elementos por encima de la diagonal serán cero y los elementos por debajo de la diagonal se establecerán en lo que sea que valga el tensor de entrada. En este caso, el tensor de entrada será un tensor lleno de unos. Entonces esto significa que nuestro `trg_sub_mask` se verá así (para un objetivo con 5 tokens):\n",
        "\n",
        "$$\\begin{matrix}\n",
        "1 & 0 & 0 & 0 & 0\\\\\n",
        "1 & 1 & 0 & 0 & 0\\\\\n",
        "1 & 1 & 1 & 0 & 0\\\\\n",
        "1 & 1 & 1 & 1 & 0\\\\\n",
        "1 & 1 & 1 & 1 & 1\\\\\n",
        "\\end{matrix}$$\n",
        "\n",
        "Esto muestra lo que cada token de destino (fila) está autorizado a mirar (columna). El primer token de destino tiene una máscara de **_[1, 0, 0, 0, 0]_**, lo que significa que solo puede mirarse a sí mismo. El segundo token de destino tiene una máscara de **_[1, 1, 0, 0, 0]_**, lo que significa que puede ver el primer y el segundo token de destino.\n",
        "\n",
        "A continuación, a la máscara \"subsecuente\" se le aplica un AND lógico con la máscara de relleno, esto combina las dos máscaras, lo que garantiza que no se puedan atender ni a los tokens posteriores ni a los tokens de relleno. Por ejemplo, si los dos últimos tokens fueran tokens `<pad>`, la máscara se vería así:\n",
        "\n",
        "$$\\begin{matrix}\n",
        "1 & 0 & 0 & 0 & 0\\\\\n",
        "1 & 1 & 0 & 0 & 0\\\\\n",
        "1 & 1 & 1 & 0 & 0\\\\\n",
        "1 & 1 & 1 & 0 & 0\\\\\n",
        "1 & 1 & 1 & 0 & 0\\\\\n",
        "\\end{matrix}$$\n",
        "\n",
        "Una vez creadas las máscaras, se utilizan con el encoder y el decoder junto con las oraciones de origen y destino para obtener nuestra oración de destino predicha, `output`, junto con la atención del decoder sobre la secuencia de origen."
      ]
    },
    {
      "cell_type": "code",
      "metadata": {
        "id": "IuRrbmDMA6GV"
      },
      "source": [
        "class Seq2Seq(nn.Module):\n",
        "    def __init__(self,\n",
        "                 encoder,\n",
        "                 decoder,\n",
        "                 src_pad_idx,\n",
        "                 trg_pad_idx,\n",
        "                 device):\n",
        "        super().__init__()\n",
        "\n",
        "        self.encoder = encoder\n",
        "        self.decoder = decoder\n",
        "        self.src_pad_idx = src_pad_idx\n",
        "        self.trg_pad_idx = trg_pad_idx\n",
        "        self.device = device\n",
        "\n",
        "    def make_src_mask(self, src):\n",
        "\n",
        "        #src = [batch size, src len]\n",
        "\n",
        "        src_mask = (src != self.src_pad_idx).unsqueeze(1).unsqueeze(2)\n",
        "\n",
        "        #src_mask = [batch size, 1, 1, src len]\n",
        "\n",
        "        return src_mask\n",
        "\n",
        "    def make_trg_mask(self, trg):\n",
        "\n",
        "        #trg = [batch size, trg len]\n",
        "\n",
        "        trg_pad_mask = (trg != self.trg_pad_idx).unsqueeze(1).unsqueeze(2)\n",
        "\n",
        "        #trg_pad_mask = [batch size, 1, 1, trg len]\n",
        "\n",
        "        trg_len = trg.shape[1]\n",
        "\n",
        "        trg_sub_mask = torch.tril(torch.ones((trg_len, trg_len), device = self.device)).bool()\n",
        "\n",
        "        #trg_sub_mask = [trg len, trg len]\n",
        "\n",
        "        trg_mask = trg_pad_mask & trg_sub_mask\n",
        "\n",
        "        #trg_mask = [batch size, 1, trg len, trg len]\n",
        "\n",
        "        return trg_mask\n",
        "\n",
        "    def forward(self, src, trg):\n",
        "\n",
        "        #src = [batch size, src len]\n",
        "        #trg = [batch size, trg len]\n",
        "\n",
        "        src_mask = self.make_src_mask(src)\n",
        "        trg_mask = self.make_trg_mask(trg)\n",
        "\n",
        "        #src_mask = [batch size, 1, 1, src len]\n",
        "        #trg_mask = [batch size, 1, trg len, trg len]\n",
        "\n",
        "        enc_src = self.encoder(src, src_mask)\n",
        "\n",
        "        #enc_src = [batch size, src len, hid dim]\n",
        "\n",
        "        output, attention = self.decoder(trg, enc_src, trg_mask, src_mask)\n",
        "\n",
        "        #output = [batch size, trg len, output dim]\n",
        "        #attention = [batch size, n heads, trg len, src len]\n",
        "\n",
        "        return output, attention"
      ],
      "execution_count": null,
      "outputs": []
    },
    {
      "cell_type": "markdown",
      "metadata": {
        "id": "YPpapCBrA6GW"
      },
      "source": [
        "## Entrenamiento del modelo Seq2Seq\n",
        "\n",
        "Ahora podemos definir nuestro encoder y decoder. Este modelo es significativamente más pequeño que los Transformers que se utilizan en investigación hoy en día, pero se puede ejecutar rápidamente en una sola GPU."
      ]
    },
    {
      "cell_type": "code",
      "metadata": {
        "id": "E2WlzQbOA6GW"
      },
      "source": [
        "INPUT_DIM = len(vocab_src.get_itos())\n",
        "OUTPUT_DIM = len(vocab_tgt.get_itos())\n",
        "HID_DIM = 256\n",
        "ENC_LAYERS = 3\n",
        "DEC_LAYERS = 3\n",
        "ENC_HEADS = 8\n",
        "DEC_HEADS = 8\n",
        "ENC_PF_DIM = 512\n",
        "DEC_PF_DIM = 512\n",
        "ENC_DROPOUT = 0.1\n",
        "DEC_DROPOUT = 0.1\n",
        "\n",
        "enc = Encoder(INPUT_DIM,\n",
        "              HID_DIM,\n",
        "              ENC_LAYERS,\n",
        "              ENC_HEADS,\n",
        "              ENC_PF_DIM,\n",
        "              ENC_DROPOUT,\n",
        "              device)\n",
        "\n",
        "dec = Decoder(OUTPUT_DIM,\n",
        "              HID_DIM,\n",
        "              DEC_LAYERS,\n",
        "              DEC_HEADS,\n",
        "              DEC_PF_DIM,\n",
        "              DEC_DROPOUT,\n",
        "              device)\n",
        "\n"
      ],
      "execution_count": null,
      "outputs": []
    },
    {
      "cell_type": "markdown",
      "metadata": {
        "id": "_kR-iHeZA6GW"
      },
      "source": [
        "Luego, los utilizamos para definir todo nuestro modelo de secuencia a secuencia encapsulado."
      ]
    },
    {
      "cell_type": "code",
      "metadata": {
        "id": "DSJbATbDA6GW"
      },
      "source": [
        "SRC_PAD_IDX = vocab_src['<pad>']\n",
        "TGT_PAD_IDX = vocab_tgt['<pad>']\n",
        "\n",
        "model = Seq2Seq(enc, dec, SRC_PAD_IDX, TGT_PAD_IDX, device).to(device)"
      ],
      "execution_count": null,
      "outputs": []
    },
    {
      "cell_type": "markdown",
      "metadata": {
        "id": "dBGeDuqqA6GW"
      },
      "source": [
        "Podemos verificar el número de parámetros..."
      ]
    },
    {
      "cell_type": "code",
      "metadata": {
        "id": "3McPPu0LA6GW",
        "outputId": "977605db-1a00-4034-ee87-bbd43ad6463a",
        "colab": {
          "base_uri": "https://localhost:8080/"
        }
      },
      "source": [
        "def count_parameters(model):\n",
        "    return sum(p.numel() for p in model.parameters() if p.requires_grad)\n",
        "\n",
        "print(f'The model has {count_parameters(model):,} trainable parameters')"
      ],
      "execution_count": null,
      "outputs": [
        {
          "output_type": "stream",
          "name": "stdout",
          "text": [
            "The model has 13,153,404 trainable parameters\n"
          ]
        }
      ]
    },
    {
      "cell_type": "markdown",
      "metadata": {
        "id": "w54TbGfXA6GX"
      },
      "source": [
        "El documento no menciona qué esquema de inicialización de pesos se usó, sin embargo, Xavier parece ser común entre los modelos de Transformer, así que lo usamos aquí."
      ]
    },
    {
      "cell_type": "code",
      "metadata": {
        "id": "9FO86PNJA6GX"
      },
      "source": [
        "def initialize_weights(m):\n",
        "    if hasattr(m, 'weight') and m.weight.dim() > 1:\n",
        "        nn.init.xavier_uniform_(m.weight.data)"
      ],
      "execution_count": null,
      "outputs": []
    },
    {
      "cell_type": "code",
      "metadata": {
        "id": "bpE5QBwLA6GX"
      },
      "source": [
        "model.apply(initialize_weights);"
      ],
      "execution_count": null,
      "outputs": []
    },
    {
      "cell_type": "markdown",
      "metadata": {
        "id": "UbaglMWaA6GY"
      },
      "source": [
        "El optimizador utilizado en el paper original de Transformer utiliza a Adam con una tasa de aprendizaje que tiene un período de \"calentamiento\" y luego un período de \"enfriamiento\". BERT y otros modelos de Transformer usan Adam con una tasa de aprendizaje fija, así que lo vamos a implementar así. Consulte  [este](http://nlp.seas.harvard.edu/2018/04/03/attention.html#optimizer) enlace para obtener más detalles sobre la programación de la tasa de aprendizaje del Transformer original.\n",
        "\n",
        "Tenga en cuenta que la tasa de aprendizaje debe ser más baja que la predeterminada utilizada por Adam o, de lo contrario, el aprendizaje es inestable."
      ]
    },
    {
      "cell_type": "code",
      "metadata": {
        "id": "Lruyu6kNA6GY"
      },
      "source": [
        "LEARNING_RATE = 0.0005\n",
        "\n",
        "optimizer = torch.optim.Adam(model.parameters(), lr = LEARNING_RATE)"
      ],
      "execution_count": null,
      "outputs": []
    },
    {
      "cell_type": "markdown",
      "metadata": {
        "id": "CA4cYzRHA6GY"
      },
      "source": [
        "A continuación, definimos nuestra función de pérdida, asegurándonos de ignorar las pérdidas calculadas sobre los tokens `<pad>`."
      ]
    },
    {
      "cell_type": "code",
      "metadata": {
        "id": "Ge2EpK6HA6GY"
      },
      "source": [
        "criterion = nn.CrossEntropyLoss(ignore_index = TGT_PAD_IDX)"
      ],
      "execution_count": null,
      "outputs": []
    },
    {
      "cell_type": "markdown",
      "metadata": {
        "id": "gjE6_AqrA6GZ"
      },
      "source": [
        "Luego, vamos a definir nuestro ciclo de entrenamiento.\n",
        "\n",
        "Como queremos que nuestro modelo prediga el token `<eos>` pero que no sea una entrada en nuestro modelo, simplemente cortamos el token `<eos>` del final de la secuencia. Por lo tanto:\n",
        "\n",
        "$$\\begin{align*}\n",
        "\\text{trg} &= [sos, x_1, x_2, x_3, eos]\\\\\n",
        "\\text{trg[:-1]} &= [sos, x_1, x_2, x_3]\n",
        "\\end{align*}$$\n",
        "\n",
        "$ x_i $ denota el elemento real de la secuencia objetivo. Luego introducimos esto en el modelo para obtener una secuencia predicha que, con suerte, debería predecir el token `<eos>`:\n",
        "\n",
        "$$\\begin{align*}\n",
        "\\text{output} &= [y_1, y_2, y_3, eos]\n",
        "\\end{align*}$$\n",
        "\n",
        "$ y_i $ denota el elemento de secuencia objetivo predicho. Luego calculamos nuestra pérdida usando el tensor `trg` original con la ficha` <sos> ` eliminada del frente, dejando la ficha` <eos> `:\n",
        "\n",
        "$$\\begin{align*}\n",
        "\\text{output} &= [y_1, y_2, y_3, eos]\\\\\n",
        "\\text{trg[1:]} &= [x_1, x_2, x_3, eos]\n",
        "\\end{align*}$$\n",
        "\n",
        "Luego calculamos nuestras pérdidas y actualizamos nuestros parámetros como es estándar."
      ]
    },
    {
      "cell_type": "code",
      "metadata": {
        "id": "rErUo2hfA6GZ"
      },
      "source": [
        "def train(model, iterator, optimizer, criterion, clip):\n",
        "\n",
        "    model.train()\n",
        "\n",
        "    epoch_loss = 0\n",
        "\n",
        "    for i, batch in enumerate(iterator):\n",
        "        src, trg = batch\n",
        "        src, trg = src.permute(1,0).to(device), trg.permute(1,0).to(device)\n",
        "\n",
        "        optimizer.zero_grad()\n",
        "\n",
        "\n",
        "        output, _ = model(src, trg[:,:-1])\n",
        "\n",
        "        #output = [batch size, trg len - 1, output dim]\n",
        "        #trg = [batch size, trg len]\n",
        "\n",
        "        output_dim = output.shape[-1]\n",
        "\n",
        "        output = output.contiguous().view(-1, output_dim)\n",
        "        trg = trg[:,1:].contiguous().view(-1)\n",
        "\n",
        "        #output = [batch size * trg len - 1, output dim]\n",
        "        #trg = [batch size * trg len - 1]\n",
        "\n",
        "        loss = criterion(output, trg)\n",
        "\n",
        "        loss.backward()\n",
        "\n",
        "        torch.nn.utils.clip_grad_norm_(model.parameters(), clip)\n",
        "\n",
        "        optimizer.step()\n",
        "\n",
        "        epoch_loss += loss.item()\n",
        "\n",
        "    return epoch_loss / len(iterator)"
      ],
      "execution_count": null,
      "outputs": []
    },
    {
      "cell_type": "markdown",
      "metadata": {
        "id": "-FlhnAZIA6GZ"
      },
      "source": [
        "El ciclo de evaluación es el mismo que el ciclo de entrenamiento, solo que sin los cálculos de gradiente y las actualizaciones de parámetros."
      ]
    },
    {
      "cell_type": "code",
      "metadata": {
        "id": "HlTv3eYaA6GZ"
      },
      "source": [
        "def evaluate(model, iterator, criterion):\n",
        "\n",
        "    model.eval()\n",
        "\n",
        "    epoch_loss = 0\n",
        "\n",
        "    with torch.no_grad():\n",
        "\n",
        "        for i, batch in enumerate(iterator):\n",
        "            src, trg = batch\n",
        "            src, trg = src.permute(1,0).to(device), trg.permute(1,0).to(device)\n",
        "            output, _ = model(src, trg[:,:-1])\n",
        "\n",
        "            #output = [batch size, trg len - 1, output dim]\n",
        "            #trg = [batch size, trg len]\n",
        "\n",
        "            output_dim = output.shape[-1]\n",
        "\n",
        "            output = output.contiguous().view(-1, output_dim)\n",
        "            trg = trg[:,1:].contiguous().view(-1)\n",
        "\n",
        "            #output = [batch size * trg len - 1, output dim]\n",
        "            #trg = [batch size * trg len - 1]\n",
        "\n",
        "            loss = criterion(output, trg)\n",
        "\n",
        "            epoch_loss += loss.item()\n",
        "\n",
        "    return epoch_loss / len(iterator)"
      ],
      "execution_count": null,
      "outputs": []
    },
    {
      "cell_type": "markdown",
      "metadata": {
        "id": "VtwlY6t-A6Ga"
      },
      "source": [
        "Luego definimos una pequeña función que podemos usar para decirnos cuánto tarda una época."
      ]
    },
    {
      "cell_type": "code",
      "metadata": {
        "id": "Zu2ZVoOlA6Gb"
      },
      "source": [
        "def epoch_time(start_time, end_time):\n",
        "    elapsed_time = end_time - start_time\n",
        "    elapsed_mins = int(elapsed_time / 60)\n",
        "    elapsed_secs = int(elapsed_time - (elapsed_mins * 60))\n",
        "    return elapsed_mins, elapsed_secs"
      ],
      "execution_count": null,
      "outputs": []
    },
    {
      "cell_type": "markdown",
      "metadata": {
        "id": "pdSyPhFQA6Gb"
      },
      "source": [
        "Finalmente, entrenamos nuestro modelo."
      ]
    },
    {
      "cell_type": "code",
      "metadata": {
        "id": "LInHGoULA6Gb",
        "outputId": "496d1817-1ac0-4b65-db9b-ed88d21a04fc",
        "colab": {
          "base_uri": "https://localhost:8080/"
        }
      },
      "source": [
        "N_EPOCHS = 10\n",
        "CLIP = 1\n",
        "\n",
        "best_valid_loss = float('inf')\n",
        "\n",
        "for epoch in range(N_EPOCHS):\n",
        "\n",
        "    start_time = time.time()\n",
        "\n",
        "    train_loss = train(model, train_iter, optimizer, criterion, CLIP)\n",
        "    valid_loss = evaluate(model, val_iter, criterion)\n",
        "\n",
        "    end_time = time.time()\n",
        "\n",
        "    epoch_mins, epoch_secs = epoch_time(start_time, end_time)\n",
        "\n",
        "    if valid_loss < best_valid_loss:\n",
        "        best_valid_loss = valid_loss\n",
        "        torch.save(model.state_dict(), 'tut6-model.pt')\n",
        "\n",
        "    print(f'Epoch: {epoch+1:02} | Time: {epoch_mins}m {epoch_secs}s')\n",
        "    print(f'\\tTrain Loss: {train_loss:.3f} | Train PPL: {math.exp(train_loss):7.3f}')\n",
        "    print(f'\\t Val. Loss: {valid_loss:.3f} |  Val. PPL: {math.exp(valid_loss):7.3f}')"
      ],
      "execution_count": null,
      "outputs": [
        {
          "output_type": "stream",
          "name": "stdout",
          "text": [
            "Epoch: 01 | Time: 1m 3s\n",
            "\tTrain Loss: 3.475 | Train PPL:  32.304\n",
            "\t Val. Loss: 2.413 |  Val. PPL:  11.163\n",
            "Epoch: 02 | Time: 1m 0s\n",
            "\tTrain Loss: 2.023 | Train PPL:   7.561\n",
            "\t Val. Loss: 1.742 |  Val. PPL:   5.707\n",
            "Epoch: 03 | Time: 0m 59s\n",
            "\tTrain Loss: 1.492 | Train PPL:   4.447\n",
            "\t Val. Loss: 1.508 |  Val. PPL:   4.520\n",
            "Epoch: 04 | Time: 1m 1s\n",
            "\tTrain Loss: 1.226 | Train PPL:   3.408\n",
            "\t Val. Loss: 1.387 |  Val. PPL:   4.003\n",
            "Epoch: 05 | Time: 1m 3s\n",
            "\tTrain Loss: 1.064 | Train PPL:   2.898\n",
            "\t Val. Loss: 1.324 |  Val. PPL:   3.757\n",
            "Epoch: 06 | Time: 1m 1s\n",
            "\tTrain Loss: 0.954 | Train PPL:   2.596\n",
            "\t Val. Loss: 1.289 |  Val. PPL:   3.628\n",
            "Epoch: 07 | Time: 1m 0s\n",
            "\tTrain Loss: 0.868 | Train PPL:   2.381\n",
            "\t Val. Loss: 1.282 |  Val. PPL:   3.604\n",
            "Epoch: 08 | Time: 1m 1s\n",
            "\tTrain Loss: 0.801 | Train PPL:   2.227\n",
            "\t Val. Loss: 1.272 |  Val. PPL:   3.567\n",
            "Epoch: 09 | Time: 1m 0s\n",
            "\tTrain Loss: 0.749 | Train PPL:   2.114\n",
            "\t Val. Loss: 1.339 |  Val. PPL:   3.816\n",
            "Epoch: 10 | Time: 1m 0s\n",
            "\tTrain Loss: 0.703 | Train PPL:   2.020\n",
            "\t Val. Loss: 1.288 |  Val. PPL:   3.625\n"
          ]
        }
      ]
    },
    {
      "cell_type": "markdown",
      "metadata": {
        "id": "5otdslonA6Gc"
      },
      "source": [
        "Cargamos nuestros \"mejores\" parámetros y logramos lograr una mejor perplejidad de prueba que todos los modelos que probamos en clases anteriores."
      ]
    },
    {
      "cell_type": "code",
      "metadata": {
        "id": "R0ONyrtpA6Gd",
        "outputId": "39dc8176-9239-4b1b-accc-e212e29fff23",
        "colab": {
          "base_uri": "https://localhost:8080/"
        }
      },
      "source": [
        "model.load_state_dict(torch.load('tut6-model.pt'))\n",
        "\n",
        "test_loss = evaluate(model, test_iter, criterion)\n",
        "\n",
        "print(f'| Test Loss: {test_loss:.3f} | Test PPL: {math.exp(test_loss):7.3f} |')"
      ],
      "execution_count": null,
      "outputs": [
        {
          "output_type": "stream",
          "name": "stdout",
          "text": [
            "| Test Loss: 1.274 | Test PPL:   3.574 |\n"
          ]
        }
      ]
    },
    {
      "cell_type": "markdown",
      "source": [
        "## Inferencia"
      ],
      "metadata": {
        "id": "j9wF9q6SSNVv"
      }
    },
    {
      "cell_type": "markdown",
      "metadata": {
        "id": "UYbtH6AJA6Gd"
      },
      "source": [
        "\n",
        "\n",
        "Ahora con nuestro modelo podemos realizar traducciones con la función `translate_sentence` a continuación.\n",
        "\n",
        "Los pasos dados son:\n",
        "- tokenizar la oración origen si no se ha tokenizado\n",
        "- añadir los tokens `<bos>` y `<eos>`\n",
        "- numericalizar la oración fuente (asignarle un entero a cada token)\n",
        "- convertir en un tensor y agregar una dimensión de lote\n",
        "- crear la máscara de la oración fuente\n",
        "- alimentar la frase origen y la máscara en el encoder\n",
        "- crear una lista para contener la oración de salida, inicializada con un token `<sos>`\n",
        "- mientras no hayamos alcanzado una longitud máxima\n",
        "  - convertir la predicción actual de la oración de salida en un tensor con una dimensión de lote\n",
        "  - crear una máscara de oración de destino\n",
        "  - colocar la salida actual, la salida del encoder y ambas máscaras en el decoder\n",
        "  - obtener la próxima predicción del token de salida del decoder junto con la atención\n",
        "  - agregar predicción a la lista de predicciones de la oración de salida actual\n",
        "  - meter un break si la predicción fue un token `<eos>`\n",
        "- convertir la oración de salida de índices a tokens\n",
        "- devolver la oración de salida (con el token `<sos>` eliminado) y la atención de la última capa"
      ]
    },
    {
      "cell_type": "code",
      "metadata": {
        "id": "EdsX6btTA6Gd"
      },
      "source": [
        "def translate_sentence(sentence, src_vocab, trg_vocab, model, device, max_len = 50):\n",
        "\n",
        "    model.eval()\n",
        "\n",
        "    tokens = [token.lower() for token in sentence]\n",
        "\n",
        "    tokens = tokens[1:]\n",
        "\n",
        "    src_indexes = [src_vocab[token] for token in tokens]\n",
        "\n",
        "    src_tensor = torch.LongTensor(src_indexes).unsqueeze(0).to(device)\n",
        "\n",
        "    src_mask = model.make_src_mask(src_tensor)\n",
        "\n",
        "    with torch.no_grad():\n",
        "        enc_src = model.encoder(src_tensor, src_mask)\n",
        "\n",
        "    trg_indexes = [trg_vocab['<bos>']]\n",
        "\n",
        "    for i in range(max_len):\n",
        "\n",
        "        trg_tensor = torch.LongTensor(trg_indexes).unsqueeze(0).to(device)\n",
        "\n",
        "        trg_mask = model.make_trg_mask(trg_tensor)\n",
        "\n",
        "        with torch.no_grad():\n",
        "            output, attention = model.decoder(trg_tensor, enc_src, trg_mask, src_mask)\n",
        "\n",
        "        pred_token = output.argmax(2)[:,-1].item()\n",
        "\n",
        "        trg_indexes.append(pred_token)\n",
        "\n",
        "        if pred_token == trg_vocab['<eos>']:\n",
        "            break\n",
        "\n",
        "    trg_tokens = [trg_vocab.get_itos()[i] for i in trg_indexes]\n",
        "\n",
        "    return trg_tokens[1:], attention"
      ],
      "execution_count": null,
      "outputs": []
    },
    {
      "cell_type": "markdown",
      "metadata": {
        "id": "DUAFtHzjA6Ge"
      },
      "source": [
        "Ahora definiremos una función que muestra la atención sobre la oración fuente para cada paso de la decodificación. Como este modelo tiene 8 cabezales podemos ver la atención para cada una de ellos."
      ]
    },
    {
      "cell_type": "code",
      "metadata": {
        "id": "JuBWFzL3A6Ge"
      },
      "source": [
        "def display_attention(sentence, translation, attention, n_heads = 8, n_rows = 4, n_cols = 2):\n",
        "\n",
        "    assert n_rows * n_cols == n_heads\n",
        "\n",
        "    fig = plt.figure(figsize=(15,25))\n",
        "\n",
        "    for i in range(n_heads):\n",
        "\n",
        "        ax = fig.add_subplot(n_rows, n_cols, i+1)\n",
        "\n",
        "        _attention = attention.squeeze(0)[i].cpu().detach().numpy()\n",
        "\n",
        "        cax = ax.matshow(_attention, cmap='bone')\n",
        "\n",
        "        ax.tick_params(labelsize=12)\n",
        "        ax.set_xticklabels(['']+[t.lower() for t in sentence],\n",
        "                           rotation=45)\n",
        "        ax.set_yticklabels(['']+translation)\n",
        "\n",
        "        ax.xaxis.set_major_locator(ticker.MultipleLocator(1))\n",
        "        ax.yaxis.set_major_locator(ticker.MultipleLocator(1))\n",
        "\n",
        "    plt.show()\n",
        "    plt.close()"
      ],
      "execution_count": null,
      "outputs": []
    },
    {
      "cell_type": "markdown",
      "metadata": {
        "id": "-5YT-Q3FA6Ge"
      },
      "source": [
        "Primero, obtendremos un ejemplo del conjunto de entrenamiento."
      ]
    },
    {
      "cell_type": "code",
      "source": [
        "example_idx = 8\n",
        "\n",
        "src, length, trg  = train_list[example_idx]\n",
        "print(f'src = {src}')\n",
        "print(f'trg = {trg}')"
      ],
      "metadata": {
        "colab": {
          "base_uri": "https://localhost:8080/"
        },
        "id": "o5h-0p-iWGO9",
        "outputId": "7e6f3ae1-8174-4835-f234-90d5a0a7f224"
      },
      "execution_count": null,
      "outputs": [
        {
          "output_type": "stream",
          "name": "stdout",
          "text": [
            "src = ['i', 'need', 'to', 'see', 'the', 'doctor', '.', '<eos>']\n",
            "trg = ['<bos>', 'necesito', 'ver', 'al', 'doctor', '.', '<eos>']\n"
          ]
        }
      ]
    },
    {
      "cell_type": "markdown",
      "metadata": {
        "id": "ZFIo-PIuA6Ge"
      },
      "source": [
        "Nuestra traducción se ve bastante bien, aunque nuestro modelo cambia *is walking by* por *walks by*. El significado sigue siendo el mismo."
      ]
    },
    {
      "cell_type": "code",
      "metadata": {
        "id": "YLRw8FVOA6Gf",
        "outputId": "3ce04ec6-dd2a-4bcf-95ac-695e28822062",
        "colab": {
          "base_uri": "https://localhost:8080/"
        }
      },
      "source": [
        "translation, attention = translate_sentence(src, vocab_src, vocab_tgt, model, device)\n",
        "\n",
        "print(f'predicted trg = {translation}')"
      ],
      "execution_count": null,
      "outputs": [
        {
          "output_type": "stream",
          "name": "stdout",
          "text": [
            "predicted trg = ['necesito', 'ver', 'al', 'doctor', '.', '<eos>']\n"
          ]
        }
      ]
    },
    {
      "cell_type": "markdown",
      "metadata": {
        "id": "vgzWSchUA6Gf"
      },
      "source": [
        "Podemos ver la atención de cada cabezal a continuación. Cada uno es ciertamente diferente, pero es difícil (quizás imposible) razonar sobre a qué ha aprendido realmente a prestar atención. Algunos cabezales prestan toda su atención a \"eine\" cuando traducen \"a\", otros no lo hacen en absoluto y otros lo hacen un poco. Todos parecen seguir el patrón similar de \"escalera descendente\" y la atención al sacar las dos últimas fichas se distribuye por igual entre las dos últimas fichas de la oración de entrada."
      ]
    },
    {
      "cell_type": "code",
      "metadata": {
        "id": "3_VBMcJaA6Gf",
        "outputId": "97d97e6e-d380-4189-c4bb-9731fa4e9683",
        "colab": {
          "base_uri": "https://localhost:8080/",
          "height": 1000
        }
      },
      "source": [
        "display_attention(src, translation, attention)"
      ],
      "execution_count": null,
      "outputs": [
        {
          "output_type": "display_data",
          "data": {
            "text/plain": [
              "<Figure size 1080x1800 with 8 Axes>"
            ],
            "image/png": "[encoded data removed]"
          },
          "metadata": {
            "needs_background": "light"
          }
        }
      ]
    },
    {
      "cell_type": "markdown",
      "metadata": {
        "id": "sqpyN8iJA6Gg"
      },
      "source": [
        "A continuación, obtengamos un ejemplo con el que no se ha entrenado el modelo desde el conjunto de validación."
      ]
    },
    {
      "cell_type": "code",
      "metadata": {
        "id": "zqXAsupHA6Gg",
        "outputId": "e10eb330-73ac-47d5-8957-f2c7b7c40a8d",
        "colab": {
          "base_uri": "https://localhost:8080/"
        }
      },
      "source": [
        "example_idx = 8\n",
        "\n",
        "src, length, trg  = val_list[example_idx]\n",
        "print(f'src = {src}')\n",
        "print(f'trg = {trg}')"
      ],
      "execution_count": null,
      "outputs": [
        {
          "output_type": "stream",
          "name": "stdout",
          "text": [
            "src = ['please', 'help', 'me', 'cook', '.', '<eos>']\n",
            "trg = ['<bos>', 'ayúdame', 'a', 'cocinar', ',', 'por', 'favor', '.', '<eos>']\n"
          ]
        }
      ]
    },
    {
      "cell_type": "markdown",
      "metadata": {
        "id": "2gQiVLjqA6Gg"
      },
      "source": [
        "El modelo lo traduce cambiando \"*is running*\" a simplemente \"*runs*\", pero es un intercambio aceptable."
      ]
    },
    {
      "cell_type": "code",
      "metadata": {
        "id": "xnhuaDrsA6Gh",
        "outputId": "685e80ae-b15c-4004-c942-fa539ec3ceac",
        "colab": {
          "base_uri": "https://localhost:8080/"
        }
      },
      "source": [
        "translation, attention = translate_sentence(src, vocab_src, vocab_tgt, model, device)\n",
        "\n",
        "print(f'predicted trg = {translation}')"
      ],
      "execution_count": null,
      "outputs": [
        {
          "output_type": "stream",
          "name": "stdout",
          "text": [
            "predicted trg = ['ayúdame', 'a', 'cocinar', '.', '<eos>']\n"
          ]
        }
      ]
    },
    {
      "cell_type": "markdown",
      "metadata": {
        "id": "4LJ0gGPAA6Gh"
      },
      "source": [
        "Una vez más, algunos cabezales prestan total atención a \"ein\" mientras que otros no le prestan atención. Una vez más, la mayoría de los cabezales parecen extender su atención tanto al punto como a los tokens `<eos>` en la oración de origen cuando generan el punto y el token `<eos>` en la oración objetivo predicha, aunque algunos parecen prestar atención a tokens cercanos del comienzo de la oración."
      ]
    },
    {
      "cell_type": "code",
      "metadata": {
        "id": "qYJuvrTqA6Gh",
        "outputId": "ed483530-3774-4dfc-977c-90aba6e8c04a",
        "colab": {
          "base_uri": "https://localhost:8080/",
          "height": 1000
        }
      },
      "source": [
        "display_attention(src, translation, attention)"
      ],
      "execution_count": null,
      "outputs": [
        {
          "output_type": "display_data",
          "data": {
            "text/plain": [
              "<Figure size 1080x1800 with 8 Axes>"
            ],
            "image/png": "[encoded data removed]"
          },
          "metadata": {
            "needs_background": "light"
          }
        }
      ]
    },
    {
      "cell_type": "markdown",
      "metadata": {
        "id": "enVxd6mNA6Gh"
      },
      "source": [
        "Finalmente, veremos un ejemplo de los datos de prueba."
      ]
    },
    {
      "cell_type": "code",
      "metadata": {
        "id": "kZTAn6cDA6Gh",
        "outputId": "cf20a987-3974-4bbe-f1de-005939413a82",
        "colab": {
          "base_uri": "https://localhost:8080/"
        }
      },
      "source": [
        "example_idx = 8\n",
        "\n",
        "src, length, trg  = test_list[example_idx]\n",
        "print(f'src = {src}')\n",
        "print(f'trg = {trg}')"
      ],
      "execution_count": null,
      "outputs": [
        {
          "output_type": "stream",
          "name": "stdout",
          "text": [
            "src = ['he', 'has', 'been', 'busy', '.', '<eos>']\n",
            "trg = ['<bos>', 'él', 'ha', 'estado', 'ocupado', '.', '<eos>']\n"
          ]
        }
      ]
    },
    {
      "cell_type": "markdown",
      "metadata": {
        "id": "AaWdg89NA6Gh"
      },
      "source": [
        "¡Una traducción perfecta!"
      ]
    },
    {
      "cell_type": "code",
      "metadata": {
        "id": "IWpkD9LBA6Gi",
        "outputId": "b11caab8-a1b5-4db2-9f4a-9f30a919d6d3",
        "colab": {
          "base_uri": "https://localhost:8080/"
        }
      },
      "source": [
        "translation, attention = translate_sentence(src, vocab_src, vocab_tgt, model, device)\n",
        "\n",
        "print(f'predicted trg = {translation}')"
      ],
      "execution_count": null,
      "outputs": [
        {
          "output_type": "stream",
          "name": "stdout",
          "text": [
            "predicted trg = ['ha', 'estado', 'ocupado', '.', '<eos>']\n"
          ]
        }
      ]
    },
    {
      "cell_type": "code",
      "metadata": {
        "id": "J2xftlpVA6Gj",
        "outputId": "faaaa507-f6b6-4ad4-836c-3e648f27612d",
        "colab": {
          "base_uri": "https://localhost:8080/",
          "height": 1000
        }
      },
      "source": [
        "display_attention(src, translation, attention)"
      ],
      "execution_count": null,
      "outputs": [
        {
          "output_type": "display_data",
          "data": {
            "text/plain": [
              "<Figure size 1080x1800 with 8 Axes>"
            ],
            "image/png": "[encoded data removed]"
          },
          "metadata": {
            "needs_background": "light"
          }
        }
      ]
    },
    {
      "cell_type": "markdown",
      "metadata": {
        "id": "PgPigiTVA6Gj"
      },
      "source": [
        "## BLEU\n",
        "\n",
        "Finalmente calculamos el BLEU para el Transformer."
      ]
    },
    {
      "cell_type": "code",
      "metadata": {
        "id": "GEclB7RSA6Gj"
      },
      "source": [
        "from torchtext.data.metrics import bleu_score\n",
        "\n",
        "def calculate_bleu(data, src_vocab, trg_vocab, model, device, max_len = 50):\n",
        "\n",
        "    trgs = []\n",
        "    pred_trgs = []\n",
        "\n",
        "    for datum in list(data):\n",
        "        src, length, trg = datum\n",
        "        pred_trg, _ = translate_sentence(src, src_vocab, trg_vocab, model, device, max_len)\n",
        "\n",
        "        #cut off <eos> token\n",
        "        pred_trg = pred_trg[:-1]\n",
        "        trg = trg[1:-1]\n",
        "        pred_trgs.append(pred_trg)\n",
        "        trgs.append([trg])\n",
        "\n",
        "    return bleu_score(pred_trgs, trgs)"
      ],
      "execution_count": null,
      "outputs": []
    },
    {
      "cell_type": "code",
      "metadata": {
        "id": "Yf95cVmgA6Gk",
        "outputId": "1c7373df-23c4-4bc3-eb69-45aac8946a94",
        "colab": {
          "base_uri": "https://localhost:8080/"
        }
      },
      "source": [
        "bleu_score = calculate_bleu(test_list, vocab_src, vocab_tgt, model, device)\n",
        "\n",
        "print(f'BLEU score = {bleu_score*100:.2f}')"
      ],
      "execution_count": null,
      "outputs": [
        {
          "output_type": "stream",
          "name": "stdout",
          "text": [
            "BLEU score = 27.74\n"
          ]
        }
      ]
    }
  ]
}