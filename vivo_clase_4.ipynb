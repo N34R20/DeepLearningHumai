{
  "nbformat": 4,
  "nbformat_minor": 0,
  "metadata": {
    "colab": {
      "provenance": [],
      "include_colab_link": true
    },
    "kernelspec": {
      "name": "python3",
      "display_name": "Python 3"
    },
    "language_info": {
      "name": "python"
    }
  },
  "cells": [
    {
      "cell_type": "markdown",
      "metadata": {
        "id": "view-in-github",
        "colab_type": "text"
      },
      "source": [
        "<a href=\"https://colab.research.google.com/github/N34R20/DeepLearningHumai/blob/main/vivo_clase_4.ipynb\" target=\"_parent\"><img src=\"https://colab.research.google.com/assets/colab-badge.svg\" alt=\"Open In Colab\"/></a>"
      ]
    },
    {
      "cell_type": "code",
      "source": [
        "import torch\n",
        "from torch import nn\n",
        "from torch.nn import functional as F"
      ],
      "metadata": {
        "id": "_Zbg2d6Wg8MC"
      },
      "execution_count": 1,
      "outputs": []
    },
    {
      "cell_type": "code",
      "execution_count": 2,
      "metadata": {
        "id": "0vrSn-fWYZcU"
      },
      "outputs": [],
      "source": [
        "class MySequential(nn.Module):\n",
        "    def __init__(self, *args):\n",
        "        super().__init__()\n",
        "        for idx, module in enumerate(args):\n",
        "            self._modules[str(idx)] = module\n",
        "\n",
        "    def forward(self, X):\n",
        "        for block in self._modules.values():\n",
        "            X = block(X)\n",
        "        return X"
      ]
    },
    {
      "cell_type": "code",
      "source": [
        "class MyLinear(nn.Module):\n",
        "    def __init__(self, in_units, units):\n",
        "        super().__init__()\n",
        "        self.weight = nn.Parameter(torch.randn(in_units, units))\n",
        "        self.bias = nn.Parameter(torch.randn(units,))\n",
        "    def forward(self, X):\n",
        "        linear = torch.matmul(X, self.weight.data) + self.bias.data\n",
        "        return F.relu(linear)"
      ],
      "metadata": {
        "id": "WBNN8W4dhbRZ"
      },
      "execution_count": 3,
      "outputs": []
    },
    {
      "cell_type": "code",
      "source": [
        "class FixedHiddenMLP(nn.Module):\n",
        "    def __init__(self):\n",
        "        super().__init__()\n",
        "        # Random weight parameters for which gradients will not be computed and,\n",
        "        # thus, kept constant during training\n",
        "        self.rand_weight = torch.rand((20, 20), requires_grad=False)\n",
        "        self.linear = nn.Linear(20, 20)\n",
        "\n",
        "    def forward(self, X):\n",
        "        X = self.linear(X)\n",
        "        # Use the constant parameters created, as well as `relu` and `mm` functions\n",
        "        X = F.relu(torch.mm(X, self.rand_weight) + 1)\n",
        "        # Reuses the fully connected layer. This is equivalent to two fully connected\n",
        "        # layers sharing parameters\n",
        "        X = self.linear(X)\n",
        "        # Control flow\n",
        "        while X.abs().sum() > 1:\n",
        "            X /= 2\n",
        "        return X.sum()\n"
      ],
      "metadata": {
        "id": "Y247Ipqnk62E"
      },
      "execution_count": 4,
      "outputs": []
    },
    {
      "cell_type": "code",
      "source": [
        "class CenteredLayer(nn.Module):\n",
        "    def __init__(self):\n",
        "        super().__init__()\n",
        "\n",
        "    def forward(self, X):\n",
        "        return X - X.mean()"
      ],
      "metadata": {
        "id": "EQLwbb40hf2P"
      },
      "execution_count": 5,
      "outputs": []
    },
    {
      "cell_type": "code",
      "source": [
        "def init_normal(m):\n",
        "    if type(m) == nn.Linear:\n",
        "        nn.init.normal_(m.weight, mean=0, std=0.01)\n",
        "        nn.init.zeros_(m.bias)"
      ],
      "metadata": {
        "id": "OV_0gcqkhjkh"
      },
      "execution_count": 6,
      "outputs": []
    },
    {
      "cell_type": "markdown",
      "source": [
        "1. Crea una nueva clase denominada MyCustomNet que herede de MySequential. Esta nueva red debe incorporar al menos dos capas lineales definidas por la clase MyLinear y una capa de normalización centrada (CenteredLayer). Los parámetros de las capas lineales quedan a tu discreción, pero ten en cuenta la compatibilidad de las dimensiones."
      ],
      "metadata": {
        "id": "6MHByiqvDrjY"
      }
    },
    {
      "cell_type": "code",
      "source": [
        "# 1. Crear una nueva clase de red\n",
        "class MyCustomNet(MySequential):\n",
        "  def __init__(self):\n",
        "    super().__init__(MyLinear(10, 20),\n",
        "    CenteredLayer(),\n",
        "    MyLinear(20, 5))\n",
        "\n"
      ],
      "metadata": {
        "id": "wybeVmaEDt7s"
      },
      "execution_count": 80,
      "outputs": []
    },
    {
      "cell_type": "markdown",
      "source": [
        "2. Inicializa la red MyCustomNet y aplica la inicialización normal. Luego, imprime los pesos y bias de la primera capa lineal del modelo."
      ],
      "metadata": {
        "id": "V6wVF7eiDvU8"
      }
    },
    {
      "cell_type": "code",
      "source": [
        "for x in net.state_dict():\n",
        "  print(net.state_dict()[x].shape)"
      ],
      "metadata": {
        "id": "7f7NIszKY5Jd",
        "outputId": "f770022c-91fd-4f17-cbaa-5f2a6b6495f7",
        "colab": {
          "base_uri": "https://localhost:8080/"
        }
      },
      "execution_count": 81,
      "outputs": [
        {
          "output_type": "stream",
          "name": "stdout",
          "text": [
            "torch.Size([10, 20])\n",
            "torch.Size([20])\n",
            "torch.Size([20, 5])\n",
            "torch.Size([5])\n"
          ]
        }
      ]
    },
    {
      "cell_type": "code",
      "source": [
        "# 2. Inicializar y aplicar la inicialización normal. Imprimir los pesos\n",
        "\n",
        "net = MyCustomNet()\n",
        "net.apply(init_normal)\n",
        "\n",
        "print(\"pesos primer capa \\n\", net._modules['0'].weight.data, \"\\n\")\n",
        "print(\"bias primer capa \\n\",  net._modules['0'].bias.data, \"\\n\")\n",
        "print(\"pesos tercer capa \\n\", net._modules['2'].weight.data, \"\\n\")\n",
        "print(\"bias tercer capa \\n\", net._modules['2'].bias.data, \"\\n\")"
      ],
      "metadata": {
        "id": "PKFT8J7yDzHm",
        "outputId": "591e42a9-c024-4fbd-e76e-af361c8d9f55",
        "colab": {
          "base_uri": "https://localhost:8080/"
        }
      },
      "execution_count": 84,
      "outputs": [
        {
          "output_type": "stream",
          "name": "stdout",
          "text": [
            "pesos primer capa \n",
            " tensor([[ 1.7616, -0.0072, -1.5197,  0.7433, -1.8664, -0.4593,  0.2137,  0.9204,\n",
            "         -0.7881, -0.4063,  1.2151, -1.1631, -0.2710, -1.7196, -0.8544,  0.3439,\n",
            "         -1.5644, -0.8086,  0.1395, -0.3382],\n",
            "        [-0.0293,  0.9719, -0.5568, -0.1523,  0.3836,  0.2594,  0.5429, -0.0175,\n",
            "         -0.5591, -0.1506, -0.5539, -1.4990, -0.7488,  0.0085, -1.4280,  2.0146,\n",
            "          0.8386,  0.6251, -0.5426,  0.4333],\n",
            "        [-0.3225, -0.6956, -0.9639, -0.8935, -0.2561,  0.3474,  1.1949, -1.7606,\n",
            "         -1.4442, -1.7526, -0.2415,  0.2798, -0.7187,  0.0372, -0.4341,  1.5997,\n",
            "         -0.1551, -0.7451,  0.3334,  0.3546],\n",
            "        [ 0.6258, -0.1696,  0.5785, -1.0781,  2.0216, -1.3460, -1.5602, -0.3701,\n",
            "         -0.2821,  0.4759, -0.8959,  2.6348, -0.8305, -0.4017,  1.1588, -1.4111,\n",
            "         -0.0907, -0.0321,  0.5335, -0.7593],\n",
            "        [ 1.4215, -1.7267,  0.6872,  0.1680, -2.0252, -0.5191,  1.3700,  1.4379,\n",
            "          0.8016, -0.7865, -1.5478,  1.3349, -0.6247, -1.1626,  1.9645, -0.1868,\n",
            "         -1.0969,  0.9165, -1.4111,  0.0169],\n",
            "        [-0.7227,  0.1421,  1.9429, -0.8017, -1.3444, -0.0540, -0.0393, -0.1672,\n",
            "          0.9539,  1.3849,  1.0005, -0.0421,  0.0449, -0.7527, -0.2884, -0.5099,\n",
            "         -1.9285, -0.0562, -0.4730,  0.8633],\n",
            "        [ 1.4282, -0.7382, -0.4505, -1.2373, -0.5802,  0.1199,  1.0162, -0.0869,\n",
            "          1.6484, -0.4900,  0.2661,  0.7582, -0.4410, -2.0780,  1.9940,  1.3379,\n",
            "         -0.2414,  0.4037,  0.2686,  1.1398],\n",
            "        [ 0.9354, -0.4601, -0.4370,  0.1029, -0.4625, -2.9412, -0.6592,  1.1715,\n",
            "         -1.6149,  0.2126,  0.1282, -2.0209, -0.4111, -1.6459, -1.2690, -1.1585,\n",
            "          2.1566, -0.9472,  0.1340, -0.4512],\n",
            "        [ 1.0480,  0.7154,  1.4179, -0.4261, -0.0434, -0.4001,  1.2401, -0.1465,\n",
            "          1.0728, -0.0310,  0.5035,  1.0084,  0.1072, -0.1719, -0.2800, -0.2524,\n",
            "         -0.8070,  1.1917, -0.8892, -0.5907],\n",
            "        [-1.0908, -0.1078,  1.0049, -0.0147, -0.1379, -2.4091,  1.3290, -0.2802,\n",
            "          0.1610,  0.6332, -1.6680, -0.1905, -0.8583, -0.0425,  0.5068, -0.2268,\n",
            "          1.2371, -0.6886, -0.3155,  0.5522]]) \n",
            "\n",
            "bias primer capa \n",
            " tensor([ 1.7099,  1.4078,  0.5043,  0.3446,  1.0914, -1.7629, -2.2394, -0.6909,\n",
            "         0.0446,  0.3097, -0.4593,  1.0140, -0.7371,  2.1594,  1.3164,  0.1529,\n",
            "        -2.1499,  0.5039,  0.6800,  2.6749]) \n",
            "\n",
            "pesos tercer capa \n",
            " tensor([[-0.5105,  0.6787, -0.6597,  0.5065, -0.3916],\n",
            "        [-0.1307,  0.7945,  1.0127,  0.5938,  0.9957],\n",
            "        [ 0.3566,  0.2124,  0.8702, -0.2407, -0.0672],\n",
            "        [-0.1668, -1.1922,  1.1089, -0.8660, -1.4785],\n",
            "        [ 0.6796,  1.2020, -0.5200,  0.6678,  0.4962],\n",
            "        [-1.6687, -0.5461, -2.1316,  1.0448, -2.2066],\n",
            "        [-0.3525, -0.1063,  0.0381,  1.4185,  0.7542],\n",
            "        [-0.0448, -0.0357, -0.7330,  0.8687,  1.4147],\n",
            "        [ 0.4823, -0.4284, -0.6796,  1.7252, -1.1891],\n",
            "        [-0.8329,  0.3878,  0.9753,  0.4817, -0.9909],\n",
            "        [ 0.2575, -0.1661,  0.2990,  1.5695,  0.8266],\n",
            "        [-0.6849, -0.3717, -0.6473, -0.3699,  0.0324],\n",
            "        [ 0.0545,  0.0585, -1.0224, -1.2450,  0.2741],\n",
            "        [-0.5200,  1.2660,  0.6738,  0.5616, -0.1397],\n",
            "        [ 1.7834, -0.0800,  0.2584, -0.5270,  0.6739],\n",
            "        [-0.8503,  0.3343, -2.1690,  0.0971, -1.0604],\n",
            "        [-1.0712, -0.8690, -0.4882, -0.4785,  0.0616],\n",
            "        [ 1.5644, -0.5637, -0.1883,  0.4770, -0.3475],\n",
            "        [-0.4050,  2.2189, -0.9670, -0.8359,  0.1952],\n",
            "        [ 1.9511,  0.2416,  0.3823,  2.8444, -2.5808]]) \n",
            "\n",
            "bias tercer capa \n",
            " tensor([-0.6579,  0.4614,  0.6677,  1.4850,  1.7096]) \n",
            "\n"
          ]
        }
      ]
    },
    {
      "cell_type": "markdown",
      "source": [
        "3. Guarda los parámetros del modelo en un archivo."
      ],
      "metadata": {
        "id": "qXp2XRdaD0WH"
      }
    },
    {
      "cell_type": "code",
      "source": [
        "# 3. Guardar los parámetros del modelo\n",
        "torch.save(net.state_dict(), 'net.params')"
      ],
      "metadata": {
        "id": "YyBywsyfD3Ub"
      },
      "execution_count": 61,
      "outputs": []
    },
    {
      "cell_type": "markdown",
      "source": [
        "4. Carga los parámetros desde el archivo a una nueva instancia de MyCustomNet."
      ],
      "metadata": {
        "id": "WrFjz-36D62a"
      }
    },
    {
      "cell_type": "code",
      "source": [
        "# 4. Cargar los parámetros en una nueva instancia\n",
        "clone = MyCustomNet()\n",
        "clone.load_state_dict(torch.load('net.params'))"
      ],
      "metadata": {
        "id": "Fc6n_yE0D5lO",
        "outputId": "1f1ccfa6-3990-4954-c62c-507d1d91022e",
        "colab": {
          "base_uri": "https://localhost:8080/"
        }
      },
      "execution_count": 63,
      "outputs": [
        {
          "output_type": "execute_result",
          "data": {
            "text/plain": [
              "<All keys matched successfully>"
            ]
          },
          "metadata": {},
          "execution_count": 63
        }
      ]
    },
    {
      "cell_type": "markdown",
      "source": [
        "5. Evalúa el modelo cloned_net utilizando un tensor de entrada ficticio de dimensiones adecuadas. Recuerda llamar al método eval antes de pasar cualquier dato a través del modelo para asegurarte de que la red está en modo de evaluación."
      ],
      "metadata": {
        "id": "PB2YwZn3D_iV"
      }
    },
    {
      "cell_type": "code",
      "source": [
        "# 5. Evaluar el modelo clonado\n",
        "clone.eval()"
      ],
      "metadata": {
        "id": "F8J2z6kMEDnq",
        "outputId": "41a7b1b9-0066-44bf-813b-9066d6529e2e",
        "colab": {
          "base_uri": "https://localhost:8080/"
        }
      },
      "execution_count": 64,
      "outputs": [
        {
          "output_type": "execute_result",
          "data": {
            "text/plain": [
              "MyCustomNet(\n",
              "  (hidden1): MyLinear()\n",
              "  (hidden2): CenteredLayer()\n",
              "  (output): MyLinear()\n",
              ")"
            ]
          },
          "metadata": {},
          "execution_count": 64
        }
      ]
    },
    {
      "cell_type": "markdown",
      "source": [
        "6. Imprime los pesos y bias de la primera capa lineal del modelo clonado. Son iguales a los de la red original?"
      ],
      "metadata": {
        "id": "z3Wl_VE4EGnK"
      }
    },
    {
      "cell_type": "code",
      "source": [
        "# 6. Imprimir los pesos y bias de la primera capa lineal\n",
        "\n",
        "print(\"pesos primer capa \\n\", net._modules['hidden1'].weight.data, \"\\n\")\n",
        "print(\"bias primer capa \\n\",  net._modules['hidden1'].bias.data, \"\\n\")"
      ],
      "metadata": {
        "id": "7jQTmeGdhV1c",
        "outputId": "8dab39ba-d503-4a2e-9fc3-3e717073aeeb",
        "colab": {
          "base_uri": "https://localhost:8080/"
        }
      },
      "execution_count": 68,
      "outputs": [
        {
          "output_type": "stream",
          "name": "stdout",
          "text": [
            "pesos primer capa \n",
            " tensor([[-1.3080e+00, -1.0253e+00,  1.4961e-01, -7.1866e-01,  1.3914e+00,\n",
            "          1.0232e+00,  4.4261e-01,  5.0584e-01, -1.6189e+00,  2.2112e-01,\n",
            "          2.3416e-02, -9.6936e-01,  2.9629e-01,  1.6683e-01, -4.3601e-01,\n",
            "         -1.3189e+00, -3.1725e-01,  3.9147e-01, -2.0089e+00, -7.8559e-03],\n",
            "        [ 1.4731e+00,  1.2827e+00,  4.4902e-01,  1.3625e-01,  1.1962e+00,\n",
            "          8.3547e-01, -9.6020e-02, -1.1153e+00,  1.4132e+00, -8.1999e-01,\n",
            "         -2.9014e-01,  2.8460e-01, -1.8180e-01,  7.2537e-01, -3.8369e-01,\n",
            "         -4.3370e-02, -2.4077e+00, -5.1402e-01,  1.4732e+00, -2.0842e+00],\n",
            "        [ 5.4577e-01, -1.0409e+00, -4.8822e-01,  2.3097e+00,  8.8667e-01,\n",
            "          3.5133e-02, -8.9454e-01, -2.6321e+00, -9.2030e-01,  1.6322e+00,\n",
            "          3.6203e-02,  5.1434e-01,  6.7752e-01,  1.7216e+00, -2.4655e-03,\n",
            "         -8.1402e-01, -5.4561e-01,  3.5320e-01,  5.4876e-01, -1.2570e-01],\n",
            "        [ 1.6277e+00,  1.0455e+00,  7.7089e-01, -8.1825e-01,  1.0809e+00,\n",
            "         -1.1305e+00, -4.4658e-01, -2.2911e-01, -3.6378e-02,  1.8610e-01,\n",
            "          6.5861e-01,  9.2013e-01,  1.3051e+00, -2.2683e-01, -6.2652e-01,\n",
            "          4.6873e-01,  2.4952e-01,  1.8544e-01, -1.4778e+00, -1.5481e-01],\n",
            "        [ 5.1247e-01, -5.7813e-01,  3.2337e-01,  3.9939e-01, -8.8421e-01,\n",
            "         -5.7791e-01, -5.2740e-01,  9.2795e-01, -6.4095e-01, -6.4876e-01,\n",
            "          5.9245e-02, -5.4146e-01,  1.1357e+00,  2.4518e-01,  1.4551e+00,\n",
            "         -6.0438e-01,  1.2062e+00,  1.0023e+00,  4.8767e-02,  1.0078e+00],\n",
            "        [-7.5395e-01, -3.8986e-01,  6.6338e-02,  1.2871e+00,  1.5791e-01,\n",
            "          4.2121e-01, -6.5148e-01, -2.3218e+00, -1.3424e+00, -4.1105e-01,\n",
            "         -5.4454e-01, -8.5748e-01,  6.6543e-01, -2.9705e-01,  1.1840e+00,\n",
            "         -1.3867e-01,  5.5706e-01, -8.7973e-01,  7.2831e-01,  4.7737e-01],\n",
            "        [ 7.7900e-01, -5.8628e-01, -1.8679e+00,  2.8577e-01, -9.8862e-03,\n",
            "          1.2833e+00,  3.9310e-01,  3.3413e-01, -3.7955e-01, -2.3382e+00,\n",
            "         -4.1993e-01, -7.2921e-01,  1.4980e+00,  1.4867e+00, -3.8455e-01,\n",
            "         -1.4152e+00,  7.9898e-01,  1.4070e+00, -3.2355e-01,  8.7094e-01],\n",
            "        [ 9.1798e-01, -1.6558e+00,  7.7556e-01,  7.9362e-02, -1.0142e+00,\n",
            "          7.4545e-01, -1.0499e+00,  1.8295e+00,  3.0388e-01,  1.8670e-01,\n",
            "         -1.3058e+00,  2.2093e-01,  1.5766e+00, -3.1553e-01, -2.2647e+00,\n",
            "         -2.3797e-01,  1.2211e+00,  4.0166e-01,  1.1486e+00, -2.5298e-01],\n",
            "        [ 1.0016e+00, -1.3100e+00,  6.5979e-01, -9.2845e-01, -6.2839e-01,\n",
            "         -4.5366e-01, -2.8885e+00,  2.9715e-01, -9.3819e-01,  8.1910e-01,\n",
            "         -1.5880e+00, -1.1251e+00,  7.0792e-01,  6.8951e-01,  2.2023e+00,\n",
            "          2.2020e-01,  5.0430e-01, -1.9340e-01, -6.3000e-02, -7.3244e-01],\n",
            "        [-1.3925e+00, -1.0585e+00, -1.2594e+00,  8.0121e-01,  9.0003e-01,\n",
            "          7.0042e-01,  1.9409e-02,  3.9585e-01,  3.2684e-01,  8.7772e-01,\n",
            "         -6.9891e-01, -2.1098e+00,  2.0781e+00,  7.7990e-01, -1.2007e+00,\n",
            "          1.4935e+00, -1.6417e+00,  3.2833e+00, -8.4070e-01, -5.4195e-01]]) \n",
            "\n",
            "bias primer capa \n",
            " tensor([-1.8357, -0.1681,  0.1868, -2.5579,  0.3240, -0.3998,  0.1914,  0.8371,\n",
            "        -0.3183, -0.2737, -1.9954,  0.0127,  0.6367, -0.8643,  0.1373,  2.4844,\n",
            "         0.4118,  0.6247, -0.3988, -0.2482]) \n",
            "\n"
          ]
        }
      ]
    }
  ]
}